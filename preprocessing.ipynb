{
 "cells": [
  {
   "cell_type": "markdown",
   "metadata": {},
   "source": [
    "# Predykcja zamknięcia firm z branży automotive w trakcie pandemii (małopolska) na podstawie danych z rejestru centralnej ewidencji działalności gospodarczej\n",
    "\n",
    "### Cel\n",
    "Celem projektu jest przygotowanie danych i porównanie płytkich oraz głębokich modeli uczenia maszynowego dla otrzymanego zbioru danych.\n"
   ]
  },
  {
   "cell_type": "code",
   "execution_count": 1,
   "metadata": {},
   "outputs": [],
   "source": [
    "import pandas as pd\n",
    "import numpy as np\n",
    "import matplotlib.pyplot as plt\n",
    "import json\n",
    "import csv\n",
    "import glob"
   ]
  },
  {
   "cell_type": "markdown",
   "metadata": {},
   "source": [
    "### PKD - Polska Klasyfikacja Działalności\n",
    "\n",
    "W projekcie będziemy analizowali dane dla firm z następującymi kodami *pkd*:\n",
    "- 2712Z - Produkcja aparatury rozdzielczej i sterowniczej energii elektrycznej\n",
    "- 2790Z - Produkcja pozostałego sprzętu elektrycznego\n",
    "- 2841Z - Produkcja maszyn do obróbki metalu\n",
    "- 2899Z - Produkcja pozostałych maszyn specjalnego przeznaczenia, gdzie indziej niesklasyfikowana\n",
    "- 3312Z - Naprawa i konserwacja maszyn\n",
    "- 3320Z - Instalowanie maszyn przemysłowych, sprzętu i wyposażenia\n",
    "- 4321Z - Wykonywanie instalacji elektrycznych"
   ]
  },
  {
   "cell_type": "code",
   "execution_count": 2,
   "metadata": {},
   "outputs": [],
   "source": [
    "pkd_bazowe = ['2712Z', '2790Z', '2841Z', '2899Z', '3312Z', '3320Z', '4321Z']"
   ]
  },
  {
   "cell_type": "code",
   "execution_count": 3,
   "metadata": {},
   "outputs": [],
   "source": [
    "csv_columns = ['nazwa','adresDzialanosci_gmina',\n",
    "'adresDzialanosci_miasto', 'wlasciciel_imie', 'wlasciciel_nazwisko',\n",
    "'2712Z', '2790Z', '2841Z', '2899Z', '3312Z', '3320Z', '4321Z',\n",
    "'pkd_total', 'data_rozpoczecia', 'data_zakonczenia','data_wykreslenia', 'status']\n",
    "\n",
    "with open('./data/data.csv', \"w\", newline='', encoding=\"utf8\") as output:\n",
    "    writer = csv.DictWriter(output, fieldnames=csv_columns)\n",
    "    writer.writeheader()\n",
    "\n",
    "    for f_path in glob.glob('./UJ/ceidg/firmy/12/**/*.json'):\n",
    "        with open(f_path, encoding=\"utf8\") as f:\n",
    "            data = json.load(f)\n",
    "            data_output = dict()\n",
    "\n",
    "            try:\n",
    "                data_output['nazwa'] = data['firma'][0]['nazwa']\n",
    "            except:\n",
    "                data_output['nazwa'] = \"NaN\"\n",
    "            \n",
    "            try:\n",
    "                data_output['adresDzialanosci_gmina'] = data['firma'][0]['adresDzialanosci']['gmina']\n",
    "            except:\n",
    "                data_output['adresDzialanosci_gmina'] = \"NaN\"\n",
    "            \n",
    "            try:\n",
    "                data_output['adresDzialanosci_miasto'] = data['firma'][0]['adresDzialanosci']['miasto']\n",
    "            except:\n",
    "                data_output['adresDzialanosci_miasto'] = \"NaN\"\n",
    "\n",
    "            try:\n",
    "                data_output['wlasciciel_imie'] = data['firma'][0]['wlasciciel']['imie']\n",
    "            except:\n",
    "                data_output['wlasciciel_imie'] = \"NaN\"\n",
    "            \n",
    "            try:\n",
    "                data_output['wlasciciel_nazwisko'] = data['firma'][0]['wlasciciel']['nazwisko']\n",
    "            except:\n",
    "                data_output['wlasciciel_nazwisko'] = \"NaN\"\n",
    "\n",
    "\n",
    "            pkd = []\n",
    "            try:\n",
    "                pkd.append(data['firma'][0]['pkdGlowny'])\n",
    "            except:\n",
    "                pass\n",
    "            try:\n",
    "                pkd += data['firma'][0]['pkd']\n",
    "            except:\n",
    "                pass\n",
    "            pkd = set(pkd)\n",
    "\n",
    "            for pkd_baz in pkd_bazowe:\n",
    "                if pkd_baz in pkd:\n",
    "                    data_output[pkd_baz] = \"1\"\n",
    "                else:\n",
    "                    data_output[pkd_baz] = \"0\"\n",
    "\n",
    "            data_output['pkd_total'] = len(pkd)\n",
    "\n",
    "\n",
    "            try:\n",
    "                data_output['data_rozpoczecia'] = data['firma'][0]['dataRozpoczecia']\n",
    "            except:\n",
    "                data_output['data_rozpoczecia'] = \"NaN\"\n",
    "\n",
    "            try:\n",
    "                data_output['data_zakonczenia'] = data['firma'][0]['dataZakonczenia']\n",
    "            except:\n",
    "                data_output['data_zakonczenia'] = \"NaN\"\n",
    "\n",
    "            try:\n",
    "                data_output['data_wykreslenia'] = data['firma'][0]['dataWykreslenia']\n",
    "            except:\n",
    "                data_output['data_wykreslenia'] = \"NaN\"\n",
    "\n",
    "            try:\n",
    "                data_output['status'] = data['firma'][0]['status']\n",
    "            except:\n",
    "                data_output['status'] = \"NaN\"\n",
    "\n",
    "\n",
    "            writer.writerow(data_output)"
   ]
  },
  {
   "cell_type": "code",
   "execution_count": 29,
   "metadata": {},
   "outputs": [],
   "source": [
    "df = pd.read_csv('./data/data.csv')"
   ]
  },
  {
   "cell_type": "code",
   "execution_count": 30,
   "metadata": {},
   "outputs": [
    {
     "name": "stdout",
     "output_type": "stream",
     "text": [
      "(67550, 17)\n"
     ]
    }
   ],
   "source": [
    "print(df.shape)"
   ]
  },
  {
   "cell_type": "code",
   "execution_count": 31,
   "metadata": {},
   "outputs": [
    {
     "data": {
      "text/html": [
       "<div>\n",
       "<style scoped>\n",
       "    .dataframe tbody tr th:only-of-type {\n",
       "        vertical-align: middle;\n",
       "    }\n",
       "\n",
       "    .dataframe tbody tr th {\n",
       "        vertical-align: top;\n",
       "    }\n",
       "\n",
       "    .dataframe thead th {\n",
       "        text-align: right;\n",
       "    }\n",
       "</style>\n",
       "<table border=\"1\" class=\"dataframe\">\n",
       "  <thead>\n",
       "    <tr style=\"text-align: right;\">\n",
       "      <th></th>\n",
       "      <th>nazwa</th>\n",
       "      <th>adresDzialanosci_gmina</th>\n",
       "      <th>adresDzialanosci_miasto</th>\n",
       "      <th>wlasciciel_imie</th>\n",
       "      <th>wlasciciel_nazwisko</th>\n",
       "      <th>2712Z</th>\n",
       "      <th>2790Z</th>\n",
       "      <th>2841Z</th>\n",
       "      <th>2899Z</th>\n",
       "      <th>3312Z</th>\n",
       "      <th>3320Z</th>\n",
       "      <th>4321Z</th>\n",
       "      <th>pkd_total</th>\n",
       "      <th>data_rozpoczecia</th>\n",
       "      <th>data_zakonczenia</th>\n",
       "      <th>data_wykreslenia</th>\n",
       "      <th>status</th>\n",
       "    </tr>\n",
       "  </thead>\n",
       "  <tbody>\n",
       "    <tr>\n",
       "      <th>43893</th>\n",
       "      <td>ROMAN SZĘDZIELORZ NEWT SOFTWARE</td>\n",
       "      <td>Wieliczka</td>\n",
       "      <td>Lednica Górna</td>\n",
       "      <td>ROMAN</td>\n",
       "      <td>SZĘDZIELORZ</td>\n",
       "      <td>0</td>\n",
       "      <td>0</td>\n",
       "      <td>0</td>\n",
       "      <td>0</td>\n",
       "      <td>0</td>\n",
       "      <td>0</td>\n",
       "      <td>1</td>\n",
       "      <td>26</td>\n",
       "      <td>2011-02-01</td>\n",
       "      <td>NaN</td>\n",
       "      <td>NaN</td>\n",
       "      <td>AKTYWNY</td>\n",
       "    </tr>\n",
       "    <tr>\n",
       "      <th>27447</th>\n",
       "      <td>Daniel Jachymiak DANTE</td>\n",
       "      <td>Nowy Targ</td>\n",
       "      <td>Ludźmierz</td>\n",
       "      <td>Daniel</td>\n",
       "      <td>Jachymiak</td>\n",
       "      <td>0</td>\n",
       "      <td>0</td>\n",
       "      <td>0</td>\n",
       "      <td>0</td>\n",
       "      <td>0</td>\n",
       "      <td>0</td>\n",
       "      <td>1</td>\n",
       "      <td>18</td>\n",
       "      <td>2012-05-08</td>\n",
       "      <td>2014-03-06</td>\n",
       "      <td>2014-03-11</td>\n",
       "      <td>WYKRESLONY</td>\n",
       "    </tr>\n",
       "    <tr>\n",
       "      <th>2816</th>\n",
       "      <td>Sebastian Wolf WS-BUD INNOWACYJNE SYSTEMY NATR...</td>\n",
       "      <td>Brzeg</td>\n",
       "      <td>Brzeg</td>\n",
       "      <td>Sebastian</td>\n",
       "      <td>Wolf</td>\n",
       "      <td>0</td>\n",
       "      <td>0</td>\n",
       "      <td>0</td>\n",
       "      <td>0</td>\n",
       "      <td>0</td>\n",
       "      <td>0</td>\n",
       "      <td>1</td>\n",
       "      <td>8</td>\n",
       "      <td>2012-10-18</td>\n",
       "      <td>NaN</td>\n",
       "      <td>NaN</td>\n",
       "      <td>AKTYWNY</td>\n",
       "    </tr>\n",
       "  </tbody>\n",
       "</table>\n",
       "</div>"
      ],
      "text/plain": [
       "                                                   nazwa  \\\n",
       "43893                    ROMAN SZĘDZIELORZ NEWT SOFTWARE   \n",
       "27447                             Daniel Jachymiak DANTE   \n",
       "2816   Sebastian Wolf WS-BUD INNOWACYJNE SYSTEMY NATR...   \n",
       "\n",
       "      adresDzialanosci_gmina adresDzialanosci_miasto wlasciciel_imie  \\\n",
       "43893              Wieliczka           Lednica Górna           ROMAN   \n",
       "27447              Nowy Targ               Ludźmierz          Daniel   \n",
       "2816                   Brzeg                   Brzeg       Sebastian   \n",
       "\n",
       "      wlasciciel_nazwisko  2712Z  2790Z  2841Z  2899Z  3312Z  3320Z  4321Z  \\\n",
       "43893         SZĘDZIELORZ      0      0      0      0      0      0      1   \n",
       "27447           Jachymiak      0      0      0      0      0      0      1   \n",
       "2816                 Wolf      0      0      0      0      0      0      1   \n",
       "\n",
       "       pkd_total data_rozpoczecia data_zakonczenia data_wykreslenia  \\\n",
       "43893         26       2011-02-01              NaN              NaN   \n",
       "27447         18       2012-05-08       2014-03-06       2014-03-11   \n",
       "2816           8       2012-10-18              NaN              NaN   \n",
       "\n",
       "           status  \n",
       "43893     AKTYWNY  \n",
       "27447  WYKRESLONY  \n",
       "2816      AKTYWNY  "
      ]
     },
     "execution_count": 31,
     "metadata": {},
     "output_type": "execute_result"
    }
   ],
   "source": [
    "df.sample(3)"
   ]
  },
  {
   "cell_type": "code",
   "execution_count": 32,
   "metadata": {},
   "outputs": [
    {
     "data": {
      "text/plain": [
       "Index(['nazwa', 'adresDzialanosci_gmina', 'adresDzialanosci_miasto',\n",
       "       'wlasciciel_imie', 'wlasciciel_nazwisko', '2712Z', '2790Z', '2841Z',\n",
       "       '2899Z', '3312Z', '3320Z', '4321Z', 'pkd_total', 'data_rozpoczecia',\n",
       "       'data_zakonczenia', 'data_wykreslenia', 'status'],\n",
       "      dtype='object')"
      ]
     },
     "execution_count": 32,
     "metadata": {},
     "output_type": "execute_result"
    }
   ],
   "source": [
    "df.columns"
   ]
  },
  {
   "cell_type": "code",
   "execution_count": 33,
   "metadata": {
    "scrolled": false
   },
   "outputs": [
    {
     "name": "stdout",
     "output_type": "stream",
     "text": [
      "<class 'pandas.core.frame.DataFrame'>\n",
      "RangeIndex: 67550 entries, 0 to 67549\n",
      "Data columns (total 17 columns):\n",
      " #   Column                   Non-Null Count  Dtype \n",
      "---  ------                   --------------  ----- \n",
      " 0   nazwa                    67068 non-null  object\n",
      " 1   adresDzialanosci_gmina   67064 non-null  object\n",
      " 2   adresDzialanosci_miasto  67056 non-null  object\n",
      " 3   wlasciciel_imie          67068 non-null  object\n",
      " 4   wlasciciel_nazwisko      67068 non-null  object\n",
      " 5   2712Z                    67550 non-null  int64 \n",
      " 6   2790Z                    67550 non-null  int64 \n",
      " 7   2841Z                    67550 non-null  int64 \n",
      " 8   2899Z                    67550 non-null  int64 \n",
      " 9   3312Z                    67550 non-null  int64 \n",
      " 10  3320Z                    67550 non-null  int64 \n",
      " 11  4321Z                    67550 non-null  int64 \n",
      " 12  pkd_total                67550 non-null  int64 \n",
      " 13  data_rozpoczecia         67068 non-null  object\n",
      " 14  data_zakonczenia         19268 non-null  object\n",
      " 15  data_wykreslenia         24454 non-null  object\n",
      " 16  status                   67068 non-null  object\n",
      "dtypes: int64(8), object(9)\n",
      "memory usage: 8.8+ MB\n"
     ]
    }
   ],
   "source": [
    "df.info()"
   ]
  },
  {
   "cell_type": "markdown",
   "metadata": {},
   "source": [
    "Z dataframe usuwamy kolumny nazwa oraz dane wlasciciela (imie, nazwisko).\n",
    "\n",
    "W glębszej analizie moglibysmy zostawic kolumne nazwa, aby analizowac takze nazwy firm (dlugosc, popularnosc slow itp., lecz na ten moment zaimplementujemy prostsza wersje).\n",
    "\n",
    "Interesujacym elementem do predykcji moglby byc wlasciciel w kontekscie ilosci posiadanych firm, aczkolwiek w naszych danych zdecydowana wiekszosc firm to jednoosobowe dzialalnosci gospodarcze (tylko jedna na osobe)."
   ]
  },
  {
   "cell_type": "code",
   "execution_count": 34,
   "metadata": {
    "scrolled": true
   },
   "outputs": [
    {
     "data": {
      "text/plain": [
       "Index(['adresDzialanosci_gmina', 'adresDzialanosci_miasto', '2712Z', '2790Z',\n",
       "       '2841Z', '2899Z', '3312Z', '3320Z', '4321Z', 'pkd_total',\n",
       "       'data_rozpoczecia', 'data_zakonczenia', 'data_wykreslenia', 'status'],\n",
       "      dtype='object')"
      ]
     },
     "execution_count": 34,
     "metadata": {},
     "output_type": "execute_result"
    }
   ],
   "source": [
    "df.drop(['nazwa', 'wlasciciel_imie', 'wlasciciel_nazwisko'], inplace=True, axis=1)\n",
    "df.columns"
   ]
  },
  {
   "cell_type": "code",
   "execution_count": 35,
   "metadata": {},
   "outputs": [
    {
     "data": {
      "text/html": [
       "<div>\n",
       "<style scoped>\n",
       "    .dataframe tbody tr th:only-of-type {\n",
       "        vertical-align: middle;\n",
       "    }\n",
       "\n",
       "    .dataframe tbody tr th {\n",
       "        vertical-align: top;\n",
       "    }\n",
       "\n",
       "    .dataframe thead th {\n",
       "        text-align: right;\n",
       "    }\n",
       "</style>\n",
       "<table border=\"1\" class=\"dataframe\">\n",
       "  <thead>\n",
       "    <tr style=\"text-align: right;\">\n",
       "      <th></th>\n",
       "      <th>adresDzialanosci_gmina</th>\n",
       "      <th>adresDzialanosci_miasto</th>\n",
       "      <th>2712Z</th>\n",
       "      <th>2790Z</th>\n",
       "      <th>2841Z</th>\n",
       "      <th>2899Z</th>\n",
       "      <th>3312Z</th>\n",
       "      <th>3320Z</th>\n",
       "      <th>4321Z</th>\n",
       "      <th>pkd_total</th>\n",
       "      <th>data_rozpoczecia</th>\n",
       "      <th>data_zakonczenia</th>\n",
       "      <th>data_wykreslenia</th>\n",
       "      <th>status</th>\n",
       "    </tr>\n",
       "  </thead>\n",
       "  <tbody>\n",
       "    <tr>\n",
       "      <th>49844</th>\n",
       "      <td>Kraków-Nowa Huta</td>\n",
       "      <td>Kraków</td>\n",
       "      <td>0</td>\n",
       "      <td>0</td>\n",
       "      <td>0</td>\n",
       "      <td>0</td>\n",
       "      <td>1</td>\n",
       "      <td>1</td>\n",
       "      <td>0</td>\n",
       "      <td>29</td>\n",
       "      <td>1991-03-01</td>\n",
       "      <td>2014-11-30</td>\n",
       "      <td>2014-12-04</td>\n",
       "      <td>WYKRESLONY</td>\n",
       "    </tr>\n",
       "    <tr>\n",
       "      <th>31816</th>\n",
       "      <td>Chełmek</td>\n",
       "      <td>Bobrek</td>\n",
       "      <td>0</td>\n",
       "      <td>0</td>\n",
       "      <td>0</td>\n",
       "      <td>0</td>\n",
       "      <td>0</td>\n",
       "      <td>0</td>\n",
       "      <td>1</td>\n",
       "      <td>4</td>\n",
       "      <td>1992-05-04</td>\n",
       "      <td>NaN</td>\n",
       "      <td>NaN</td>\n",
       "      <td>AKTYWNY</td>\n",
       "    </tr>\n",
       "    <tr>\n",
       "      <th>37193</th>\n",
       "      <td>Tarnów</td>\n",
       "      <td>Koszyce Małe</td>\n",
       "      <td>0</td>\n",
       "      <td>0</td>\n",
       "      <td>0</td>\n",
       "      <td>0</td>\n",
       "      <td>0</td>\n",
       "      <td>0</td>\n",
       "      <td>1</td>\n",
       "      <td>19</td>\n",
       "      <td>2018-11-26</td>\n",
       "      <td>NaN</td>\n",
       "      <td>NaN</td>\n",
       "      <td>AKTYWNY</td>\n",
       "    </tr>\n",
       "  </tbody>\n",
       "</table>\n",
       "</div>"
      ],
      "text/plain": [
       "      adresDzialanosci_gmina adresDzialanosci_miasto  2712Z  2790Z  2841Z  \\\n",
       "49844       Kraków-Nowa Huta                  Kraków      0      0      0   \n",
       "31816                Chełmek                  Bobrek      0      0      0   \n",
       "37193                 Tarnów            Koszyce Małe      0      0      0   \n",
       "\n",
       "       2899Z  3312Z  3320Z  4321Z  pkd_total data_rozpoczecia  \\\n",
       "49844      0      1      1      0         29       1991-03-01   \n",
       "31816      0      0      0      1          4       1992-05-04   \n",
       "37193      0      0      0      1         19       2018-11-26   \n",
       "\n",
       "      data_zakonczenia data_wykreslenia      status  \n",
       "49844       2014-11-30       2014-12-04  WYKRESLONY  \n",
       "31816              NaN              NaN     AKTYWNY  \n",
       "37193              NaN              NaN     AKTYWNY  "
      ]
     },
     "execution_count": 35,
     "metadata": {},
     "output_type": "execute_result"
    }
   ],
   "source": [
    "df.sample(3)"
   ]
  },
  {
   "cell_type": "code",
   "execution_count": 36,
   "metadata": {},
   "outputs": [
    {
     "data": {
      "text/plain": [
       "<AxesSubplot:xlabel='status'>"
      ]
     },
     "execution_count": 36,
     "metadata": {},
     "output_type": "execute_result"
    },
    {
     "data": {
      "image/png": "[encoded data removed]",
      "text/plain": [
       "<Figure size 432x288 with 1 Axes>"
      ]
     },
     "metadata": {
      "needs_background": "light"
     },
     "output_type": "display_data"
    }
   ],
   "source": [
    "status = df.groupby(['status']).size()\n",
    "status.plot(kind=\"bar\")"
   ]
  },
  {
   "cell_type": "markdown",
   "metadata": {},
   "source": [
    "Z dataframe usuwamy takze wiersze, w ktorych w kolumnie status znajduja sie inne wartosci niz:\n",
    "- aktywny\n",
    "- wykreslony\n",
    "- zawieszony\n",
    "\n",
    "Z zalozenia projektu, beda to jedyne wartosci, ktore nas interesuja"
   ]
  },
  {
   "cell_type": "code",
   "execution_count": 37,
   "metadata": {},
   "outputs": [
    {
     "data": {
      "text/plain": [
       "<AxesSubplot:xlabel='status'>"
      ]
     },
     "execution_count": 37,
     "metadata": {},
     "output_type": "execute_result"
    },
    {
     "data": {
      "image/png": "[encoded data removed]",
      "text/plain": [
       "<Figure size 432x288 with 1 Axes>"
      ]
     },
     "metadata": {
      "needs_background": "light"
     },
     "output_type": "display_data"
    }
   ],
   "source": [
    "df = df[(df['status'] != 'WYLACZNIE_W_FORMIE_SPOLKI') & (df['status'] != 'OCZEKUJE_NA_ROZPOCZECIE_DZIALANOSCI')]\n",
    "\n",
    "status = df.groupby(['status']).size()\n",
    "status.plot(kind=\"bar\")"
   ]
  },
  {
   "cell_type": "code",
   "execution_count": 38,
   "metadata": {},
   "outputs": [
    {
     "data": {
      "text/plain": [
       "<AxesSubplot:xlabel='adresDzialanosci_gmina'>"
      ]
     },
     "execution_count": 38,
     "metadata": {},
     "output_type": "execute_result"
    },
    {
     "data": {
      "image/png": "[encoded data removed]",
      "text/plain": [
       "<Figure size 432x288 with 1 Axes>"
      ]
     },
     "metadata": {
      "needs_background": "light"
     },
     "output_type": "display_data"
    }
   ],
   "source": [
    "gminy = df.groupby(['adresDzialanosci_gmina']).size()\n",
    "\n",
    "gminy = gminy.where(gminy > 430)\n",
    "gminy = gminy.dropna()\n",
    "gminy.plot(kind=\"bar\")"
   ]
  },
  {
   "cell_type": "code",
   "execution_count": 39,
   "metadata": {},
   "outputs": [],
   "source": [
    "df['data_rozpoczecia'] = pd.to_datetime(df['data_rozpoczecia'])\n",
    "df['data_zakonczenia'] = pd.to_datetime(df['data_zakonczenia'])\n",
    "df['data_wykreslenia'] = pd.to_datetime(df['data_wykreslenia'])\n",
    "\n",
    "lata_rozpoczecia = df.groupby(df['data_rozpoczecia'].map(lambda x: x.year)).size()\n",
    "lata_zakonczenia = df.groupby(df['data_zakonczenia'].map(lambda x: x.year)).size()\n",
    "lata_wykreslenia = df.groupby(df['data_wykreslenia'].map(lambda x: x.year)).size()"
   ]
  },
  {
   "cell_type": "code",
   "execution_count": 40,
   "metadata": {},
   "outputs": [
    {
     "data": {
      "text/plain": [
       "<matplotlib.legend.Legend at 0x1cd24a56430>"
      ]
     },
     "execution_count": 40,
     "metadata": {},
     "output_type": "execute_result"
    },
    {
     "data": {
      "image/png": "[encoded data removed]",
      "text/plain": [
       "<Figure size 432x288 with 1 Axes>"
      ]
     },
     "metadata": {
      "needs_background": "light"
     },
     "output_type": "display_data"
    }
   ],
   "source": [
    "plt.title('ilosc zakladanych, zawieszanych i wykreslanych firm w latach:')\n",
    "\n",
    "lata_rozpoczecia.plot(label='rozpoczecie')\n",
    "lata_zakonczenia.plot(label='zawieszenie')\n",
    "lata_wykreslenia.plot(label='wykreslenie')\n",
    "\n",
    "plt.xlim(left=1980)\n",
    "plt.ylabel('ilosc firm')\n",
    "plt.xlabel('rok')\n",
    "plt.legend()"
   ]
  },
  {
   "cell_type": "code",
   "execution_count": 41,
   "metadata": {},
   "outputs": [
    {
     "data": {
      "text/plain": [
       "<AxesSubplot:title={'center':'stosunek zakladanych firm do zamykanych'}, xlabel='rok', ylabel='ilosc firm (roznica)'>"
      ]
     },
     "execution_count": 41,
     "metadata": {},
     "output_type": "execute_result"
    },
    {
     "data": {
      "image/png": "[encoded data removed]",
      "text/plain": [
       "<Figure size 432x288 with 1 Axes>"
      ]
     },
     "metadata": {
      "needs_background": "light"
     },
     "output_type": "display_data"
    }
   ],
   "source": [
    "plt.title('stosunek zakladanych firm do zamykanych')\n",
    "\n",
    "lata_roznice = lata_rozpoczecia - lata_zakonczenia\n",
    "\n",
    "plt.xlabel('rok')\n",
    "plt.ylabel('ilosc firm (roznica)')\n",
    "\n",
    "lata_roznice.plot()"
   ]
  },
  {
   "cell_type": "markdown",
   "metadata": {},
   "source": [
    "Usuwanie firm, które zamknęły się wcześniej niż covid"
   ]
  },
  {
   "cell_type": "code",
   "execution_count": 42,
   "metadata": {},
   "outputs": [],
   "source": [
    "df['data_zakonczenia'] = pd.to_datetime(df['data_zakonczenia'])\n",
    "\n",
    "index_names = df[df['data_zakonczenia'].dt.year < 2019].index\n",
    "\n",
    "df.drop(index_names, inplace = True)"
   ]
  },
  {
   "cell_type": "code",
   "execution_count": 43,
   "metadata": {
    "scrolled": true
   },
   "outputs": [
    {
     "data": {
      "text/plain": [
       "(50035, 14)"
      ]
     },
     "execution_count": 43,
     "metadata": {},
     "output_type": "execute_result"
    }
   ],
   "source": [
    "df.shape"
   ]
  },
  {
   "cell_type": "markdown",
   "metadata": {},
   "source": [
    "## Predykcja\n",
    "\n",
    "W tym projekcie bedziemy starali sie przewidywac, czy firma, o konkretnych atrybutach (ktorych kazda jednoosobowa dzialalnosc gospodarcza posiada) przetrwalaby pandemie koronawirusa. To znaczy, czy zostalaby zamknieta/zawieszona w latach 2019-dzisiaj"
   ]
  },
  {
   "cell_type": "code",
   "execution_count": 44,
   "metadata": {},
   "outputs": [],
   "source": [
    "df['data_wykreslenia'] = pd.to_datetime(df['data_wykreslenia'])\n",
    "\n",
    "df['zamkniete_przez_covid'] = 0\n",
    "\n",
    "df.loc[(df['data_zakonczenia'].dt.year >= 2019) | (df['data_wykreslenia'].dt.year >= 2019), 'zamkniete_przez_covid'] = 1"
   ]
  },
  {
   "cell_type": "code",
   "execution_count": 45,
   "metadata": {},
   "outputs": [],
   "source": [
    "ilosc_firm_zamknietych_przez_covid = df['zamkniete_przez_covid'].sum() \n",
    "ilosc_firm_aktywnych_pomimo_covid = df.shape[0] - ilosc_firm_zamknietych_przez_covid"
   ]
  },
  {
   "cell_type": "code",
   "execution_count": 46,
   "metadata": {},
   "outputs": [
    {
     "name": "stdout",
     "output_type": "stream",
     "text": [
      "4923\n",
      "45112\n"
     ]
    }
   ],
   "source": [
    "print(ilosc_firm_zamknietych_przez_covid)\n",
    "print(ilosc_firm_aktywnych_pomimo_covid)"
   ]
  },
  {
   "cell_type": "code",
   "execution_count": 47,
   "metadata": {},
   "outputs": [
    {
     "data": {
      "text/html": [
       "<div>\n",
       "<style scoped>\n",
       "    .dataframe tbody tr th:only-of-type {\n",
       "        vertical-align: middle;\n",
       "    }\n",
       "\n",
       "    .dataframe tbody tr th {\n",
       "        vertical-align: top;\n",
       "    }\n",
       "\n",
       "    .dataframe thead th {\n",
       "        text-align: right;\n",
       "    }\n",
       "</style>\n",
       "<table border=\"1\" class=\"dataframe\">\n",
       "  <thead>\n",
       "    <tr style=\"text-align: right;\">\n",
       "      <th></th>\n",
       "      <th>adresDzialanosci_gmina</th>\n",
       "      <th>adresDzialanosci_miasto</th>\n",
       "      <th>2712Z</th>\n",
       "      <th>2790Z</th>\n",
       "      <th>2841Z</th>\n",
       "      <th>2899Z</th>\n",
       "      <th>3312Z</th>\n",
       "      <th>3320Z</th>\n",
       "      <th>4321Z</th>\n",
       "      <th>pkd_total</th>\n",
       "      <th>data_rozpoczecia</th>\n",
       "      <th>data_zakonczenia</th>\n",
       "      <th>data_wykreslenia</th>\n",
       "      <th>status</th>\n",
       "      <th>zamkniete_przez_covid</th>\n",
       "    </tr>\n",
       "  </thead>\n",
       "  <tbody>\n",
       "    <tr>\n",
       "      <th>0</th>\n",
       "      <td>Bochnia</td>\n",
       "      <td>Stanisławice</td>\n",
       "      <td>0</td>\n",
       "      <td>0</td>\n",
       "      <td>0</td>\n",
       "      <td>0</td>\n",
       "      <td>1</td>\n",
       "      <td>1</td>\n",
       "      <td>1</td>\n",
       "      <td>74</td>\n",
       "      <td>1989-10-10</td>\n",
       "      <td>NaT</td>\n",
       "      <td>NaT</td>\n",
       "      <td>AKTYWNY</td>\n",
       "      <td>0</td>\n",
       "    </tr>\n",
       "    <tr>\n",
       "      <th>3</th>\n",
       "      <td>Bochnia</td>\n",
       "      <td>Bochnia</td>\n",
       "      <td>0</td>\n",
       "      <td>0</td>\n",
       "      <td>0</td>\n",
       "      <td>0</td>\n",
       "      <td>0</td>\n",
       "      <td>0</td>\n",
       "      <td>1</td>\n",
       "      <td>19</td>\n",
       "      <td>1998-06-15</td>\n",
       "      <td>2021-10-31</td>\n",
       "      <td>2021-11-01</td>\n",
       "      <td>WYKRESLONY</td>\n",
       "      <td>1</td>\n",
       "    </tr>\n",
       "    <tr>\n",
       "      <th>4</th>\n",
       "      <td>Bochnia</td>\n",
       "      <td>Bochnia</td>\n",
       "      <td>0</td>\n",
       "      <td>0</td>\n",
       "      <td>0</td>\n",
       "      <td>0</td>\n",
       "      <td>1</td>\n",
       "      <td>0</td>\n",
       "      <td>1</td>\n",
       "      <td>20</td>\n",
       "      <td>2013-02-08</td>\n",
       "      <td>NaT</td>\n",
       "      <td>NaT</td>\n",
       "      <td>ZAWIESZONY</td>\n",
       "      <td>0</td>\n",
       "    </tr>\n",
       "    <tr>\n",
       "      <th>5</th>\n",
       "      <td>Nowy Wiśnicz</td>\n",
       "      <td>Nowy Wiśnicz</td>\n",
       "      <td>0</td>\n",
       "      <td>0</td>\n",
       "      <td>0</td>\n",
       "      <td>0</td>\n",
       "      <td>0</td>\n",
       "      <td>0</td>\n",
       "      <td>1</td>\n",
       "      <td>32</td>\n",
       "      <td>1988-09-07</td>\n",
       "      <td>NaT</td>\n",
       "      <td>NaT</td>\n",
       "      <td>AKTYWNY</td>\n",
       "      <td>0</td>\n",
       "    </tr>\n",
       "    <tr>\n",
       "      <th>6</th>\n",
       "      <td>Bochnia</td>\n",
       "      <td>Bochnia</td>\n",
       "      <td>0</td>\n",
       "      <td>0</td>\n",
       "      <td>0</td>\n",
       "      <td>0</td>\n",
       "      <td>0</td>\n",
       "      <td>0</td>\n",
       "      <td>0</td>\n",
       "      <td>35</td>\n",
       "      <td>1989-06-01</td>\n",
       "      <td>NaT</td>\n",
       "      <td>NaT</td>\n",
       "      <td>AKTYWNY</td>\n",
       "      <td>0</td>\n",
       "    </tr>\n",
       "    <tr>\n",
       "      <th>...</th>\n",
       "      <td>...</td>\n",
       "      <td>...</td>\n",
       "      <td>...</td>\n",
       "      <td>...</td>\n",
       "      <td>...</td>\n",
       "      <td>...</td>\n",
       "      <td>...</td>\n",
       "      <td>...</td>\n",
       "      <td>...</td>\n",
       "      <td>...</td>\n",
       "      <td>...</td>\n",
       "      <td>...</td>\n",
       "      <td>...</td>\n",
       "      <td>...</td>\n",
       "      <td>...</td>\n",
       "    </tr>\n",
       "    <tr>\n",
       "      <th>67545</th>\n",
       "      <td>NaN</td>\n",
       "      <td>NaN</td>\n",
       "      <td>0</td>\n",
       "      <td>0</td>\n",
       "      <td>0</td>\n",
       "      <td>0</td>\n",
       "      <td>0</td>\n",
       "      <td>0</td>\n",
       "      <td>0</td>\n",
       "      <td>0</td>\n",
       "      <td>NaT</td>\n",
       "      <td>NaT</td>\n",
       "      <td>NaT</td>\n",
       "      <td>NaN</td>\n",
       "      <td>0</td>\n",
       "    </tr>\n",
       "    <tr>\n",
       "      <th>67546</th>\n",
       "      <td>NaN</td>\n",
       "      <td>NaN</td>\n",
       "      <td>0</td>\n",
       "      <td>0</td>\n",
       "      <td>0</td>\n",
       "      <td>0</td>\n",
       "      <td>0</td>\n",
       "      <td>0</td>\n",
       "      <td>0</td>\n",
       "      <td>0</td>\n",
       "      <td>NaT</td>\n",
       "      <td>NaT</td>\n",
       "      <td>NaT</td>\n",
       "      <td>NaN</td>\n",
       "      <td>0</td>\n",
       "    </tr>\n",
       "    <tr>\n",
       "      <th>67547</th>\n",
       "      <td>NaN</td>\n",
       "      <td>NaN</td>\n",
       "      <td>0</td>\n",
       "      <td>0</td>\n",
       "      <td>0</td>\n",
       "      <td>0</td>\n",
       "      <td>0</td>\n",
       "      <td>0</td>\n",
       "      <td>0</td>\n",
       "      <td>0</td>\n",
       "      <td>NaT</td>\n",
       "      <td>NaT</td>\n",
       "      <td>NaT</td>\n",
       "      <td>NaN</td>\n",
       "      <td>0</td>\n",
       "    </tr>\n",
       "    <tr>\n",
       "      <th>67548</th>\n",
       "      <td>NaN</td>\n",
       "      <td>NaN</td>\n",
       "      <td>0</td>\n",
       "      <td>0</td>\n",
       "      <td>0</td>\n",
       "      <td>0</td>\n",
       "      <td>0</td>\n",
       "      <td>0</td>\n",
       "      <td>0</td>\n",
       "      <td>0</td>\n",
       "      <td>NaT</td>\n",
       "      <td>NaT</td>\n",
       "      <td>NaT</td>\n",
       "      <td>NaN</td>\n",
       "      <td>0</td>\n",
       "    </tr>\n",
       "    <tr>\n",
       "      <th>67549</th>\n",
       "      <td>NaN</td>\n",
       "      <td>NaN</td>\n",
       "      <td>0</td>\n",
       "      <td>0</td>\n",
       "      <td>0</td>\n",
       "      <td>0</td>\n",
       "      <td>0</td>\n",
       "      <td>0</td>\n",
       "      <td>0</td>\n",
       "      <td>0</td>\n",
       "      <td>NaT</td>\n",
       "      <td>NaT</td>\n",
       "      <td>NaT</td>\n",
       "      <td>NaN</td>\n",
       "      <td>0</td>\n",
       "    </tr>\n",
       "  </tbody>\n",
       "</table>\n",
       "<p>50035 rows × 15 columns</p>\n",
       "</div>"
      ],
      "text/plain": [
       "      adresDzialanosci_gmina adresDzialanosci_miasto  2712Z  2790Z  2841Z  \\\n",
       "0                    Bochnia            Stanisławice      0      0      0   \n",
       "3                    Bochnia                 Bochnia      0      0      0   \n",
       "4                    Bochnia                 Bochnia      0      0      0   \n",
       "5               Nowy Wiśnicz            Nowy Wiśnicz      0      0      0   \n",
       "6                    Bochnia                 Bochnia      0      0      0   \n",
       "...                      ...                     ...    ...    ...    ...   \n",
       "67545                    NaN                     NaN      0      0      0   \n",
       "67546                    NaN                     NaN      0      0      0   \n",
       "67547                    NaN                     NaN      0      0      0   \n",
       "67548                    NaN                     NaN      0      0      0   \n",
       "67549                    NaN                     NaN      0      0      0   \n",
       "\n",
       "       2899Z  3312Z  3320Z  4321Z  pkd_total data_rozpoczecia  \\\n",
       "0          0      1      1      1         74       1989-10-10   \n",
       "3          0      0      0      1         19       1998-06-15   \n",
       "4          0      1      0      1         20       2013-02-08   \n",
       "5          0      0      0      1         32       1988-09-07   \n",
       "6          0      0      0      0         35       1989-06-01   \n",
       "...      ...    ...    ...    ...        ...              ...   \n",
       "67545      0      0      0      0          0              NaT   \n",
       "67546      0      0      0      0          0              NaT   \n",
       "67547      0      0      0      0          0              NaT   \n",
       "67548      0      0      0      0          0              NaT   \n",
       "67549      0      0      0      0          0              NaT   \n",
       "\n",
       "      data_zakonczenia data_wykreslenia      status  zamkniete_przez_covid  \n",
       "0                  NaT              NaT     AKTYWNY                      0  \n",
       "3           2021-10-31       2021-11-01  WYKRESLONY                      1  \n",
       "4                  NaT              NaT  ZAWIESZONY                      0  \n",
       "5                  NaT              NaT     AKTYWNY                      0  \n",
       "6                  NaT              NaT     AKTYWNY                      0  \n",
       "...                ...              ...         ...                    ...  \n",
       "67545              NaT              NaT         NaN                      0  \n",
       "67546              NaT              NaT         NaN                      0  \n",
       "67547              NaT              NaT         NaN                      0  \n",
       "67548              NaT              NaT         NaN                      0  \n",
       "67549              NaT              NaT         NaN                      0  \n",
       "\n",
       "[50035 rows x 15 columns]"
      ]
     },
     "execution_count": 47,
     "metadata": {},
     "output_type": "execute_result"
    }
   ],
   "source": [
    "df"
   ]
  },
  {
   "cell_type": "code",
   "execution_count": 48,
   "metadata": {},
   "outputs": [
    {
     "data": {
      "text/html": [
       "<div>\n",
       "<style scoped>\n",
       "    .dataframe tbody tr th:only-of-type {\n",
       "        vertical-align: middle;\n",
       "    }\n",
       "\n",
       "    .dataframe tbody tr th {\n",
       "        vertical-align: top;\n",
       "    }\n",
       "\n",
       "    .dataframe thead th {\n",
       "        text-align: right;\n",
       "    }\n",
       "</style>\n",
       "<table border=\"1\" class=\"dataframe\">\n",
       "  <thead>\n",
       "    <tr style=\"text-align: right;\">\n",
       "      <th></th>\n",
       "      <th>adresDzialanosci_gmina</th>\n",
       "      <th>adresDzialanosci_miasto</th>\n",
       "      <th>2712Z</th>\n",
       "      <th>2790Z</th>\n",
       "      <th>2841Z</th>\n",
       "      <th>2899Z</th>\n",
       "      <th>3312Z</th>\n",
       "      <th>3320Z</th>\n",
       "      <th>4321Z</th>\n",
       "      <th>pkd_total</th>\n",
       "      <th>data_rozpoczecia</th>\n",
       "      <th>data_zakonczenia</th>\n",
       "      <th>data_wykreslenia</th>\n",
       "      <th>status</th>\n",
       "      <th>zamkniete_przez_covid</th>\n",
       "    </tr>\n",
       "  </thead>\n",
       "  <tbody>\n",
       "    <tr>\n",
       "      <th>67545</th>\n",
       "      <td>NaN</td>\n",
       "      <td>NaN</td>\n",
       "      <td>0</td>\n",
       "      <td>0</td>\n",
       "      <td>0</td>\n",
       "      <td>0</td>\n",
       "      <td>0</td>\n",
       "      <td>0</td>\n",
       "      <td>0</td>\n",
       "      <td>0</td>\n",
       "      <td>NaT</td>\n",
       "      <td>NaT</td>\n",
       "      <td>NaT</td>\n",
       "      <td>NaN</td>\n",
       "      <td>0</td>\n",
       "    </tr>\n",
       "    <tr>\n",
       "      <th>67546</th>\n",
       "      <td>NaN</td>\n",
       "      <td>NaN</td>\n",
       "      <td>0</td>\n",
       "      <td>0</td>\n",
       "      <td>0</td>\n",
       "      <td>0</td>\n",
       "      <td>0</td>\n",
       "      <td>0</td>\n",
       "      <td>0</td>\n",
       "      <td>0</td>\n",
       "      <td>NaT</td>\n",
       "      <td>NaT</td>\n",
       "      <td>NaT</td>\n",
       "      <td>NaN</td>\n",
       "      <td>0</td>\n",
       "    </tr>\n",
       "    <tr>\n",
       "      <th>67547</th>\n",
       "      <td>NaN</td>\n",
       "      <td>NaN</td>\n",
       "      <td>0</td>\n",
       "      <td>0</td>\n",
       "      <td>0</td>\n",
       "      <td>0</td>\n",
       "      <td>0</td>\n",
       "      <td>0</td>\n",
       "      <td>0</td>\n",
       "      <td>0</td>\n",
       "      <td>NaT</td>\n",
       "      <td>NaT</td>\n",
       "      <td>NaT</td>\n",
       "      <td>NaN</td>\n",
       "      <td>0</td>\n",
       "    </tr>\n",
       "    <tr>\n",
       "      <th>67548</th>\n",
       "      <td>NaN</td>\n",
       "      <td>NaN</td>\n",
       "      <td>0</td>\n",
       "      <td>0</td>\n",
       "      <td>0</td>\n",
       "      <td>0</td>\n",
       "      <td>0</td>\n",
       "      <td>0</td>\n",
       "      <td>0</td>\n",
       "      <td>0</td>\n",
       "      <td>NaT</td>\n",
       "      <td>NaT</td>\n",
       "      <td>NaT</td>\n",
       "      <td>NaN</td>\n",
       "      <td>0</td>\n",
       "    </tr>\n",
       "    <tr>\n",
       "      <th>67549</th>\n",
       "      <td>NaN</td>\n",
       "      <td>NaN</td>\n",
       "      <td>0</td>\n",
       "      <td>0</td>\n",
       "      <td>0</td>\n",
       "      <td>0</td>\n",
       "      <td>0</td>\n",
       "      <td>0</td>\n",
       "      <td>0</td>\n",
       "      <td>0</td>\n",
       "      <td>NaT</td>\n",
       "      <td>NaT</td>\n",
       "      <td>NaT</td>\n",
       "      <td>NaN</td>\n",
       "      <td>0</td>\n",
       "    </tr>\n",
       "  </tbody>\n",
       "</table>\n",
       "</div>"
      ],
      "text/plain": [
       "      adresDzialanosci_gmina adresDzialanosci_miasto  2712Z  2790Z  2841Z  \\\n",
       "67545                    NaN                     NaN      0      0      0   \n",
       "67546                    NaN                     NaN      0      0      0   \n",
       "67547                    NaN                     NaN      0      0      0   \n",
       "67548                    NaN                     NaN      0      0      0   \n",
       "67549                    NaN                     NaN      0      0      0   \n",
       "\n",
       "       2899Z  3312Z  3320Z  4321Z  pkd_total data_rozpoczecia  \\\n",
       "67545      0      0      0      0          0              NaT   \n",
       "67546      0      0      0      0          0              NaT   \n",
       "67547      0      0      0      0          0              NaT   \n",
       "67548      0      0      0      0          0              NaT   \n",
       "67549      0      0      0      0          0              NaT   \n",
       "\n",
       "      data_zakonczenia data_wykreslenia status  zamkniete_przez_covid  \n",
       "67545              NaT              NaT    NaN                      0  \n",
       "67546              NaT              NaT    NaN                      0  \n",
       "67547              NaT              NaT    NaN                      0  \n",
       "67548              NaT              NaT    NaN                      0  \n",
       "67549              NaT              NaT    NaN                      0  "
      ]
     },
     "execution_count": 48,
     "metadata": {},
     "output_type": "execute_result"
    }
   ],
   "source": [
    "df.tail(5)"
   ]
  },
  {
   "cell_type": "code",
   "execution_count": 49,
   "metadata": {},
   "outputs": [
    {
     "name": "stdout",
     "output_type": "stream",
     "text": [
      "(49553, 15)\n"
     ]
    }
   ],
   "source": [
    "df = df[~df['data_rozpoczecia'].isnull()]\n",
    "\n",
    "print(df.shape)"
   ]
  },
  {
   "cell_type": "code",
   "execution_count": 50,
   "metadata": {},
   "outputs": [
    {
     "data": {
      "text/html": [
       "<div>\n",
       "<style scoped>\n",
       "    .dataframe tbody tr th:only-of-type {\n",
       "        vertical-align: middle;\n",
       "    }\n",
       "\n",
       "    .dataframe tbody tr th {\n",
       "        vertical-align: top;\n",
       "    }\n",
       "\n",
       "    .dataframe thead th {\n",
       "        text-align: right;\n",
       "    }\n",
       "</style>\n",
       "<table border=\"1\" class=\"dataframe\">\n",
       "  <thead>\n",
       "    <tr style=\"text-align: right;\">\n",
       "      <th></th>\n",
       "      <th>adresDzialanosci_gmina</th>\n",
       "      <th>adresDzialanosci_miasto</th>\n",
       "      <th>2712Z</th>\n",
       "      <th>2790Z</th>\n",
       "      <th>2841Z</th>\n",
       "      <th>2899Z</th>\n",
       "      <th>3312Z</th>\n",
       "      <th>3320Z</th>\n",
       "      <th>4321Z</th>\n",
       "      <th>pkd_total</th>\n",
       "      <th>data_rozpoczecia</th>\n",
       "      <th>data_zakonczenia</th>\n",
       "      <th>data_wykreslenia</th>\n",
       "      <th>status</th>\n",
       "      <th>zamkniete_przez_covid</th>\n",
       "    </tr>\n",
       "  </thead>\n",
       "  <tbody>\n",
       "    <tr>\n",
       "      <th>0</th>\n",
       "      <td>Bochnia</td>\n",
       "      <td>Stanisławice</td>\n",
       "      <td>0</td>\n",
       "      <td>0</td>\n",
       "      <td>0</td>\n",
       "      <td>0</td>\n",
       "      <td>1</td>\n",
       "      <td>1</td>\n",
       "      <td>1</td>\n",
       "      <td>74</td>\n",
       "      <td>1989-10-10</td>\n",
       "      <td>NaT</td>\n",
       "      <td>NaT</td>\n",
       "      <td>AKTYWNY</td>\n",
       "      <td>0</td>\n",
       "    </tr>\n",
       "    <tr>\n",
       "      <th>3</th>\n",
       "      <td>Bochnia</td>\n",
       "      <td>Bochnia</td>\n",
       "      <td>0</td>\n",
       "      <td>0</td>\n",
       "      <td>0</td>\n",
       "      <td>0</td>\n",
       "      <td>0</td>\n",
       "      <td>0</td>\n",
       "      <td>1</td>\n",
       "      <td>19</td>\n",
       "      <td>1998-06-15</td>\n",
       "      <td>2021-10-31</td>\n",
       "      <td>2021-11-01</td>\n",
       "      <td>WYKRESLONY</td>\n",
       "      <td>1</td>\n",
       "    </tr>\n",
       "    <tr>\n",
       "      <th>4</th>\n",
       "      <td>Bochnia</td>\n",
       "      <td>Bochnia</td>\n",
       "      <td>0</td>\n",
       "      <td>0</td>\n",
       "      <td>0</td>\n",
       "      <td>0</td>\n",
       "      <td>1</td>\n",
       "      <td>0</td>\n",
       "      <td>1</td>\n",
       "      <td>20</td>\n",
       "      <td>2013-02-08</td>\n",
       "      <td>NaT</td>\n",
       "      <td>NaT</td>\n",
       "      <td>ZAWIESZONY</td>\n",
       "      <td>0</td>\n",
       "    </tr>\n",
       "    <tr>\n",
       "      <th>5</th>\n",
       "      <td>Nowy Wiśnicz</td>\n",
       "      <td>Nowy Wiśnicz</td>\n",
       "      <td>0</td>\n",
       "      <td>0</td>\n",
       "      <td>0</td>\n",
       "      <td>0</td>\n",
       "      <td>0</td>\n",
       "      <td>0</td>\n",
       "      <td>1</td>\n",
       "      <td>32</td>\n",
       "      <td>1988-09-07</td>\n",
       "      <td>NaT</td>\n",
       "      <td>NaT</td>\n",
       "      <td>AKTYWNY</td>\n",
       "      <td>0</td>\n",
       "    </tr>\n",
       "    <tr>\n",
       "      <th>6</th>\n",
       "      <td>Bochnia</td>\n",
       "      <td>Bochnia</td>\n",
       "      <td>0</td>\n",
       "      <td>0</td>\n",
       "      <td>0</td>\n",
       "      <td>0</td>\n",
       "      <td>0</td>\n",
       "      <td>0</td>\n",
       "      <td>0</td>\n",
       "      <td>35</td>\n",
       "      <td>1989-06-01</td>\n",
       "      <td>NaT</td>\n",
       "      <td>NaT</td>\n",
       "      <td>AKTYWNY</td>\n",
       "      <td>0</td>\n",
       "    </tr>\n",
       "    <tr>\n",
       "      <th>...</th>\n",
       "      <td>...</td>\n",
       "      <td>...</td>\n",
       "      <td>...</td>\n",
       "      <td>...</td>\n",
       "      <td>...</td>\n",
       "      <td>...</td>\n",
       "      <td>...</td>\n",
       "      <td>...</td>\n",
       "      <td>...</td>\n",
       "      <td>...</td>\n",
       "      <td>...</td>\n",
       "      <td>...</td>\n",
       "      <td>...</td>\n",
       "      <td>...</td>\n",
       "      <td>...</td>\n",
       "    </tr>\n",
       "    <tr>\n",
       "      <th>67527</th>\n",
       "      <td>Tarnów</td>\n",
       "      <td>Tarnów</td>\n",
       "      <td>0</td>\n",
       "      <td>0</td>\n",
       "      <td>0</td>\n",
       "      <td>0</td>\n",
       "      <td>0</td>\n",
       "      <td>1</td>\n",
       "      <td>0</td>\n",
       "      <td>13</td>\n",
       "      <td>1999-09-05</td>\n",
       "      <td>NaT</td>\n",
       "      <td>NaT</td>\n",
       "      <td>AKTYWNY</td>\n",
       "      <td>0</td>\n",
       "    </tr>\n",
       "    <tr>\n",
       "      <th>67528</th>\n",
       "      <td>Tarnów</td>\n",
       "      <td>Tarnów</td>\n",
       "      <td>0</td>\n",
       "      <td>0</td>\n",
       "      <td>0</td>\n",
       "      <td>0</td>\n",
       "      <td>0</td>\n",
       "      <td>0</td>\n",
       "      <td>1</td>\n",
       "      <td>29</td>\n",
       "      <td>2005-01-17</td>\n",
       "      <td>NaT</td>\n",
       "      <td>NaT</td>\n",
       "      <td>AKTYWNY</td>\n",
       "      <td>0</td>\n",
       "    </tr>\n",
       "    <tr>\n",
       "      <th>67529</th>\n",
       "      <td>Tarnów</td>\n",
       "      <td>Tarnów</td>\n",
       "      <td>0</td>\n",
       "      <td>0</td>\n",
       "      <td>0</td>\n",
       "      <td>0</td>\n",
       "      <td>0</td>\n",
       "      <td>0</td>\n",
       "      <td>1</td>\n",
       "      <td>23</td>\n",
       "      <td>2005-03-01</td>\n",
       "      <td>NaT</td>\n",
       "      <td>NaT</td>\n",
       "      <td>AKTYWNY</td>\n",
       "      <td>0</td>\n",
       "    </tr>\n",
       "    <tr>\n",
       "      <th>67532</th>\n",
       "      <td>Tarnów</td>\n",
       "      <td>Tarnów</td>\n",
       "      <td>0</td>\n",
       "      <td>0</td>\n",
       "      <td>0</td>\n",
       "      <td>0</td>\n",
       "      <td>0</td>\n",
       "      <td>0</td>\n",
       "      <td>1</td>\n",
       "      <td>15</td>\n",
       "      <td>2018-01-18</td>\n",
       "      <td>2019-02-11</td>\n",
       "      <td>2019-05-15</td>\n",
       "      <td>WYKRESLONY</td>\n",
       "      <td>1</td>\n",
       "    </tr>\n",
       "    <tr>\n",
       "      <th>67533</th>\n",
       "      <td>Tarnów</td>\n",
       "      <td>Tarnów</td>\n",
       "      <td>0</td>\n",
       "      <td>0</td>\n",
       "      <td>0</td>\n",
       "      <td>0</td>\n",
       "      <td>0</td>\n",
       "      <td>0</td>\n",
       "      <td>1</td>\n",
       "      <td>28</td>\n",
       "      <td>2005-08-01</td>\n",
       "      <td>NaT</td>\n",
       "      <td>NaT</td>\n",
       "      <td>AKTYWNY</td>\n",
       "      <td>0</td>\n",
       "    </tr>\n",
       "  </tbody>\n",
       "</table>\n",
       "<p>49553 rows × 15 columns</p>\n",
       "</div>"
      ],
      "text/plain": [
       "      adresDzialanosci_gmina adresDzialanosci_miasto  2712Z  2790Z  2841Z  \\\n",
       "0                    Bochnia            Stanisławice      0      0      0   \n",
       "3                    Bochnia                 Bochnia      0      0      0   \n",
       "4                    Bochnia                 Bochnia      0      0      0   \n",
       "5               Nowy Wiśnicz            Nowy Wiśnicz      0      0      0   \n",
       "6                    Bochnia                 Bochnia      0      0      0   \n",
       "...                      ...                     ...    ...    ...    ...   \n",
       "67527                 Tarnów                  Tarnów      0      0      0   \n",
       "67528                 Tarnów                  Tarnów      0      0      0   \n",
       "67529                 Tarnów                  Tarnów      0      0      0   \n",
       "67532                 Tarnów                  Tarnów      0      0      0   \n",
       "67533                 Tarnów                  Tarnów      0      0      0   \n",
       "\n",
       "       2899Z  3312Z  3320Z  4321Z  pkd_total data_rozpoczecia  \\\n",
       "0          0      1      1      1         74       1989-10-10   \n",
       "3          0      0      0      1         19       1998-06-15   \n",
       "4          0      1      0      1         20       2013-02-08   \n",
       "5          0      0      0      1         32       1988-09-07   \n",
       "6          0      0      0      0         35       1989-06-01   \n",
       "...      ...    ...    ...    ...        ...              ...   \n",
       "67527      0      0      1      0         13       1999-09-05   \n",
       "67528      0      0      0      1         29       2005-01-17   \n",
       "67529      0      0      0      1         23       2005-03-01   \n",
       "67532      0      0      0      1         15       2018-01-18   \n",
       "67533      0      0      0      1         28       2005-08-01   \n",
       "\n",
       "      data_zakonczenia data_wykreslenia      status  zamkniete_przez_covid  \n",
       "0                  NaT              NaT     AKTYWNY                      0  \n",
       "3           2021-10-31       2021-11-01  WYKRESLONY                      1  \n",
       "4                  NaT              NaT  ZAWIESZONY                      0  \n",
       "5                  NaT              NaT     AKTYWNY                      0  \n",
       "6                  NaT              NaT     AKTYWNY                      0  \n",
       "...                ...              ...         ...                    ...  \n",
       "67527              NaT              NaT     AKTYWNY                      0  \n",
       "67528              NaT              NaT     AKTYWNY                      0  \n",
       "67529              NaT              NaT     AKTYWNY                      0  \n",
       "67532       2019-02-11       2019-05-15  WYKRESLONY                      1  \n",
       "67533              NaT              NaT     AKTYWNY                      0  \n",
       "\n",
       "[49553 rows x 15 columns]"
      ]
     },
     "execution_count": 50,
     "metadata": {},
     "output_type": "execute_result"
    }
   ],
   "source": [
    "df"
   ]
  },
  {
   "cell_type": "code",
   "execution_count": 51,
   "metadata": {},
   "outputs": [
    {
     "name": "stderr",
     "output_type": "stream",
     "text": [
      "C:\\Users\\kubas\\AppData\\Local\\Temp\\ipykernel_10300\\2182030324.py:1: SettingWithCopyWarning: \n",
      "A value is trying to be set on a copy of a slice from a DataFrame\n",
      "\n",
      "See the caveats in the documentation: https://pandas.pydata.org/pandas-docs/stable/user_guide/indexing.html#returning-a-view-versus-a-copy\n",
      "  df.drop(['data_zakonczenia', 'data_wykreslenia'], inplace=True, axis=1)\n"
     ]
    }
   ],
   "source": [
    "df.drop(['data_zakonczenia', 'data_wykreslenia'], inplace=True, axis=1)"
   ]
  },
  {
   "cell_type": "code",
   "execution_count": 52,
   "metadata": {},
   "outputs": [
    {
     "data": {
      "text/plain": [
       "Index(['adresDzialanosci_gmina', 'adresDzialanosci_miasto', '2712Z', '2790Z',\n",
       "       '2841Z', '2899Z', '3312Z', '3320Z', '4321Z', 'pkd_total',\n",
       "       'data_rozpoczecia', 'status', 'zamkniete_przez_covid'],\n",
       "      dtype='object')"
      ]
     },
     "execution_count": 52,
     "metadata": {},
     "output_type": "execute_result"
    }
   ],
   "source": [
    "df.columns"
   ]
  },
  {
   "cell_type": "code",
   "execution_count": 54,
   "metadata": {},
   "outputs": [],
   "source": [
    "df.to_csv('data/data_processed_main.csv', index=False)"
   ]
  },
  {
   "cell_type": "code",
   "execution_count": null,
   "metadata": {},
   "outputs": [],
   "source": []
  }
 ],
 "metadata": {
  "interpreter": {
   "hash": "51aed2a52afa3683c2af9c8b0aaeea74002eb36b80a026ff638e5de3d0c71cb3"
  },
  "kernelspec": {
   "display_name": "Python 3.9.2 64-bit",
   "language": "python",
   "name": "python3"
  },
  "language_info": {
   "codemirror_mode": {
    "name": "ipython",
    "version": 3
   },
   "file_extension": ".py",
   "mimetype": "text/x-python",
   "name": "python",
   "nbconvert_exporter": "python",
   "pygments_lexer": "ipython3",
   "version": "3.9.2"
  }
 },
 "nbformat": 4,
 "nbformat_minor": 2
}
