{
 "cells": [
  {
   "cell_type": "markdown",
   "metadata": {},
   "source": [
    "# Przewidywanie statusu firm z branży 4.0\n",
    "\n",
    "### Cel\n",
    "Celem projektu jest przygotowanie danych i porównanie płytkich oraz głębokich modeli uczenia maszynowego dla otrzymanego zbioru danych."
   ]
  },
  {
   "cell_type": "code",
   "execution_count": 1,
   "metadata": {},
   "outputs": [],
   "source": [
    "import pandas as pd\n",
    "import matplotlib.pyplot as plt\n",
    "import json\n",
    "import csv\n",
    "import glob"
   ]
  },
  {
   "cell_type": "markdown",
   "metadata": {},
   "source": [
    "### PKD - Polska Klasyfikacja Działalności\n",
    "\n",
    "W projekcie będziemy analizowali dane dla firm z następującymi kodami *pkd*:\n",
    "- 2712Z - Produkcja aparatury rozdzielczej i sterowniczej energii elektrycznej\n",
    "- 2790Z - Produkcja pozostałego sprzętu elektrycznego\n",
    "- 2841Z - Produkcja maszyn do obróbki metalu\n",
    "- 2899Z - Produkcja pozostałych maszyn specjalnego przeznaczenia, gdzie indziej niesklasyfikowana\n",
    "- 3312Z - Naprawa i konserwacja maszyn\n",
    "- 3320Z - Instalowanie maszyn przemysłowych, sprzętu i wyposażenia\n",
    "- 4321Z - Wykonywanie instalacji elektrycznych"
   ]
  },
  {
   "cell_type": "code",
   "execution_count": 2,
   "metadata": {},
   "outputs": [],
   "source": [
    "pkd_bazowe = ['2712Z', '2790Z', '2841Z', '2899Z', '3312Z', '3320Z', '4321Z']"
   ]
  },
  {
   "cell_type": "code",
   "execution_count": 3,
   "metadata": {},
   "outputs": [],
   "source": [
    "csv_columns = ['nazwa','adresDzialanosci_gmina',\n",
    "'adresDzialanosci_miasto', 'wlasciciel_imie', 'wlasciciel_nazwisko',\n",
    "'2712Z', '2790Z', '2841Z', '2899Z', '3312Z', '3320Z', '4321Z',\n",
    "'pkd_total', 'data_rozpoczecia', 'data_zakonczenia','data_wykreslenia', 'status']\n",
    "\n",
    "with open('./data.csv', \"w\", newline='', encoding=\"utf8\") as output:\n",
    "    writer = csv.DictWriter(output, fieldnames=csv_columns)\n",
    "    writer.writeheader()\n",
    "\n",
    "    for f_path in glob.glob('./UJ/ceidg/firmy/12/**/*.json'):\n",
    "        with open(f_path, encoding=\"utf8\") as f:\n",
    "            data = json.load(f)\n",
    "            data_output = dict()\n",
    "\n",
    "            try:\n",
    "                data_output['nazwa'] = data['firma'][0]['nazwa']\n",
    "            except:\n",
    "                data_output['nazwa'] = \"NaN\"\n",
    "            \n",
    "            try:\n",
    "                data_output['adresDzialanosci_gmina'] = data['firma'][0]['adresDzialanosci']['gmina']\n",
    "            except:\n",
    "                data_output['adresDzialanosci_gmina'] = \"NaN\"\n",
    "            \n",
    "            try:\n",
    "                data_output['adresDzialanosci_miasto'] = data['firma'][0]['adresDzialanosci']['miasto']\n",
    "            except:\n",
    "                data_output['adresDzialanosci_miasto'] = \"NaN\"\n",
    "\n",
    "            try:\n",
    "                data_output['wlasciciel_imie'] = data['firma'][0]['wlasciciel']['imie']\n",
    "            except:\n",
    "                data_output['wlasciciel_imie'] = \"NaN\"\n",
    "            \n",
    "            try:\n",
    "                data_output['wlasciciel_nazwisko'] = data['firma'][0]['wlasciciel']['nazwisko']\n",
    "            except:\n",
    "                data_output['wlasciciel_nazwisko'] = \"NaN\"\n",
    "\n",
    "\n",
    "            pkd = []\n",
    "            try:\n",
    "                pkd.append(data['firma'][0]['pkdGlowny'])\n",
    "            except:\n",
    "                pass\n",
    "            try:\n",
    "                pkd += data['firma'][0]['pkd']\n",
    "            except:\n",
    "                pass\n",
    "            pkd = set(pkd)\n",
    "\n",
    "            for pkd_baz in pkd_bazowe:\n",
    "                if pkd_baz in pkd:\n",
    "                    data_output[pkd_baz] = \"1\"\n",
    "                else:\n",
    "                    data_output[pkd_baz] = \"0\"\n",
    "\n",
    "            data_output['pkd_total'] = len(pkd)\n",
    "\n",
    "\n",
    "            try:\n",
    "                data_output['data_rozpoczecia'] = data['firma'][0]['dataRozpoczecia']\n",
    "            except:\n",
    "                data_output['data_rozpoczecia'] = \"NaN\"\n",
    "\n",
    "            try:\n",
    "                data_output['data_zakonczenia'] = data['firma'][0]['dataZakonczenia']\n",
    "            except:\n",
    "                data_output['data_zakonczenia'] = \"NaN\"\n",
    "\n",
    "            try:\n",
    "                data_output['data_wykreslenia'] = data['firma'][0]['dataWykreslenia']\n",
    "            except:\n",
    "                data_output['data_wykreslenia'] = \"NaN\"\n",
    "\n",
    "            try:\n",
    "                data_output['status'] = data['firma'][0]['status']\n",
    "            except:\n",
    "                data_output['status'] = \"NaN\"\n",
    "\n",
    "\n",
    "            writer.writerow(data_output)"
   ]
  },
  {
   "cell_type": "code",
   "execution_count": 4,
   "metadata": {},
   "outputs": [],
   "source": [
    "df = pd.read_csv('data.csv')"
   ]
  },
  {
   "cell_type": "code",
   "execution_count": 5,
   "metadata": {},
   "outputs": [
    {
     "name": "stdout",
     "output_type": "stream",
     "text": [
      "(67550, 17)\n"
     ]
    }
   ],
   "source": [
    "print(df.shape)"
   ]
  },
  {
   "cell_type": "code",
   "execution_count": 8,
   "metadata": {},
   "outputs": [
    {
     "data": {
      "text/html": [
       "<div>\n",
       "<style scoped>\n",
       "    .dataframe tbody tr th:only-of-type {\n",
       "        vertical-align: middle;\n",
       "    }\n",
       "\n",
       "    .dataframe tbody tr th {\n",
       "        vertical-align: top;\n",
       "    }\n",
       "\n",
       "    .dataframe thead th {\n",
       "        text-align: right;\n",
       "    }\n",
       "</style>\n",
       "<table border=\"1\" class=\"dataframe\">\n",
       "  <thead>\n",
       "    <tr style=\"text-align: right;\">\n",
       "      <th></th>\n",
       "      <th>nazwa</th>\n",
       "      <th>adresDzialanosci_gmina</th>\n",
       "      <th>adresDzialanosci_miasto</th>\n",
       "      <th>wlasciciel_imie</th>\n",
       "      <th>wlasciciel_nazwisko</th>\n",
       "      <th>2712Z</th>\n",
       "      <th>2790Z</th>\n",
       "      <th>2841Z</th>\n",
       "      <th>2899Z</th>\n",
       "      <th>3312Z</th>\n",
       "      <th>3320Z</th>\n",
       "      <th>4321Z</th>\n",
       "      <th>pkd_total</th>\n",
       "      <th>data_rozpoczecia</th>\n",
       "      <th>data_zakonczenia</th>\n",
       "      <th>data_wykreslenia</th>\n",
       "      <th>status</th>\n",
       "    </tr>\n",
       "  </thead>\n",
       "  <tbody>\n",
       "    <tr>\n",
       "      <th>31465</th>\n",
       "      <td>Marek Syma SYMNET</td>\n",
       "      <td>Olkusz</td>\n",
       "      <td>Olkusz</td>\n",
       "      <td>Marek</td>\n",
       "      <td>Syma</td>\n",
       "      <td>0</td>\n",
       "      <td>0</td>\n",
       "      <td>0</td>\n",
       "      <td>0</td>\n",
       "      <td>1</td>\n",
       "      <td>1</td>\n",
       "      <td>0</td>\n",
       "      <td>8</td>\n",
       "      <td>2011-10-05</td>\n",
       "      <td>2014-11-24</td>\n",
       "      <td>2014-11-25</td>\n",
       "      <td>WYKRESLONY</td>\n",
       "    </tr>\n",
       "    <tr>\n",
       "      <th>28507</th>\n",
       "      <td>ELEKTROSERWIS JAN SPYTKOWSKI</td>\n",
       "      <td>Jabłonka</td>\n",
       "      <td>Jabłonka</td>\n",
       "      <td>JAN</td>\n",
       "      <td>SPYTKOWSKI</td>\n",
       "      <td>0</td>\n",
       "      <td>0</td>\n",
       "      <td>0</td>\n",
       "      <td>0</td>\n",
       "      <td>0</td>\n",
       "      <td>0</td>\n",
       "      <td>1</td>\n",
       "      <td>2</td>\n",
       "      <td>2019-08-22</td>\n",
       "      <td>NaN</td>\n",
       "      <td>NaN</td>\n",
       "      <td>AKTYWNY</td>\n",
       "    </tr>\n",
       "    <tr>\n",
       "      <th>63060</th>\n",
       "      <td>VIN-CO KRZYSZTOF KONECKI</td>\n",
       "      <td>Kraków-Nowa Huta</td>\n",
       "      <td>Kraków</td>\n",
       "      <td>KRZYSZTOF</td>\n",
       "      <td>KONECKI</td>\n",
       "      <td>0</td>\n",
       "      <td>0</td>\n",
       "      <td>0</td>\n",
       "      <td>0</td>\n",
       "      <td>0</td>\n",
       "      <td>0</td>\n",
       "      <td>1</td>\n",
       "      <td>29</td>\n",
       "      <td>2019-07-08</td>\n",
       "      <td>NaN</td>\n",
       "      <td>NaN</td>\n",
       "      <td>AKTYWNY</td>\n",
       "    </tr>\n",
       "  </tbody>\n",
       "</table>\n",
       "</div>"
      ],
      "text/plain": [
       "                              nazwa adresDzialanosci_gmina  \\\n",
       "31465             Marek Syma SYMNET                 Olkusz   \n",
       "28507  ELEKTROSERWIS JAN SPYTKOWSKI               Jabłonka   \n",
       "63060      VIN-CO KRZYSZTOF KONECKI       Kraków-Nowa Huta   \n",
       "\n",
       "      adresDzialanosci_miasto wlasciciel_imie wlasciciel_nazwisko  2712Z  \\\n",
       "31465                  Olkusz           Marek                Syma      0   \n",
       "28507                Jabłonka             JAN          SPYTKOWSKI      0   \n",
       "63060                  Kraków       KRZYSZTOF             KONECKI      0   \n",
       "\n",
       "       2790Z  2841Z  2899Z  3312Z  3320Z  4321Z  pkd_total data_rozpoczecia  \\\n",
       "31465      0      0      0      1      1      0          8       2011-10-05   \n",
       "28507      0      0      0      0      0      1          2       2019-08-22   \n",
       "63060      0      0      0      0      0      1         29       2019-07-08   \n",
       "\n",
       "      data_zakonczenia data_wykreslenia      status  \n",
       "31465       2014-11-24       2014-11-25  WYKRESLONY  \n",
       "28507              NaN              NaN     AKTYWNY  \n",
       "63060              NaN              NaN     AKTYWNY  "
      ]
     },
     "execution_count": 8,
     "metadata": {},
     "output_type": "execute_result"
    }
   ],
   "source": [
    "df.sample(3)"
   ]
  },
  {
   "cell_type": "code",
   "execution_count": 6,
   "metadata": {},
   "outputs": [
    {
     "data": {
      "text/plain": [
       "Index(['nazwa', 'adresDzialanosci_gmina', 'adresDzialanosci_miasto',\n",
       "       'wlasciciel_imie', 'wlasciciel_nazwisko', '2712Z', '2790Z', '2841Z',\n",
       "       '2899Z', '3312Z', '3320Z', '4321Z', 'pkd_total', 'data_rozpoczecia',\n",
       "       'data_zakonczenia', 'data_wykreslenia', 'status'],\n",
       "      dtype='object')"
      ]
     },
     "execution_count": 6,
     "metadata": {},
     "output_type": "execute_result"
    }
   ],
   "source": [
    "df.columns"
   ]
  },
  {
   "cell_type": "code",
   "execution_count": 7,
   "metadata": {},
   "outputs": [
    {
     "name": "stdout",
     "output_type": "stream",
     "text": [
      "<class 'pandas.core.frame.DataFrame'>\n",
      "RangeIndex: 67550 entries, 0 to 67549\n",
      "Data columns (total 17 columns):\n",
      " #   Column                   Non-Null Count  Dtype \n",
      "---  ------                   --------------  ----- \n",
      " 0   nazwa                    67068 non-null  object\n",
      " 1   adresDzialanosci_gmina   67064 non-null  object\n",
      " 2   adresDzialanosci_miasto  67056 non-null  object\n",
      " 3   wlasciciel_imie          67068 non-null  object\n",
      " 4   wlasciciel_nazwisko      67068 non-null  object\n",
      " 5   2712Z                    67550 non-null  int64 \n",
      " 6   2790Z                    67550 non-null  int64 \n",
      " 7   2841Z                    67550 non-null  int64 \n",
      " 8   2899Z                    67550 non-null  int64 \n",
      " 9   3312Z                    67550 non-null  int64 \n",
      " 10  3320Z                    67550 non-null  int64 \n",
      " 11  4321Z                    67550 non-null  int64 \n",
      " 12  pkd_total                67550 non-null  int64 \n",
      " 13  data_rozpoczecia         67068 non-null  object\n",
      " 14  data_zakonczenia         19268 non-null  object\n",
      " 15  data_wykreslenia         24454 non-null  object\n",
      " 16  status                   67068 non-null  object\n",
      "dtypes: int64(8), object(9)\n",
      "memory usage: 8.8+ MB\n"
     ]
    }
   ],
   "source": [
    "df.info()"
   ]
  },
  {
   "cell_type": "code",
   "execution_count": 9,
   "metadata": {},
   "outputs": [
    {
     "data": {
      "text/plain": [
       "Index(['adresDzialanosci_gmina', 'adresDzialanosci_miasto', '2712Z', '2790Z',\n",
       "       '2841Z', '2899Z', '3312Z', '3320Z', '4321Z', 'pkd_total',\n",
       "       'data_rozpoczecia', 'status'],\n",
       "      dtype='object')"
      ]
     },
     "execution_count": 9,
     "metadata": {},
     "output_type": "execute_result"
    }
   ],
   "source": [
    "df.drop(['nazwa', 'wlasciciel_imie', 'wlasciciel_nazwisko', 'data_zakonczenia', 'data_wykreslenia'], inplace=True, axis=1)\n",
    "df.columns"
   ]
  },
  {
   "cell_type": "code",
   "execution_count": 10,
   "metadata": {},
   "outputs": [
    {
     "data": {
      "text/html": [
       "<div>\n",
       "<style scoped>\n",
       "    .dataframe tbody tr th:only-of-type {\n",
       "        vertical-align: middle;\n",
       "    }\n",
       "\n",
       "    .dataframe tbody tr th {\n",
       "        vertical-align: top;\n",
       "    }\n",
       "\n",
       "    .dataframe thead th {\n",
       "        text-align: right;\n",
       "    }\n",
       "</style>\n",
       "<table border=\"1\" class=\"dataframe\">\n",
       "  <thead>\n",
       "    <tr style=\"text-align: right;\">\n",
       "      <th></th>\n",
       "      <th>adresDzialanosci_gmina</th>\n",
       "      <th>adresDzialanosci_miasto</th>\n",
       "      <th>2712Z</th>\n",
       "      <th>2790Z</th>\n",
       "      <th>2841Z</th>\n",
       "      <th>2899Z</th>\n",
       "      <th>3312Z</th>\n",
       "      <th>3320Z</th>\n",
       "      <th>4321Z</th>\n",
       "      <th>pkd_total</th>\n",
       "      <th>data_rozpoczecia</th>\n",
       "      <th>status</th>\n",
       "    </tr>\n",
       "  </thead>\n",
       "  <tbody>\n",
       "    <tr>\n",
       "      <th>60147</th>\n",
       "      <td>Kraków-Podgórze</td>\n",
       "      <td>Kraków</td>\n",
       "      <td>0</td>\n",
       "      <td>0</td>\n",
       "      <td>0</td>\n",
       "      <td>0</td>\n",
       "      <td>0</td>\n",
       "      <td>0</td>\n",
       "      <td>1</td>\n",
       "      <td>22</td>\n",
       "      <td>2016-09-02</td>\n",
       "      <td>AKTYWNY</td>\n",
       "    </tr>\n",
       "    <tr>\n",
       "      <th>26852</th>\n",
       "      <td>Czarny Dunajec</td>\n",
       "      <td>Odrowąż</td>\n",
       "      <td>0</td>\n",
       "      <td>0</td>\n",
       "      <td>0</td>\n",
       "      <td>0</td>\n",
       "      <td>0</td>\n",
       "      <td>0</td>\n",
       "      <td>1</td>\n",
       "      <td>21</td>\n",
       "      <td>2006-10-20</td>\n",
       "      <td>AKTYWNY</td>\n",
       "    </tr>\n",
       "    <tr>\n",
       "      <th>33315</th>\n",
       "      <td>Oświęcim</td>\n",
       "      <td>Oświęcim</td>\n",
       "      <td>0</td>\n",
       "      <td>0</td>\n",
       "      <td>0</td>\n",
       "      <td>0</td>\n",
       "      <td>0</td>\n",
       "      <td>0</td>\n",
       "      <td>0</td>\n",
       "      <td>58</td>\n",
       "      <td>2017-12-15</td>\n",
       "      <td>AKTYWNY</td>\n",
       "    </tr>\n",
       "  </tbody>\n",
       "</table>\n",
       "</div>"
      ],
      "text/plain": [
       "      adresDzialanosci_gmina adresDzialanosci_miasto  2712Z  2790Z  2841Z  \\\n",
       "60147        Kraków-Podgórze                  Kraków      0      0      0   \n",
       "26852         Czarny Dunajec                 Odrowąż      0      0      0   \n",
       "33315               Oświęcim                Oświęcim      0      0      0   \n",
       "\n",
       "       2899Z  3312Z  3320Z  4321Z  pkd_total data_rozpoczecia   status  \n",
       "60147      0      0      0      1         22       2016-09-02  AKTYWNY  \n",
       "26852      0      0      0      1         21       2006-10-20  AKTYWNY  \n",
       "33315      0      0      0      0         58       2017-12-15  AKTYWNY  "
      ]
     },
     "execution_count": 10,
     "metadata": {},
     "output_type": "execute_result"
    }
   ],
   "source": [
    "df.sample(3)"
   ]
  },
  {
   "cell_type": "code",
   "execution_count": 12,
   "metadata": {},
   "outputs": [
    {
     "data": {
      "text/plain": [
       "<AxesSubplot:xlabel='status'>"
      ]
     },
     "execution_count": 12,
     "metadata": {},
     "output_type": "execute_result"
    },
    {
     "data": {
      "image/png": "[encoded data removed]",
      "text/plain": [
       "<Figure size 432x288 with 1 Axes>"
      ]
     },
     "metadata": {
      "needs_background": "light"
     },
     "output_type": "display_data"
    }
   ],
   "source": [
    "status = df.groupby(['status']).size()\n",
    "status.plot(kind=\"bar\")"
   ]
  },
  {
   "cell_type": "code",
   "execution_count": 15,
   "metadata": {},
   "outputs": [
    {
     "data": {
      "text/plain": [
       "<AxesSubplot:xlabel='status'>"
      ]
     },
     "execution_count": 15,
     "metadata": {},
     "output_type": "execute_result"
    },
    {
     "data": {
      "image/png": "[encoded data removed]",
      "text/plain": [
       "<Figure size 432x288 with 1 Axes>"
      ]
     },
     "metadata": {
      "needs_background": "light"
     },
     "output_type": "display_data"
    }
   ],
   "source": [
    "df = df[(df['status'] != 'WYLACZNIE_W_FORMIE_SPOLKI') & (df['status'] != 'OCZEKUJE_NA_ROZPOCZECIE_DZIALANOSCI')]\n",
    "\n",
    "status = df.groupby(['status']).size()\n",
    "status.plot(kind=\"bar\")"
   ]
  },
  {
   "cell_type": "code",
   "execution_count": 16,
   "metadata": {},
   "outputs": [
    {
     "data": {
      "text/plain": [
       "<AxesSubplot:xlabel='adresDzialanosci_gmina'>"
      ]
     },
     "execution_count": 16,
     "metadata": {},
     "output_type": "execute_result"
    },
    {
     "data": {
      "image/png": "[encoded data removed]",
      "text/plain": [
       "<Figure size 432x288 with 1 Axes>"
      ]
     },
     "metadata": {
      "needs_background": "light"
     },
     "output_type": "display_data"
    }
   ],
   "source": [
    "gminy = df.groupby(['adresDzialanosci_gmina']).size()\n",
    "\n",
    "gminy = gminy.where(gminy > 430)\n",
    "gminy = gminy.dropna()\n",
    "gminy.plot(kind=\"bar\")"
   ]
  },
  {
   "cell_type": "code",
   "execution_count": 23,
   "metadata": {},
   "outputs": [
    {
     "data": {
      "text/plain": [
       "<AxesSubplot:xlabel='data_rozpoczecia'>"
      ]
     },
     "execution_count": 23,
     "metadata": {},
     "output_type": "execute_result"
    },
    {
     "data": {
      "image/png": "[encoded data removed]",
      "text/plain": [
       "<Figure size 432x288 with 1 Axes>"
      ]
     },
     "metadata": {
      "needs_background": "light"
     },
     "output_type": "display_data"
    }
   ],
   "source": [
    "df['data_rozpoczecia'] = pd.to_datetime(df['data_rozpoczecia'])\n",
    "\n",
    "lata = df.groupby(df['data_rozpoczecia'].map(lambda x: x.year)).size()\n",
    "lata.plot()"
   ]
  },
  {
   "cell_type": "code",
   "execution_count": 24,
   "metadata": {},
   "outputs": [
    {
     "data": {
      "text/html": [
       "<div>\n",
       "<style scoped>\n",
       "    .dataframe tbody tr th:only-of-type {\n",
       "        vertical-align: middle;\n",
       "    }\n",
       "\n",
       "    .dataframe tbody tr th {\n",
       "        vertical-align: top;\n",
       "    }\n",
       "\n",
       "    .dataframe thead th {\n",
       "        text-align: right;\n",
       "    }\n",
       "</style>\n",
       "<table border=\"1\" class=\"dataframe\">\n",
       "  <thead>\n",
       "    <tr style=\"text-align: right;\">\n",
       "      <th></th>\n",
       "      <th>adresDzialanosci_gmina</th>\n",
       "      <th>adresDzialanosci_miasto</th>\n",
       "      <th>2712Z</th>\n",
       "      <th>2790Z</th>\n",
       "      <th>2841Z</th>\n",
       "      <th>2899Z</th>\n",
       "      <th>3312Z</th>\n",
       "      <th>3320Z</th>\n",
       "      <th>4321Z</th>\n",
       "      <th>pkd_total</th>\n",
       "      <th>data_rozpoczecia</th>\n",
       "      <th>status</th>\n",
       "    </tr>\n",
       "  </thead>\n",
       "  <tbody>\n",
       "    <tr>\n",
       "      <th>67545</th>\n",
       "      <td>NaN</td>\n",
       "      <td>NaN</td>\n",
       "      <td>0</td>\n",
       "      <td>0</td>\n",
       "      <td>0</td>\n",
       "      <td>0</td>\n",
       "      <td>0</td>\n",
       "      <td>0</td>\n",
       "      <td>0</td>\n",
       "      <td>0</td>\n",
       "      <td>NaT</td>\n",
       "      <td>NaN</td>\n",
       "    </tr>\n",
       "    <tr>\n",
       "      <th>67546</th>\n",
       "      <td>NaN</td>\n",
       "      <td>NaN</td>\n",
       "      <td>0</td>\n",
       "      <td>0</td>\n",
       "      <td>0</td>\n",
       "      <td>0</td>\n",
       "      <td>0</td>\n",
       "      <td>0</td>\n",
       "      <td>0</td>\n",
       "      <td>0</td>\n",
       "      <td>NaT</td>\n",
       "      <td>NaN</td>\n",
       "    </tr>\n",
       "    <tr>\n",
       "      <th>67547</th>\n",
       "      <td>NaN</td>\n",
       "      <td>NaN</td>\n",
       "      <td>0</td>\n",
       "      <td>0</td>\n",
       "      <td>0</td>\n",
       "      <td>0</td>\n",
       "      <td>0</td>\n",
       "      <td>0</td>\n",
       "      <td>0</td>\n",
       "      <td>0</td>\n",
       "      <td>NaT</td>\n",
       "      <td>NaN</td>\n",
       "    </tr>\n",
       "    <tr>\n",
       "      <th>67548</th>\n",
       "      <td>NaN</td>\n",
       "      <td>NaN</td>\n",
       "      <td>0</td>\n",
       "      <td>0</td>\n",
       "      <td>0</td>\n",
       "      <td>0</td>\n",
       "      <td>0</td>\n",
       "      <td>0</td>\n",
       "      <td>0</td>\n",
       "      <td>0</td>\n",
       "      <td>NaT</td>\n",
       "      <td>NaN</td>\n",
       "    </tr>\n",
       "    <tr>\n",
       "      <th>67549</th>\n",
       "      <td>NaN</td>\n",
       "      <td>NaN</td>\n",
       "      <td>0</td>\n",
       "      <td>0</td>\n",
       "      <td>0</td>\n",
       "      <td>0</td>\n",
       "      <td>0</td>\n",
       "      <td>0</td>\n",
       "      <td>0</td>\n",
       "      <td>0</td>\n",
       "      <td>NaT</td>\n",
       "      <td>NaN</td>\n",
       "    </tr>\n",
       "  </tbody>\n",
       "</table>\n",
       "</div>"
      ],
      "text/plain": [
       "      adresDzialanosci_gmina adresDzialanosci_miasto  2712Z  2790Z  2841Z  \\\n",
       "67545                    NaN                     NaN      0      0      0   \n",
       "67546                    NaN                     NaN      0      0      0   \n",
       "67547                    NaN                     NaN      0      0      0   \n",
       "67548                    NaN                     NaN      0      0      0   \n",
       "67549                    NaN                     NaN      0      0      0   \n",
       "\n",
       "       2899Z  3312Z  3320Z  4321Z  pkd_total data_rozpoczecia status  \n",
       "67545      0      0      0      0          0              NaT    NaN  \n",
       "67546      0      0      0      0          0              NaT    NaN  \n",
       "67547      0      0      0      0          0              NaT    NaN  \n",
       "67548      0      0      0      0          0              NaT    NaN  \n",
       "67549      0      0      0      0          0              NaT    NaN  "
      ]
     },
     "execution_count": 24,
     "metadata": {},
     "output_type": "execute_result"
    }
   ],
   "source": [
    "df.tail(5)"
   ]
  },
  {
   "cell_type": "code",
   "execution_count": 31,
   "metadata": {},
   "outputs": [
    {
     "name": "stdout",
     "output_type": "stream",
     "text": [
      "(64321, 12)\n"
     ]
    }
   ],
   "source": [
    "df = df.dropna()\n",
    "\n",
    "print(df.shape)"
   ]
  },
  {
   "cell_type": "code",
   "execution_count": null,
   "metadata": {},
   "outputs": [],
   "source": []
  }
 ],
 "metadata": {
  "interpreter": {
   "hash": "f0cf854484826becf69b9363a35f769a3f32573db803431254cc95fc20fb81b2"
  },
  "kernelspec": {
   "display_name": "Python 3.10.0 64-bit",
   "language": "python",
   "name": "python3"
  },
  "language_info": {
   "codemirror_mode": {
    "name": "ipython",
    "version": 3
   },
   "file_extension": ".py",
   "mimetype": "text/x-python",
   "name": "python",
   "nbconvert_exporter": "python",
   "pygments_lexer": "ipython3",
   "version": "3.10.0"
  },
  "orig_nbformat": 4
 },
 "nbformat": 4,
 "nbformat_minor": 2
}
