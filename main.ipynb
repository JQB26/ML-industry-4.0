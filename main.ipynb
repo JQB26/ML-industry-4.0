{
 "cells": [
  {
   "cell_type": "code",
   "execution_count": 43,
   "metadata": {},
   "outputs": [],
   "source": [
    "import pandas as pd\n",
    "import numpy as np\n",
    "import matplotlib.pyplot as plt\n",
    "from sklearn import preprocessing"
   ]
  },
  {
   "cell_type": "code",
   "execution_count": 2,
   "metadata": {},
   "outputs": [],
   "source": [
    "df = pd.read_csv('./data/data_processed_main.csv')"
   ]
  },
  {
   "cell_type": "markdown",
   "metadata": {},
   "source": [
    "# Preprocessing v2"
   ]
  },
  {
   "cell_type": "code",
   "execution_count": 3,
   "metadata": {
    "scrolled": true
   },
   "outputs": [
    {
     "data": {
      "text/plain": [
       "Index(['adresDzialanosci_gmina', 'adresDzialanosci_miasto', '2712Z', '2790Z',\n",
       "       '2841Z', '2899Z', '3312Z', '3320Z', '4321Z', 'pkd_total',\n",
       "       'data_rozpoczecia', 'status', 'zamkniete_przez_covid'],\n",
       "      dtype='object')"
      ]
     },
     "execution_count": 3,
     "metadata": {},
     "output_type": "execute_result"
    }
   ],
   "source": [
    "df.columns"
   ]
  },
  {
   "cell_type": "code",
   "execution_count": 4,
   "metadata": {
    "scrolled": true
   },
   "outputs": [
    {
     "data": {
      "text/html": [
       "<div>\n",
       "<style scoped>\n",
       "    .dataframe tbody tr th:only-of-type {\n",
       "        vertical-align: middle;\n",
       "    }\n",
       "\n",
       "    .dataframe tbody tr th {\n",
       "        vertical-align: top;\n",
       "    }\n",
       "\n",
       "    .dataframe thead th {\n",
       "        text-align: right;\n",
       "    }\n",
       "</style>\n",
       "<table border=\"1\" class=\"dataframe\">\n",
       "  <thead>\n",
       "    <tr style=\"text-align: right;\">\n",
       "      <th></th>\n",
       "      <th>adresDzialanosci_gmina</th>\n",
       "      <th>adresDzialanosci_miasto</th>\n",
       "      <th>2712Z</th>\n",
       "      <th>2790Z</th>\n",
       "      <th>2841Z</th>\n",
       "      <th>2899Z</th>\n",
       "      <th>3312Z</th>\n",
       "      <th>3320Z</th>\n",
       "      <th>4321Z</th>\n",
       "      <th>pkd_total</th>\n",
       "      <th>data_rozpoczecia</th>\n",
       "      <th>status</th>\n",
       "      <th>zamkniete_przez_covid</th>\n",
       "    </tr>\n",
       "  </thead>\n",
       "  <tbody>\n",
       "    <tr>\n",
       "      <th>8697</th>\n",
       "      <td>Ropa</td>\n",
       "      <td>Ropa</td>\n",
       "      <td>0</td>\n",
       "      <td>0</td>\n",
       "      <td>0</td>\n",
       "      <td>0</td>\n",
       "      <td>0</td>\n",
       "      <td>0</td>\n",
       "      <td>1</td>\n",
       "      <td>2</td>\n",
       "      <td>2012-10-08</td>\n",
       "      <td>WYKRESLONY</td>\n",
       "      <td>0</td>\n",
       "    </tr>\n",
       "  </tbody>\n",
       "</table>\n",
       "</div>"
      ],
      "text/plain": [
       "     adresDzialanosci_gmina adresDzialanosci_miasto  2712Z  2790Z  2841Z  \\\n",
       "8697                   Ropa                    Ropa      0      0      0   \n",
       "\n",
       "      2899Z  3312Z  3320Z  4321Z  pkd_total data_rozpoczecia      status  \\\n",
       "8697      0      0      0      1          2       2012-10-08  WYKRESLONY   \n",
       "\n",
       "      zamkniete_przez_covid  \n",
       "8697                      0  "
      ]
     },
     "execution_count": 4,
     "metadata": {},
     "output_type": "execute_result"
    }
   ],
   "source": [
    "df.sample()"
   ]
  },
  {
   "cell_type": "markdown",
   "metadata": {},
   "source": [
    "W analizie daty rozpoczecia, dzien zalozenia nie bedzie istotna dla nas informacja. Duzo bardziej znaczacymi beda:\n",
    "- rok\n",
    "- miesiac"
   ]
  },
  {
   "cell_type": "code",
   "execution_count": 5,
   "metadata": {},
   "outputs": [],
   "source": [
    "df['data_rozpoczecia'] = pd.to_datetime(df['data_rozpoczecia'])\n",
    "df['data_rozpoczecia_rok'] = df['data_rozpoczecia'].dt.year\n",
    "df['data_rozpoczecia_miesiac'] = df['data_rozpoczecia'].dt.month\n",
    "df = df.drop(['data_rozpoczecia'], axis=1)"
   ]
  },
  {
   "cell_type": "code",
   "execution_count": 6,
   "metadata": {},
   "outputs": [],
   "source": [
    "df = df.drop(['status'], axis=1)"
   ]
  },
  {
   "cell_type": "code",
   "execution_count": 7,
   "metadata": {},
   "outputs": [],
   "source": [
    "le_gminy = preprocessing.LabelEncoder()\n",
    "le_miasta = preprocessing.LabelEncoder()\n",
    "df['adres_gmina'] = le_gminy.fit_transform(df['adresDzialanosci_gmina'])\n",
    "df['adres_miasto'] = le_miasta.fit_transform(df['adresDzialanosci_miasto'])\n",
    "df = df.drop(['adresDzialanosci_gmina', 'adresDzialanosci_miasto'], axis=1)"
   ]
  },
  {
   "cell_type": "code",
   "execution_count": 8,
   "metadata": {},
   "outputs": [
    {
     "data": {
      "text/html": [
       "<div>\n",
       "<style scoped>\n",
       "    .dataframe tbody tr th:only-of-type {\n",
       "        vertical-align: middle;\n",
       "    }\n",
       "\n",
       "    .dataframe tbody tr th {\n",
       "        vertical-align: top;\n",
       "    }\n",
       "\n",
       "    .dataframe thead th {\n",
       "        text-align: right;\n",
       "    }\n",
       "</style>\n",
       "<table border=\"1\" class=\"dataframe\">\n",
       "  <thead>\n",
       "    <tr style=\"text-align: right;\">\n",
       "      <th></th>\n",
       "      <th>2712Z</th>\n",
       "      <th>2790Z</th>\n",
       "      <th>2841Z</th>\n",
       "      <th>2899Z</th>\n",
       "      <th>3312Z</th>\n",
       "      <th>3320Z</th>\n",
       "      <th>4321Z</th>\n",
       "      <th>pkd_total</th>\n",
       "      <th>zamkniete_przez_covid</th>\n",
       "      <th>data_rozpoczecia_rok</th>\n",
       "      <th>data_rozpoczecia_miesiac</th>\n",
       "      <th>adres_gmina</th>\n",
       "      <th>adres_miasto</th>\n",
       "    </tr>\n",
       "  </thead>\n",
       "  <tbody>\n",
       "    <tr>\n",
       "      <th>26895</th>\n",
       "      <td>0</td>\n",
       "      <td>0</td>\n",
       "      <td>0</td>\n",
       "      <td>0</td>\n",
       "      <td>0</td>\n",
       "      <td>0</td>\n",
       "      <td>1</td>\n",
       "      <td>26</td>\n",
       "      <td>1</td>\n",
       "      <td>2001</td>\n",
       "      <td>8</td>\n",
       "      <td>253</td>\n",
       "      <td>2169</td>\n",
       "    </tr>\n",
       "    <tr>\n",
       "      <th>7685</th>\n",
       "      <td>0</td>\n",
       "      <td>0</td>\n",
       "      <td>0</td>\n",
       "      <td>0</td>\n",
       "      <td>0</td>\n",
       "      <td>0</td>\n",
       "      <td>1</td>\n",
       "      <td>14</td>\n",
       "      <td>0</td>\n",
       "      <td>2017</td>\n",
       "      <td>5</td>\n",
       "      <td>45</td>\n",
       "      <td>513</td>\n",
       "    </tr>\n",
       "    <tr>\n",
       "      <th>36222</th>\n",
       "      <td>0</td>\n",
       "      <td>0</td>\n",
       "      <td>0</td>\n",
       "      <td>0</td>\n",
       "      <td>1</td>\n",
       "      <td>0</td>\n",
       "      <td>0</td>\n",
       "      <td>42</td>\n",
       "      <td>1</td>\n",
       "      <td>2009</td>\n",
       "      <td>7</td>\n",
       "      <td>101</td>\n",
       "      <td>802</td>\n",
       "    </tr>\n",
       "  </tbody>\n",
       "</table>\n",
       "</div>"
      ],
      "text/plain": [
       "       2712Z  2790Z  2841Z  2899Z  3312Z  3320Z  4321Z  pkd_total  \\\n",
       "26895      0      0      0      0      0      0      1         26   \n",
       "7685       0      0      0      0      0      0      1         14   \n",
       "36222      0      0      0      0      1      0      0         42   \n",
       "\n",
       "       zamkniete_przez_covid  data_rozpoczecia_rok  data_rozpoczecia_miesiac  \\\n",
       "26895                      1                  2001                         8   \n",
       "7685                       0                  2017                         5   \n",
       "36222                      1                  2009                         7   \n",
       "\n",
       "       adres_gmina  adres_miasto  \n",
       "26895          253          2169  \n",
       "7685            45           513  \n",
       "36222          101           802  "
      ]
     },
     "execution_count": 8,
     "metadata": {},
     "output_type": "execute_result"
    }
   ],
   "source": [
    "df.sample(3)"
   ]
  },
  {
   "cell_type": "code",
   "execution_count": 9,
   "metadata": {},
   "outputs": [],
   "source": [
    "ilosc_firm_w_miescie = df['adres_miasto'].value_counts()\n",
    "ilosc_firm_w_gminie = df['adres_gmina'].value_counts()\n",
    "\n",
    "df['ilosc_firm_w_miescie'] = df['adres_miasto'].map(ilosc_firm_w_miescie)\n",
    "df['ilosc_firm_w_gminie'] = df['adres_gmina'].map(ilosc_firm_w_gminie)"
   ]
  },
  {
   "cell_type": "code",
   "execution_count": 10,
   "metadata": {},
   "outputs": [
    {
     "data": {
      "text/html": [
       "<div>\n",
       "<style scoped>\n",
       "    .dataframe tbody tr th:only-of-type {\n",
       "        vertical-align: middle;\n",
       "    }\n",
       "\n",
       "    .dataframe tbody tr th {\n",
       "        vertical-align: top;\n",
       "    }\n",
       "\n",
       "    .dataframe thead th {\n",
       "        text-align: right;\n",
       "    }\n",
       "</style>\n",
       "<table border=\"1\" class=\"dataframe\">\n",
       "  <thead>\n",
       "    <tr style=\"text-align: right;\">\n",
       "      <th></th>\n",
       "      <th>2712Z</th>\n",
       "      <th>2790Z</th>\n",
       "      <th>2841Z</th>\n",
       "      <th>2899Z</th>\n",
       "      <th>3312Z</th>\n",
       "      <th>3320Z</th>\n",
       "      <th>4321Z</th>\n",
       "      <th>pkd_total</th>\n",
       "      <th>zamkniete_przez_covid</th>\n",
       "      <th>data_rozpoczecia_rok</th>\n",
       "      <th>data_rozpoczecia_miesiac</th>\n",
       "      <th>adres_gmina</th>\n",
       "      <th>adres_miasto</th>\n",
       "      <th>ilosc_firm_w_miescie</th>\n",
       "      <th>ilosc_firm_w_gminie</th>\n",
       "    </tr>\n",
       "  </thead>\n",
       "  <tbody>\n",
       "    <tr>\n",
       "      <th>30687</th>\n",
       "      <td>0</td>\n",
       "      <td>0</td>\n",
       "      <td>0</td>\n",
       "      <td>0</td>\n",
       "      <td>0</td>\n",
       "      <td>0</td>\n",
       "      <td>1</td>\n",
       "      <td>15</td>\n",
       "      <td>0</td>\n",
       "      <td>2006</td>\n",
       "      <td>10</td>\n",
       "      <td>250</td>\n",
       "      <td>1939</td>\n",
       "      <td>211</td>\n",
       "      <td>373</td>\n",
       "    </tr>\n",
       "    <tr>\n",
       "      <th>27969</th>\n",
       "      <td>0</td>\n",
       "      <td>0</td>\n",
       "      <td>0</td>\n",
       "      <td>0</td>\n",
       "      <td>0</td>\n",
       "      <td>1</td>\n",
       "      <td>1</td>\n",
       "      <td>9</td>\n",
       "      <td>0</td>\n",
       "      <td>2016</td>\n",
       "      <td>2</td>\n",
       "      <td>197</td>\n",
       "      <td>109</td>\n",
       "      <td>7</td>\n",
       "      <td>117</td>\n",
       "    </tr>\n",
       "    <tr>\n",
       "      <th>16884</th>\n",
       "      <td>0</td>\n",
       "      <td>0</td>\n",
       "      <td>0</td>\n",
       "      <td>0</td>\n",
       "      <td>0</td>\n",
       "      <td>0</td>\n",
       "      <td>1</td>\n",
       "      <td>3</td>\n",
       "      <td>0</td>\n",
       "      <td>2007</td>\n",
       "      <td>5</td>\n",
       "      <td>142</td>\n",
       "      <td>1105</td>\n",
       "      <td>269</td>\n",
       "      <td>627</td>\n",
       "    </tr>\n",
       "  </tbody>\n",
       "</table>\n",
       "</div>"
      ],
      "text/plain": [
       "       2712Z  2790Z  2841Z  2899Z  3312Z  3320Z  4321Z  pkd_total  \\\n",
       "30687      0      0      0      0      0      0      1         15   \n",
       "27969      0      0      0      0      0      1      1          9   \n",
       "16884      0      0      0      0      0      0      1          3   \n",
       "\n",
       "       zamkniete_przez_covid  data_rozpoczecia_rok  data_rozpoczecia_miesiac  \\\n",
       "30687                      0                  2006                        10   \n",
       "27969                      0                  2016                         2   \n",
       "16884                      0                  2007                         5   \n",
       "\n",
       "       adres_gmina  adres_miasto  ilosc_firm_w_miescie  ilosc_firm_w_gminie  \n",
       "30687          250          1939                   211                  373  \n",
       "27969          197           109                     7                  117  \n",
       "16884          142          1105                   269                  627  "
      ]
     },
     "execution_count": 10,
     "metadata": {},
     "output_type": "execute_result"
    }
   ],
   "source": [
    "df.sample(3)"
   ]
  },
  {
   "cell_type": "code",
   "execution_count": 11,
   "metadata": {},
   "outputs": [
    {
     "data": {
      "text/plain": [
       "Text(0, 0.5, 'ilosc zakladanych firm')"
      ]
     },
     "execution_count": 11,
     "metadata": {},
     "output_type": "execute_result"
    },
    {
     "data": {
      "image/png": "[encoded data removed]",
      "text/plain": [
       "<Figure size 432x288 with 1 Axes>"
      ]
     },
     "metadata": {
      "needs_background": "light"
     },
     "output_type": "display_data"
    }
   ],
   "source": [
    "df.groupby(['data_rozpoczecia_miesiac'])['data_rozpoczecia_miesiac'].count().plot(linestyle=\"dashed\", marker=\"o\")\n",
    "plt.ylabel('ilosc zakladanych firm')"
   ]
  },
  {
   "cell_type": "code",
   "execution_count": 12,
   "metadata": {},
   "outputs": [
    {
     "data": {
      "text/plain": [
       "<AxesSubplot:ylabel='PKD'>"
      ]
     },
     "execution_count": 12,
     "metadata": {},
     "output_type": "execute_result"
    },
    {
     "data": {
      "image/png": "[encoded data removed]",
      "text/plain": [
       "<Figure size 432x432 with 1 Axes>"
      ]
     },
     "metadata": {},
     "output_type": "display_data"
    }
   ],
   "source": [
    "sums = df.sum()\n",
    "sums = sums[:6]\n",
    "sums.plot.pie(figsize=(6,6), ylabel='PKD')"
   ]
  },
  {
   "cell_type": "code",
   "execution_count": 13,
   "metadata": {},
   "outputs": [],
   "source": [
    "import seaborn as sns"
   ]
  },
  {
   "cell_type": "code",
   "execution_count": 14,
   "metadata": {},
   "outputs": [
    {
     "data": {
      "image/png": "[encoded data removed]",
      "text/plain": [
       "<Figure size 792x648 with 2 Axes>"
      ]
     },
     "metadata": {
      "needs_background": "light"
     },
     "output_type": "display_data"
    },
    {
     "data": {
      "text/html": [
       "<div>\n",
       "<style scoped>\n",
       "    .dataframe tbody tr th:only-of-type {\n",
       "        vertical-align: middle;\n",
       "    }\n",
       "\n",
       "    .dataframe tbody tr th {\n",
       "        vertical-align: top;\n",
       "    }\n",
       "\n",
       "    .dataframe thead th {\n",
       "        text-align: right;\n",
       "    }\n",
       "</style>\n",
       "<table border=\"1\" class=\"dataframe\">\n",
       "  <thead>\n",
       "    <tr style=\"text-align: right;\">\n",
       "      <th></th>\n",
       "      <th>2712Z</th>\n",
       "      <th>2790Z</th>\n",
       "      <th>2841Z</th>\n",
       "      <th>2899Z</th>\n",
       "      <th>3312Z</th>\n",
       "      <th>3320Z</th>\n",
       "      <th>4321Z</th>\n",
       "    </tr>\n",
       "  </thead>\n",
       "  <tbody>\n",
       "    <tr>\n",
       "      <th>2712Z</th>\n",
       "      <td>1.000000</td>\n",
       "      <td>0.475053</td>\n",
       "      <td>0.242814</td>\n",
       "      <td>0.236008</td>\n",
       "      <td>0.105552</td>\n",
       "      <td>0.189679</td>\n",
       "      <td>0.015598</td>\n",
       "    </tr>\n",
       "    <tr>\n",
       "      <th>2790Z</th>\n",
       "      <td>0.475053</td>\n",
       "      <td>1.000000</td>\n",
       "      <td>0.257839</td>\n",
       "      <td>0.268165</td>\n",
       "      <td>0.106186</td>\n",
       "      <td>0.178492</td>\n",
       "      <td>-0.040840</td>\n",
       "    </tr>\n",
       "    <tr>\n",
       "      <th>2841Z</th>\n",
       "      <td>0.242814</td>\n",
       "      <td>0.257839</td>\n",
       "      <td>1.000000</td>\n",
       "      <td>0.406760</td>\n",
       "      <td>0.144354</td>\n",
       "      <td>0.149784</td>\n",
       "      <td>-0.084343</td>\n",
       "    </tr>\n",
       "    <tr>\n",
       "      <th>2899Z</th>\n",
       "      <td>0.236008</td>\n",
       "      <td>0.268165</td>\n",
       "      <td>0.406760</td>\n",
       "      <td>1.000000</td>\n",
       "      <td>0.147911</td>\n",
       "      <td>0.191575</td>\n",
       "      <td>-0.119285</td>\n",
       "    </tr>\n",
       "    <tr>\n",
       "      <th>3312Z</th>\n",
       "      <td>0.105552</td>\n",
       "      <td>0.106186</td>\n",
       "      <td>0.144354</td>\n",
       "      <td>0.147911</td>\n",
       "      <td>1.000000</td>\n",
       "      <td>0.382626</td>\n",
       "      <td>-0.460385</td>\n",
       "    </tr>\n",
       "    <tr>\n",
       "      <th>3320Z</th>\n",
       "      <td>0.189679</td>\n",
       "      <td>0.178492</td>\n",
       "      <td>0.149784</td>\n",
       "      <td>0.191575</td>\n",
       "      <td>0.382626</td>\n",
       "      <td>1.000000</td>\n",
       "      <td>-0.223316</td>\n",
       "    </tr>\n",
       "    <tr>\n",
       "      <th>4321Z</th>\n",
       "      <td>0.015598</td>\n",
       "      <td>-0.040840</td>\n",
       "      <td>-0.084343</td>\n",
       "      <td>-0.119285</td>\n",
       "      <td>-0.460385</td>\n",
       "      <td>-0.223316</td>\n",
       "      <td>1.000000</td>\n",
       "    </tr>\n",
       "  </tbody>\n",
       "</table>\n",
       "</div>"
      ],
      "text/plain": [
       "          2712Z     2790Z     2841Z     2899Z     3312Z     3320Z     4321Z\n",
       "2712Z  1.000000  0.475053  0.242814  0.236008  0.105552  0.189679  0.015598\n",
       "2790Z  0.475053  1.000000  0.257839  0.268165  0.106186  0.178492 -0.040840\n",
       "2841Z  0.242814  0.257839  1.000000  0.406760  0.144354  0.149784 -0.084343\n",
       "2899Z  0.236008  0.268165  0.406760  1.000000  0.147911  0.191575 -0.119285\n",
       "3312Z  0.105552  0.106186  0.144354  0.147911  1.000000  0.382626 -0.460385\n",
       "3320Z  0.189679  0.178492  0.149784  0.191575  0.382626  1.000000 -0.223316\n",
       "4321Z  0.015598 -0.040840 -0.084343 -0.119285 -0.460385 -0.223316  1.000000"
      ]
     },
     "execution_count": 14,
     "metadata": {},
     "output_type": "execute_result"
    }
   ],
   "source": [
    "pkd_correlations = df[['2712Z', '2790Z', '2841Z', '2899Z', '3312Z', '3320Z', '4321Z']]\n",
    "\n",
    "corr = pkd_correlations.corr()\n",
    "\n",
    "# Generate a mask for the upper triangle\n",
    "mask = np.zeros_like(corr, dtype=bool)\n",
    "mask[np.triu_indices_from(mask)] = True\n",
    "\n",
    "# Set up the matplotlib figure\n",
    "f, ax = plt.subplots(figsize=(11, 9))\n",
    "\n",
    "# Generate a custom diverging colormap\n",
    "cmap = sns.diverging_palette(220, 10, as_cmap=True)\n",
    "\n",
    "# Draw the heatmap with the mask and correct aspect ratio\n",
    "sns.heatmap(corr, mask=mask, cmap=cmap, vmin=-1, vmax=1,\n",
    "            square=True, xticklabels=5, yticklabels=5,\n",
    "            linewidths=.5, cbar_kws={\"shrink\": .5}, ax=ax)\n",
    "plt.show()\n",
    "corr"
   ]
  },
  {
   "cell_type": "markdown",
   "metadata": {},
   "source": [
    "# LEARNING"
   ]
  },
  {
   "cell_type": "code",
   "execution_count": 15,
   "metadata": {},
   "outputs": [],
   "source": [
    "import matplotlib.pyplot as plt\n",
    "from sklearn.model_selection import train_test_split"
   ]
  },
  {
   "cell_type": "code",
   "execution_count": 16,
   "metadata": {},
   "outputs": [],
   "source": [
    "X = df.drop(['zamkniete_przez_covid'], axis=1)\n",
    "y = df['zamkniete_przez_covid']"
   ]
  },
  {
   "cell_type": "code",
   "execution_count": 17,
   "metadata": {},
   "outputs": [
    {
     "data": {
      "image/png": "[encoded data removed]",
      "text/plain": [
       "<Figure size 432x288 with 1 Axes>"
      ]
     },
     "metadata": {
      "needs_background": "light"
     },
     "output_type": "display_data"
    }
   ],
   "source": [
    "X_train, X_test, y_train, y_test = train_test_split(X, y, test_size=0.33, random_state=42)\n",
    "\n",
    "plt.hist(y_train, alpha=0.5)\n",
    "plt.hist(y_test, alpha=0.5)\n",
    "plt.show()"
   ]
  },
  {
   "cell_type": "code",
   "execution_count": 102,
   "metadata": {},
   "outputs": [
    {
     "name": "stdout",
     "output_type": "stream",
     "text": [
      "Ilosc zamknietych firm przez covid: 4923\n",
      "Ilosc firm w sumie: 49553\n",
      "Ilosc zamknietych firm ze wszystkich: 9.93481726636127%\n"
     ]
    }
   ],
   "source": [
    "print(f'Ilosc zamknietych firm przez covid: {y.sum()}')\n",
    "print(f'Ilosc firm w sumie: {y.shape[0]}')\n",
    "print(f'Ilosc zamknietych firm ze wszystkich: {y.sum() *100 / y.shape[0]}%')"
   ]
  },
  {
   "cell_type": "code",
   "execution_count": 69,
   "metadata": {},
   "outputs": [],
   "source": [
    "weight_for_0 = 1.0 / (y.shape[0] - y.sum())\n",
    "weight_for_1 = 1.0 / y.sum()"
   ]
  },
  {
   "cell_type": "markdown",
   "metadata": {},
   "source": [
    "## Decision Tree"
   ]
  },
  {
   "cell_type": "code",
   "execution_count": 18,
   "metadata": {},
   "outputs": [],
   "source": [
    "from sklearn.tree import DecisionTreeClassifier\n",
    "from sklearn import tree"
   ]
  },
  {
   "cell_type": "code",
   "execution_count": 65,
   "metadata": {},
   "outputs": [
    {
     "name": "stdout",
     "output_type": "stream",
     "text": [
      "-------------------------------\n",
      "Best max depth=1\n",
      "Max depth best score=0.8967773497217636\n"
     ]
    }
   ],
   "source": [
    "max_depth_params = np.arange(1, 14)\n",
    "max_depth_best = 3\n",
    "max_depth_best_score = 0\n",
    "\n",
    "acc_train = []\n",
    "acc_test = []\n",
    "\n",
    "for max_depth_param in max_depth_params:\n",
    "    decision_tree = DecisionTreeClassifier(max_depth=max_depth_param, random_state=0)\n",
    "    decision_tree.fit(X_train, y_train)\n",
    "\n",
    "    train_score = decision_tree.score(X_train, y_train)\n",
    "    test_score = decision_tree.score(X_test, y_test)\n",
    "    \n",
    "    acc_train.append(train_score)\n",
    "    acc_test.append(test_score)\n",
    "    \n",
    "    #print(f'max_depth={max_depth_param}')\n",
    "    #print(\"Accuracy on training set: {:.3f}\".format(train_score))\n",
    "    #print(\"Accuracy on test set: {:.3f}\".format(test_score))\n",
    "    #print()\n",
    "\n",
    "    if test_score > max_depth_best_score:\n",
    "        max_depth_best = max_depth_param\n",
    "        max_depth_best_score = test_score\n",
    "\n",
    "print('-------------------------------')\n",
    "print(f'Best max depth={max_depth_best}')\n",
    "print(f'Max depth best score={max_depth_best_score}')\n"
   ]
  },
  {
   "cell_type": "code",
   "execution_count": 20,
   "metadata": {},
   "outputs": [
    {
     "data": {
      "text/html": [
       "<style>#sk-container-id-1 {color: black;background-color: white;}#sk-container-id-1 pre{padding: 0;}#sk-container-id-1 div.sk-toggleable {background-color: white;}#sk-container-id-1 label.sk-toggleable__label {cursor: pointer;display: block;width: 100%;margin-bottom: 0;padding: 0.3em;box-sizing: border-box;text-align: center;}#sk-container-id-1 label.sk-toggleable__label-arrow:before {content: \"▸\";float: left;margin-right: 0.25em;color: #696969;}#sk-container-id-1 label.sk-toggleable__label-arrow:hover:before {color: black;}#sk-container-id-1 div.sk-estimator:hover label.sk-toggleable__label-arrow:before {color: black;}#sk-container-id-1 div.sk-toggleable__content {max-height: 0;max-width: 0;overflow: hidden;text-align: left;background-color: #f0f8ff;}#sk-container-id-1 div.sk-toggleable__content pre {margin: 0.2em;color: black;border-radius: 0.25em;background-color: #f0f8ff;}#sk-container-id-1 input.sk-toggleable__control:checked~div.sk-toggleable__content {max-height: 200px;max-width: 100%;overflow: auto;}#sk-container-id-1 input.sk-toggleable__control:checked~label.sk-toggleable__label-arrow:before {content: \"▾\";}#sk-container-id-1 div.sk-estimator input.sk-toggleable__control:checked~label.sk-toggleable__label {background-color: #d4ebff;}#sk-container-id-1 div.sk-label input.sk-toggleable__control:checked~label.sk-toggleable__label {background-color: #d4ebff;}#sk-container-id-1 input.sk-hidden--visually {border: 0;clip: rect(1px 1px 1px 1px);clip: rect(1px, 1px, 1px, 1px);height: 1px;margin: -1px;overflow: hidden;padding: 0;position: absolute;width: 1px;}#sk-container-id-1 div.sk-estimator {font-family: monospace;background-color: #f0f8ff;border: 1px dotted black;border-radius: 0.25em;box-sizing: border-box;margin-bottom: 0.5em;}#sk-container-id-1 div.sk-estimator:hover {background-color: #d4ebff;}#sk-container-id-1 div.sk-parallel-item::after {content: \"\";width: 100%;border-bottom: 1px solid gray;flex-grow: 1;}#sk-container-id-1 div.sk-label:hover label.sk-toggleable__label {background-color: #d4ebff;}#sk-container-id-1 div.sk-serial::before {content: \"\";position: absolute;border-left: 1px solid gray;box-sizing: border-box;top: 0;bottom: 0;left: 50%;z-index: 0;}#sk-container-id-1 div.sk-serial {display: flex;flex-direction: column;align-items: center;background-color: white;padding-right: 0.2em;padding-left: 0.2em;position: relative;}#sk-container-id-1 div.sk-item {position: relative;z-index: 1;}#sk-container-id-1 div.sk-parallel {display: flex;align-items: stretch;justify-content: center;background-color: white;position: relative;}#sk-container-id-1 div.sk-item::before, #sk-container-id-1 div.sk-parallel-item::before {content: \"\";position: absolute;border-left: 1px solid gray;box-sizing: border-box;top: 0;bottom: 0;left: 50%;z-index: -1;}#sk-container-id-1 div.sk-parallel-item {display: flex;flex-direction: column;z-index: 1;position: relative;background-color: white;}#sk-container-id-1 div.sk-parallel-item:first-child::after {align-self: flex-end;width: 50%;}#sk-container-id-1 div.sk-parallel-item:last-child::after {align-self: flex-start;width: 50%;}#sk-container-id-1 div.sk-parallel-item:only-child::after {width: 0;}#sk-container-id-1 div.sk-dashed-wrapped {border: 1px dashed gray;margin: 0 0.4em 0.5em 0.4em;box-sizing: border-box;padding-bottom: 0.4em;background-color: white;}#sk-container-id-1 div.sk-label label {font-family: monospace;font-weight: bold;display: inline-block;line-height: 1.2em;}#sk-container-id-1 div.sk-label-container {text-align: center;}#sk-container-id-1 div.sk-container {/* jupyter's `normalize.less` sets `[hidden] { display: none; }` but bootstrap.min.css set `[hidden] { display: none !important; }` so we also need the `!important` here to be able to override the default hidden behavior on the sphinx rendered scikit-learn.org. See: https://github.com/scikit-learn/scikit-learn/issues/21755 */display: inline-block !important;position: relative;}#sk-container-id-1 div.sk-text-repr-fallback {display: none;}</style><div id=\"sk-container-id-1\" class=\"sk-top-container\"><div class=\"sk-text-repr-fallback\"><pre>DecisionTreeClassifier(max_depth=1, random_state=0)</pre><b>In a Jupyter environment, please rerun this cell to show the HTML representation or trust the notebook. <br />On GitHub, the HTML representation is unable to render, please try loading this page with nbviewer.org.</b></div><div class=\"sk-container\" hidden><div class=\"sk-item\"><div class=\"sk-estimator sk-toggleable\"><input class=\"sk-toggleable__control sk-hidden--visually\" id=\"sk-estimator-id-1\" type=\"checkbox\" checked><label for=\"sk-estimator-id-1\" class=\"sk-toggleable__label sk-toggleable__label-arrow\">DecisionTreeClassifier</label><div class=\"sk-toggleable__content\"><pre>DecisionTreeClassifier(max_depth=1, random_state=0)</pre></div></div></div></div></div>"
      ],
      "text/plain": [
       "DecisionTreeClassifier(max_depth=1, random_state=0)"
      ]
     },
     "execution_count": 20,
     "metadata": {},
     "output_type": "execute_result"
    }
   ],
   "source": [
    "best_decision_tree = DecisionTreeClassifier(max_depth=max_depth_best, random_state=0)\n",
    "best_decision_tree.fit(X_train, y_train)"
   ]
  },
  {
   "cell_type": "code",
   "execution_count": 21,
   "metadata": {},
   "outputs": [
    {
     "data": {
      "text/plain": [
       "<matplotlib.legend.Legend at 0x1c9586fffd0>"
      ]
     },
     "execution_count": 21,
     "metadata": {},
     "output_type": "execute_result"
    },
    {
     "data": {
      "image/png": "[encoded data removed]",
      "text/plain": [
       "<Figure size 432x288 with 1 Axes>"
      ]
     },
     "metadata": {
      "needs_background": "light"
     },
     "output_type": "display_data"
    }
   ],
   "source": [
    "plt.plot(acc_train, label='train accuracy')\n",
    "plt.plot(acc_test, label='test accuracy')\n",
    "\n",
    "plt.legend(loc='upper right')"
   ]
  },
  {
   "cell_type": "code",
   "execution_count": 22,
   "metadata": {},
   "outputs": [
    {
     "name": "stdout",
     "output_type": "stream",
     "text": [
      "2712Z: 0.007594235508049418\n",
      "2790Z: 0.007113008983461285\n",
      "2841Z: 0.007215933065887062\n",
      "2899Z: 0.008300042632629928\n",
      "3312Z: 0.019297600926561635\n",
      "3320Z: 0.02188705410487627\n",
      "4321Z: 0.012710262299973211\n",
      "pkd_total: 0.17432118861512197\n",
      "data_rozpoczecia_rok: 0.14012703971195503\n",
      "data_rozpoczecia_miesiac: 0.12299705685350036\n",
      "adres_gmina: 0.11594584394315294\n",
      "adres_miasto: 0.12801284217305162\n",
      "ilosc_firm_w_miescie: 0.12756144779544182\n",
      "ilosc_firm_w_gminie: 0.10691644338633735\n"
     ]
    }
   ],
   "source": [
    "objects = list(df.drop(['zamkniete_przez_covid'], axis=1).columns)\n",
    "\n",
    "y_pos = np.arange(len(objects))\n",
    "performance = decision_tree.feature_importances_\n",
    "\n",
    "for i in range(len(objects)):\n",
    "    print(objects[i] + \": \" + str(performance[i]))"
   ]
  },
  {
   "cell_type": "code",
   "execution_count": 23,
   "metadata": {},
   "outputs": [
    {
     "data": {
      "image/png": "[encoded data removed]",
      "text/plain": [
       "<Figure size 432x288 with 1 Axes>"
      ]
     },
     "metadata": {
      "needs_background": "light"
     },
     "output_type": "display_data"
    }
   ],
   "source": [
    "plt.xlabel('Feature importance')\n",
    "plt.ylabel('Feature')\n",
    "plt.barh(y_pos, performance, align='center')\n",
    "plt.yticks(y_pos, objects)\n",
    "plt.show()"
   ]
  },
  {
   "cell_type": "code",
   "execution_count": 24,
   "metadata": {
    "scrolled": false
   },
   "outputs": [
    {
     "data": {
      "image/png": "[encoded data removed]",
      "text/plain": [
       "<Figure size 432x288 with 1 Axes>"
      ]
     },
     "metadata": {
      "needs_background": "light"
     },
     "output_type": "display_data"
    }
   ],
   "source": [
    "tree.plot_tree(best_decision_tree);"
   ]
  },
  {
   "cell_type": "code",
   "execution_count": 25,
   "metadata": {},
   "outputs": [
    {
     "data": {
      "text/plain": [
       "'data_rozpoczecia_rok'"
      ]
     },
     "execution_count": 25,
     "metadata": {},
     "output_type": "execute_result"
    }
   ],
   "source": [
    "X.columns[8]"
   ]
  },
  {
   "cell_type": "markdown",
   "metadata": {},
   "source": [
    "## Random forest"
   ]
  },
  {
   "cell_type": "code",
   "execution_count": 26,
   "metadata": {},
   "outputs": [],
   "source": [
    "from sklearn.ensemble import RandomForestClassifier"
   ]
  },
  {
   "cell_type": "code",
   "execution_count": 29,
   "metadata": {},
   "outputs": [
    {
     "name": "stdout",
     "output_type": "stream",
     "text": [
      "Accuracy on training set: 0.997\n",
      "Accuracy on test set: 0.894\n"
     ]
    }
   ],
   "source": [
    "random_forest = RandomForestClassifier()\n",
    "random_forest.fit(X_train, y_train)\n",
    "\n",
    "print(\"Accuracy on training set: {:.3f}\".format(random_forest.score(X_train, y_train)))\n",
    "print(\"Accuracy on test set: {:.3f}\".format(random_forest.score(X_test, y_test)))"
   ]
  },
  {
   "cell_type": "code",
   "execution_count": 49,
   "metadata": {},
   "outputs": [
    {
     "name": "stdout",
     "output_type": "stream",
     "text": [
      "{'n_estimators': [200, 400, 600, 800, 1000, 1200, 1400, 1600, 1800, 2000], 'max_features': ['auto', 'sqrt'], 'max_depth': [10, 20, 30, 40, 50, 60, 70, 80, 90, 100, 110, None], 'min_samples_split': [2, 5, 10], 'min_samples_leaf': [1, 2, 4], 'bootstrap': [True, False]}\n"
     ]
    }
   ],
   "source": [
    "from sklearn.model_selection import RandomizedSearchCV\n",
    "# Number of trees in random forest\n",
    "n_estimators = [int(x) for x in np.linspace(start = 200, stop = 2000, num = 10)]\n",
    "# Number of features to consider at every split\n",
    "max_features = ['auto', 'sqrt']\n",
    "# Maximum number of levels in tree\n",
    "max_depth = [int(x) for x in np.linspace(10, 110, num = 11)]\n",
    "max_depth.append(None)\n",
    "# Minimum number of samples required to split a node\n",
    "min_samples_split = [2, 5, 10]\n",
    "# Minimum number of samples required at each leaf node\n",
    "min_samples_leaf = [1, 2, 4]\n",
    "# Method of selecting samples for training each tree\n",
    "bootstrap = [True, False]\n",
    "# Create the random grid\n",
    "random_grid = {'n_estimators': n_estimators,\n",
    "               'max_features': max_features,\n",
    "               'max_depth': max_depth,\n",
    "               'min_samples_split': min_samples_split,\n",
    "               'min_samples_leaf': min_samples_leaf,\n",
    "               'bootstrap': bootstrap}\n",
    "print(random_grid)"
   ]
  },
  {
   "cell_type": "code",
   "execution_count": 50,
   "metadata": {},
   "outputs": [],
   "source": [
    "from sklearn.ensemble import RandomForestRegressor"
   ]
  },
  {
   "cell_type": "code",
   "execution_count": 51,
   "metadata": {},
   "outputs": [
    {
     "name": "stdout",
     "output_type": "stream",
     "text": [
      "Fitting 3 folds for each of 100 candidates, totalling 300 fits\n"
     ]
    },
    {
     "data": {
      "text/plain": [
       "RandomizedSearchCV(cv=3, estimator=RandomForestRegressor(), n_iter=100,\n",
       "                   n_jobs=-1,\n",
       "                   param_distributions={'bootstrap': [True, False],\n",
       "                                        'max_depth': [10, 20, 30, 40, 50, 60,\n",
       "                                                      70, 80, 90, 100, 110,\n",
       "                                                      None],\n",
       "                                        'max_features': ['auto', 'sqrt'],\n",
       "                                        'min_samples_leaf': [1, 2, 4],\n",
       "                                        'min_samples_split': [2, 5, 10],\n",
       "                                        'n_estimators': [200, 400, 600, 800,\n",
       "                                                         1000, 1200, 1400, 1600,\n",
       "                                                         1800, 2000]},\n",
       "                   random_state=42, verbose=2)"
      ]
     },
     "execution_count": 51,
     "metadata": {},
     "output_type": "execute_result"
    }
   ],
   "source": [
    "# Use the random grid to search for best hyperparameters\n",
    "# First create the base model to tune\n",
    "rf = RandomForestRegressor()\n",
    "# Random search of parameters, using 3 fold cross validation, \n",
    "# search across 100 different combinations, and use all available cores\n",
    "rf_random = RandomizedSearchCV(estimator = rf, param_distributions = random_grid, n_iter = 100, cv = 3, verbose=2, random_state=42, n_jobs = -1)\n",
    "# Fit the random search model\n",
    "rf_random.fit(X_train, y_train)"
   ]
  },
  {
   "cell_type": "code",
   "execution_count": 52,
   "metadata": {},
   "outputs": [
    {
     "data": {
      "text/plain": [
       "{'n_estimators': 2000,\n",
       " 'min_samples_split': 5,\n",
       " 'min_samples_leaf': 1,\n",
       " 'max_features': 'sqrt',\n",
       " 'max_depth': 10,\n",
       " 'bootstrap': True}"
      ]
     },
     "execution_count": 52,
     "metadata": {},
     "output_type": "execute_result"
    }
   ],
   "source": [
    "rf_random.best_params_"
   ]
  },
  {
   "cell_type": "code",
   "execution_count": 28,
   "metadata": {},
   "outputs": [
    {
     "name": "stdout",
     "output_type": "stream",
     "text": [
      "Accuracy on training set: 0.903\n",
      "Accuracy on test set: 0.897\n"
     ]
    }
   ],
   "source": [
    "best_random_forest = RandomForestClassifier(n_estimators=2000, min_samples_split=5, min_samples_leaf=1, max_features='sqrt', max_depth=10,bootstrap=True)\n",
    "best_random_forest.fit(X_train, y_train)\n",
    "\n",
    "print(\"Accuracy on training set: {:.3f}\".format(best_random_forest.score(X_train, y_train)))\n",
    "print(\"Accuracy on test set: {:.3f}\".format(best_random_forest.score(X_test, y_test)))"
   ]
  },
  {
   "cell_type": "markdown",
   "metadata": {},
   "source": [
    "### ================================"
   ]
  },
  {
   "cell_type": "markdown",
   "metadata": {},
   "source": [
    "### Normalizacja danych"
   ]
  },
  {
   "cell_type": "code",
   "execution_count": 62,
   "metadata": {},
   "outputs": [],
   "source": [
    "mean = np.mean(X_train, axis=0)\n",
    "X_train2 = X_train - mean\n",
    "std = np.std(X_train2, axis=0)\n",
    "X_train2 /= std"
   ]
  },
  {
   "cell_type": "markdown",
   "metadata": {},
   "source": [
    "Krótkie porównanie do random forest"
   ]
  },
  {
   "cell_type": "code",
   "execution_count": 94,
   "metadata": {},
   "outputs": [
    {
     "name": "stdout",
     "output_type": "stream",
     "text": [
      "Accuracy on training set 1: 0.997\n",
      "Accuracy on test set 1: 0.894\n",
      "================================\n",
      "Accuracy on training set 2: 0.997\n",
      "Accuracy on test set 2: 0.897\n"
     ]
    }
   ],
   "source": [
    "random_forest2 = RandomForestClassifier()\n",
    "random_forest2.fit(X_train2, y_train)\n",
    "\n",
    "\n",
    "print(\"Accuracy on training set 1: {:.3f}\".format(random_forest.score(X_train, y_train)))\n",
    "print(\"Accuracy on test set 1: {:.3f}\".format(random_forest.score(X_test, y_test)))\n",
    "print(\"================================\")\n",
    "print(\"Accuracy on training set 2: {:.3f}\".format(random_forest2.score(X_train2, y_train)))\n",
    "print(\"Accuracy on test set 2: {:.3f}\".format(random_forest2.score(X_test, y_test)))"
   ]
  },
  {
   "cell_type": "code",
   "execution_count": 111,
   "metadata": {},
   "outputs": [
    {
     "name": "stdout",
     "output_type": "stream",
     "text": [
      "Model: \"sequential_8\"\n",
      "_________________________________________________________________\n",
      " Layer (type)                Output Shape              Param #   \n",
      "=================================================================\n",
      " dense_26 (Dense)            (None, 256)               3840      \n",
      "                                                                 \n",
      " dense_27 (Dense)            (None, 256)               65792     \n",
      "                                                                 \n",
      " dropout_8 (Dropout)         (None, 256)               0         \n",
      "                                                                 \n",
      " dense_28 (Dense)            (None, 256)               65792     \n",
      "                                                                 \n",
      " dropout_9 (Dropout)         (None, 256)               0         \n",
      "                                                                 \n",
      " dense_29 (Dense)            (None, 1)                 257       \n",
      "                                                                 \n",
      "=================================================================\n",
      "Total params: 135,681\n",
      "Trainable params: 135,681\n",
      "Non-trainable params: 0\n",
      "_________________________________________________________________\n"
     ]
    }
   ],
   "source": [
    "from tensorflow import keras\n",
    "\n",
    "model = keras.Sequential(\n",
    "    [\n",
    "        keras.layers.Dense(\n",
    "            256, activation=\"relu\", input_shape=(X_train.shape[-1],)\n",
    "        ),\n",
    "        keras.layers.Dense(256, activation=\"relu\"),\n",
    "        keras.layers.Dropout(0.3),\n",
    "        keras.layers.Dense(256, activation=\"relu\"),\n",
    "        keras.layers.Dropout(0.3),\n",
    "        keras.layers.Dense(1, activation=\"sigmoid\"),\n",
    "    ]\n",
    ")\n",
    "model.summary()"
   ]
  },
  {
   "cell_type": "code",
   "execution_count": 71,
   "metadata": {},
   "outputs": [],
   "source": [
    "from keras.callbacks import History"
   ]
  },
  {
   "cell_type": "code",
   "execution_count": 117,
   "metadata": {},
   "outputs": [
    {
     "name": "stdout",
     "output_type": "stream",
     "text": [
      "Epoch 1/30\n",
      "519/519 - 4s - loss: 2.7746e-05 - fn: 2329.0000 - fp: 8630.0000 - tn: 21335.0000 - tp: 906.0000 - precision: 0.0950 - recall: 0.2801 - val_loss: 0.6825 - val_fn: 1688.0000 - val_fp: 0.0000e+00 - val_tn: 14665.0000 - val_tp: 0.0000e+00 - val_precision: 0.0000e+00 - val_recall: 0.0000e+00 - 4s/epoch - 7ms/step\n",
      "Epoch 2/30\n",
      "519/519 - 1s - loss: 2.7750e-05 - fn: 2182.0000 - fp: 9763.0000 - tn: 20202.0000 - tp: 1053.0000 - precision: 0.0974 - recall: 0.3255 - val_loss: 0.6841 - val_fn: 1688.0000 - val_fp: 0.0000e+00 - val_tn: 14665.0000 - val_tp: 0.0000e+00 - val_precision: 0.0000e+00 - val_recall: 0.0000e+00 - 1s/epoch - 3ms/step\n",
      "Epoch 3/30\n",
      "519/519 - 1s - loss: 2.7743e-05 - fn: 2448.0000 - fp: 7085.0000 - tn: 22880.0000 - tp: 787.0000 - precision: 0.1000 - recall: 0.2433 - val_loss: 0.6921 - val_fn: 1688.0000 - val_fp: 0.0000e+00 - val_tn: 14665.0000 - val_tp: 0.0000e+00 - val_precision: 0.0000e+00 - val_recall: 0.0000e+00 - 1s/epoch - 3ms/step\n",
      "Epoch 4/30\n",
      "519/519 - 2s - loss: 2.7748e-05 - fn: 2529.0000 - fp: 6846.0000 - tn: 23119.0000 - tp: 706.0000 - precision: 0.0935 - recall: 0.2182 - val_loss: 0.6780 - val_fn: 1688.0000 - val_fp: 0.0000e+00 - val_tn: 14665.0000 - val_tp: 0.0000e+00 - val_precision: 0.0000e+00 - val_recall: 0.0000e+00 - 2s/epoch - 3ms/step\n",
      "Epoch 5/30\n",
      "519/519 - 2s - loss: 2.7750e-05 - fn: 2197.0000 - fp: 10162.0000 - tn: 19803.0000 - tp: 1038.0000 - precision: 0.0927 - recall: 0.3209 - val_loss: 0.6848 - val_fn: 1688.0000 - val_fp: 0.0000e+00 - val_tn: 14665.0000 - val_tp: 0.0000e+00 - val_precision: 0.0000e+00 - val_recall: 0.0000e+00 - 2s/epoch - 3ms/step\n",
      "Epoch 6/30\n",
      "519/519 - 2s - loss: 2.7736e-05 - fn: 2556.0000 - fp: 6345.0000 - tn: 23620.0000 - tp: 679.0000 - precision: 0.0967 - recall: 0.2099 - val_loss: 0.7291 - val_fn: 0.0000e+00 - val_fp: 14665.0000 - val_tn: 0.0000e+00 - val_tp: 1688.0000 - val_precision: 0.1032 - val_recall: 1.0000 - 2s/epoch - 4ms/step\n",
      "Epoch 7/30\n",
      "519/519 - 2s - loss: 2.7745e-05 - fn: 1955.0000 - fp: 11696.0000 - tn: 18269.0000 - tp: 1280.0000 - precision: 0.0986 - recall: 0.3957 - val_loss: 0.6992 - val_fn: 0.0000e+00 - val_fp: 14665.0000 - val_tn: 0.0000e+00 - val_tp: 1688.0000 - val_precision: 0.1032 - val_recall: 1.0000 - 2s/epoch - 3ms/step\n",
      "Epoch 8/30\n",
      "519/519 - 2s - loss: 2.7748e-05 - fn: 2261.0000 - fp: 9586.0000 - tn: 20379.0000 - tp: 974.0000 - precision: 0.0922 - recall: 0.3011 - val_loss: 0.6752 - val_fn: 1688.0000 - val_fp: 0.0000e+00 - val_tn: 14665.0000 - val_tp: 0.0000e+00 - val_precision: 0.0000e+00 - val_recall: 0.0000e+00 - 2s/epoch - 4ms/step\n",
      "Epoch 9/30\n",
      "519/519 - 2s - loss: 2.7745e-05 - fn: 2457.0000 - fp: 7222.0000 - tn: 22743.0000 - tp: 778.0000 - precision: 0.0972 - recall: 0.2405 - val_loss: 0.6584 - val_fn: 1688.0000 - val_fp: 0.0000e+00 - val_tn: 14665.0000 - val_tp: 0.0000e+00 - val_precision: 0.0000e+00 - val_recall: 0.0000e+00 - 2s/epoch - 3ms/step\n",
      "Epoch 10/30\n",
      "519/519 - 2s - loss: 2.7751e-05 - fn: 2530.0000 - fp: 6975.0000 - tn: 22990.0000 - tp: 705.0000 - precision: 0.0918 - recall: 0.2179 - val_loss: 0.6685 - val_fn: 1688.0000 - val_fp: 0.0000e+00 - val_tn: 14665.0000 - val_tp: 0.0000e+00 - val_precision: 0.0000e+00 - val_recall: 0.0000e+00 - 2s/epoch - 3ms/step\n",
      "Epoch 11/30\n",
      "519/519 - 2s - loss: 2.7750e-05 - fn: 2329.0000 - fp: 8230.0000 - tn: 21735.0000 - tp: 906.0000 - precision: 0.0992 - recall: 0.2801 - val_loss: 0.7041 - val_fn: 0.0000e+00 - val_fp: 14665.0000 - val_tn: 0.0000e+00 - val_tp: 1688.0000 - val_precision: 0.1032 - val_recall: 1.0000 - 2s/epoch - 4ms/step\n",
      "Epoch 12/30\n",
      "519/519 - 2s - loss: 2.7747e-05 - fn: 2398.0000 - fp: 7851.0000 - tn: 22114.0000 - tp: 837.0000 - precision: 0.0963 - recall: 0.2587 - val_loss: 0.6984 - val_fn: 0.0000e+00 - val_fp: 14665.0000 - val_tn: 0.0000e+00 - val_tp: 1688.0000 - val_precision: 0.1032 - val_recall: 1.0000 - 2s/epoch - 3ms/step\n",
      "Epoch 13/30\n",
      "519/519 - 2s - loss: 2.7740e-05 - fn: 1978.0000 - fp: 11607.0000 - tn: 18358.0000 - tp: 1257.0000 - precision: 0.0977 - recall: 0.3886 - val_loss: 0.6814 - val_fn: 1688.0000 - val_fp: 0.0000e+00 - val_tn: 14665.0000 - val_tp: 0.0000e+00 - val_precision: 0.0000e+00 - val_recall: 0.0000e+00 - 2s/epoch - 3ms/step\n",
      "Epoch 14/30\n",
      "519/519 - 2s - loss: 2.7736e-05 - fn: 1771.0000 - fp: 13192.0000 - tn: 16773.0000 - tp: 1464.0000 - precision: 0.0999 - recall: 0.4526 - val_loss: 0.6654 - val_fn: 1688.0000 - val_fp: 0.0000e+00 - val_tn: 14665.0000 - val_tp: 0.0000e+00 - val_precision: 0.0000e+00 - val_recall: 0.0000e+00 - 2s/epoch - 3ms/step\n",
      "Epoch 15/30\n",
      "519/519 - 2s - loss: 2.7750e-05 - fn: 2363.0000 - fp: 8088.0000 - tn: 21877.0000 - tp: 872.0000 - precision: 0.0973 - recall: 0.2696 - val_loss: 0.6927 - val_fn: 1688.0000 - val_fp: 0.0000e+00 - val_tn: 14665.0000 - val_tp: 0.0000e+00 - val_precision: 0.0000e+00 - val_recall: 0.0000e+00 - 2s/epoch - 3ms/step\n",
      "Epoch 16/30\n",
      "519/519 - 2s - loss: 2.7745e-05 - fn: 2123.0000 - fp: 10392.0000 - tn: 19573.0000 - tp: 1112.0000 - precision: 0.0967 - recall: 0.3437 - val_loss: 0.6938 - val_fn: 0.0000e+00 - val_fp: 14665.0000 - val_tn: 0.0000e+00 - val_tp: 1688.0000 - val_precision: 0.1032 - val_recall: 1.0000 - 2s/epoch - 3ms/step\n",
      "Epoch 17/30\n",
      "519/519 - 2s - loss: 2.7746e-05 - fn: 2187.0000 - fp: 10072.0000 - tn: 19893.0000 - tp: 1048.0000 - precision: 0.0942 - recall: 0.3240 - val_loss: 0.7055 - val_fn: 0.0000e+00 - val_fp: 14665.0000 - val_tn: 0.0000e+00 - val_tp: 1688.0000 - val_precision: 0.1032 - val_recall: 1.0000 - 2s/epoch - 3ms/step\n",
      "Epoch 18/30\n",
      "519/519 - 2s - loss: 2.7746e-05 - fn: 2011.0000 - fp: 11368.0000 - tn: 18597.0000 - tp: 1224.0000 - precision: 0.0972 - recall: 0.3784 - val_loss: 0.6993 - val_fn: 0.0000e+00 - val_fp: 14665.0000 - val_tn: 0.0000e+00 - val_tp: 1688.0000 - val_precision: 0.1032 - val_recall: 1.0000 - 2s/epoch - 3ms/step\n",
      "Epoch 19/30\n",
      "519/519 - 2s - loss: 2.7750e-05 - fn: 2372.0000 - fp: 8225.0000 - tn: 21740.0000 - tp: 863.0000 - precision: 0.0950 - recall: 0.2668 - val_loss: 0.6924 - val_fn: 1688.0000 - val_fp: 0.0000e+00 - val_tn: 14665.0000 - val_tp: 0.0000e+00 - val_precision: 0.0000e+00 - val_recall: 0.0000e+00 - 2s/epoch - 3ms/step\n",
      "Epoch 20/30\n",
      "519/519 - 2s - loss: 2.7749e-05 - fn: 2186.0000 - fp: 9943.0000 - tn: 20022.0000 - tp: 1049.0000 - precision: 0.0954 - recall: 0.3243 - val_loss: 0.6938 - val_fn: 0.0000e+00 - val_fp: 14665.0000 - val_tn: 0.0000e+00 - val_tp: 1688.0000 - val_precision: 0.1032 - val_recall: 1.0000 - 2s/epoch - 3ms/step\n",
      "Epoch 21/30\n",
      "519/519 - 2s - loss: 2.7744e-05 - fn: 2453.0000 - fp: 7410.0000 - tn: 22555.0000 - tp: 782.0000 - precision: 0.0955 - recall: 0.2417 - val_loss: 0.6876 - val_fn: 1688.0000 - val_fp: 0.0000e+00 - val_tn: 14665.0000 - val_tp: 0.0000e+00 - val_precision: 0.0000e+00 - val_recall: 0.0000e+00 - 2s/epoch - 3ms/step\n",
      "Epoch 22/30\n",
      "519/519 - 2s - loss: 2.7745e-05 - fn: 2316.0000 - fp: 8809.0000 - tn: 21156.0000 - tp: 919.0000 - precision: 0.0945 - recall: 0.2841 - val_loss: 0.6719 - val_fn: 1688.0000 - val_fp: 0.0000e+00 - val_tn: 14665.0000 - val_tp: 0.0000e+00 - val_precision: 0.0000e+00 - val_recall: 0.0000e+00 - 2s/epoch - 3ms/step\n",
      "Epoch 23/30\n",
      "519/519 - 2s - loss: 2.7749e-05 - fn: 2496.0000 - fp: 7181.0000 - tn: 22784.0000 - tp: 739.0000 - precision: 0.0933 - recall: 0.2284 - val_loss: 0.6983 - val_fn: 0.0000e+00 - val_fp: 14665.0000 - val_tn: 0.0000e+00 - val_tp: 1688.0000 - val_precision: 0.1032 - val_recall: 1.0000 - 2s/epoch - 4ms/step\n",
      "Epoch 24/30\n",
      "519/519 - 2s - loss: 2.7748e-05 - fn: 1856.0000 - fp: 12829.0000 - tn: 17136.0000 - tp: 1379.0000 - precision: 0.0971 - recall: 0.4263 - val_loss: 0.6706 - val_fn: 1688.0000 - val_fp: 0.0000e+00 - val_tn: 14665.0000 - val_tp: 0.0000e+00 - val_precision: 0.0000e+00 - val_recall: 0.0000e+00 - 2s/epoch - 4ms/step\n",
      "Epoch 25/30\n",
      "519/519 - 2s - loss: 2.7749e-05 - fn: 2548.0000 - fp: 6545.0000 - tn: 23420.0000 - tp: 687.0000 - precision: 0.0950 - recall: 0.2124 - val_loss: 0.6814 - val_fn: 1688.0000 - val_fp: 0.0000e+00 - val_tn: 14665.0000 - val_tp: 0.0000e+00 - val_precision: 0.0000e+00 - val_recall: 0.0000e+00 - 2s/epoch - 3ms/step\n",
      "Epoch 26/30\n",
      "519/519 - 2s - loss: 2.7751e-05 - fn: 2619.0000 - fp: 6232.0000 - tn: 23733.0000 - tp: 616.0000 - precision: 0.0900 - recall: 0.1904 - val_loss: 0.6935 - val_fn: 0.0000e+00 - val_fp: 14665.0000 - val_tn: 0.0000e+00 - val_tp: 1688.0000 - val_precision: 0.1032 - val_recall: 1.0000 - 2s/epoch - 3ms/step\n",
      "Epoch 27/30\n",
      "519/519 - 2s - loss: 2.7750e-05 - fn: 1901.0000 - fp: 12362.0000 - tn: 17603.0000 - tp: 1334.0000 - precision: 0.0974 - recall: 0.4124 - val_loss: 0.6835 - val_fn: 1688.0000 - val_fp: 0.0000e+00 - val_tn: 14665.0000 - val_tp: 0.0000e+00 - val_precision: 0.0000e+00 - val_recall: 0.0000e+00 - 2s/epoch - 3ms/step\n",
      "Epoch 28/30\n",
      "519/519 - 2s - loss: 2.7755e-05 - fn: 2487.0000 - fp: 7508.0000 - tn: 22457.0000 - tp: 748.0000 - precision: 0.0906 - recall: 0.2312 - val_loss: 0.6862 - val_fn: 1688.0000 - val_fp: 0.0000e+00 - val_tn: 14665.0000 - val_tp: 0.0000e+00 - val_precision: 0.0000e+00 - val_recall: 0.0000e+00 - 2s/epoch - 3ms/step\n",
      "Epoch 29/30\n",
      "519/519 - 2s - loss: 2.7747e-05 - fn: 1849.0000 - fp: 12742.0000 - tn: 17223.0000 - tp: 1386.0000 - precision: 0.0981 - recall: 0.4284 - val_loss: 0.7031 - val_fn: 0.0000e+00 - val_fp: 14665.0000 - val_tn: 0.0000e+00 - val_tp: 1688.0000 - val_precision: 0.1032 - val_recall: 1.0000 - 2s/epoch - 3ms/step\n",
      "Epoch 30/30\n",
      "519/519 - 2s - loss: 2.7747e-05 - fn: 2001.0000 - fp: 11374.0000 - tn: 18591.0000 - tp: 1234.0000 - precision: 0.0979 - recall: 0.3815 - val_loss: 0.6637 - val_fn: 1688.0000 - val_fp: 0.0000e+00 - val_tn: 14665.0000 - val_tp: 0.0000e+00 - val_precision: 0.0000e+00 - val_recall: 0.0000e+00 - 2s/epoch - 4ms/step\n"
     ]
    }
   ],
   "source": [
    "metrics = [\n",
    "    keras.metrics.FalseNegatives(name=\"fn\"),\n",
    "    keras.metrics.FalsePositives(name=\"fp\"),\n",
    "    keras.metrics.TrueNegatives(name=\"tn\"),\n",
    "    keras.metrics.TruePositives(name=\"tp\"),\n",
    "    keras.metrics.Precision(name=\"precision\"),\n",
    "    keras.metrics.Recall(name=\"recall\"),\n",
    "]\n",
    "\n",
    "model.compile(\n",
    "    optimizer=keras.optimizers.Adam(1e-2), loss=\"binary_crossentropy\", metrics=metrics\n",
    ")\n",
    "\n",
    "class_weight = {0: weight_for_0, 1: weight_for_1}\n",
    "\n",
    "history = History()\n",
    "\n",
    "history = model.fit(\n",
    "    X_train,\n",
    "    y_train,\n",
    "    #batch_size=2048,\n",
    "    batch_size=64,\n",
    "    epochs=30,\n",
    "    verbose=2,\n",
    "    validation_data=(X_test, y_test),\n",
    "    class_weight=class_weight,\n",
    ")\n"
   ]
  },
  {
   "cell_type": "code",
   "execution_count": 119,
   "metadata": {},
   "outputs": [
    {
     "data": {
      "image/png": "[encoded data removed]",
      "text/plain": [
       "<Figure size 864x576 with 1 Axes>"
      ]
     },
     "metadata": {
      "needs_background": "light"
     },
     "output_type": "display_data"
    }
   ],
   "source": [
    "pd.DataFrame(history.history).plot(figsize=(12, 8))\n",
    "plt.grid(True)\n",
    "plt.gca().set_ylim(0, 1)\n",
    "plt.xlabel(\"epoch\")\n",
    "plt.show()"
   ]
  },
  {
   "cell_type": "code",
   "execution_count": 106,
   "metadata": {},
   "outputs": [
    {
     "name": "stdout",
     "output_type": "stream",
     "text": [
      "512/512 [==============================] - 1s 1ms/step - loss: 592.3930 - accuracy: 0.8778 - fn: 1686.0000 - fp: 2.0000 - tn: 14663.0000 - tp: 2.0000\n"
     ]
    },
    {
     "data": {
      "text/plain": [
       "[592.3930053710938, 0.8777594566345215, 1686.0, 2.0, 14663.0, 2.0]"
      ]
     },
     "execution_count": 106,
     "metadata": {},
     "output_type": "execute_result"
    }
   ],
   "source": [
    "model.evaluate(X_test, y_test)"
   ]
  },
  {
   "cell_type": "code",
   "execution_count": 120,
   "metadata": {},
   "outputs": [],
   "source": [
    "from keras.models import Sequential\n",
    "from keras.layers import Dense\n",
    "from keras.layers import BatchNormalization\n",
    "from keras.layers import Activation"
   ]
  },
  {
   "cell_type": "code",
   "execution_count": 121,
   "metadata": {},
   "outputs": [
    {
     "name": "stdout",
     "output_type": "stream",
     "text": [
      "Model: \"sequential_9\"\n",
      "_________________________________________________________________\n",
      " Layer (type)                Output Shape              Param #   \n",
      "=================================================================\n",
      " dense_30 (Dense)            (None, 100)               1400      \n",
      "                                                                 \n",
      " batch_normalization_6 (Batc  (None, 100)              400       \n",
      " hNormalization)                                                 \n",
      "                                                                 \n",
      " activation_8 (Activation)   (None, 100)               0         \n",
      "                                                                 \n",
      " dense_31 (Dense)            (None, 50)                5000      \n",
      "                                                                 \n",
      " batch_normalization_7 (Batc  (None, 50)               200       \n",
      " hNormalization)                                                 \n",
      "                                                                 \n",
      " activation_9 (Activation)   (None, 50)                0         \n",
      "                                                                 \n",
      " dense_32 (Dense)            (None, 10)                500       \n",
      "                                                                 \n",
      " batch_normalization_8 (Batc  (None, 10)               40        \n",
      " hNormalization)                                                 \n",
      "                                                                 \n",
      " activation_10 (Activation)  (None, 10)                0         \n",
      "                                                                 \n",
      " dense_33 (Dense)            (None, 1)                 11        \n",
      "                                                                 \n",
      "=================================================================\n",
      "Total params: 7,551\n",
      "Trainable params: 7,231\n",
      "Non-trainable params: 320\n",
      "_________________________________________________________________\n"
     ]
    }
   ],
   "source": [
    "history = History()\n",
    "model = Sequential()\n",
    "model.add(Dense(100, use_bias=False,input_shape=(X_train.shape[1],)))\n",
    "model.add(BatchNormalization())\n",
    "model.add(Activation(\"sigmoid\"))\n",
    "model.add(Dense(50, use_bias=False))\n",
    "model.add(BatchNormalization())\n",
    "model.add(Activation(\"sigmoid\"))\n",
    "model.add(Dense(10, use_bias=False))\n",
    "model.add(BatchNormalization())\n",
    "model.add(Activation(\"sigmoid\"))\n",
    "model.add(Dense(1,activation=\"sigmoid\"))\n",
    "model.summary()"
   ]
  },
  {
   "cell_type": "code",
   "execution_count": 122,
   "metadata": {},
   "outputs": [],
   "source": [
    "model.compile(loss=\"binary_crossentropy\",optimizer=\"Adam\", metrics=[\"accuracy\"])"
   ]
  },
  {
   "cell_type": "code",
   "execution_count": 123,
   "metadata": {},
   "outputs": [
    {
     "name": "stdout",
     "output_type": "stream",
     "text": [
      "Epoch 1/15\n",
      "1038/1038 [==============================] - 4s 2ms/step - loss: 0.3463 - accuracy: 0.9001 - val_loss: 0.3326 - val_accuracy: 0.8968\n",
      "Epoch 2/15\n",
      "1038/1038 [==============================] - 2s 2ms/step - loss: 0.3194 - accuracy: 0.9026 - val_loss: 0.3323 - val_accuracy: 0.8968\n",
      "Epoch 3/15\n",
      "1038/1038 [==============================] - 2s 2ms/step - loss: 0.3195 - accuracy: 0.9026 - val_loss: 0.3321 - val_accuracy: 0.8968\n",
      "Epoch 4/15\n",
      "1038/1038 [==============================] - 2s 2ms/step - loss: 0.3193 - accuracy: 0.9026 - val_loss: 0.3320 - val_accuracy: 0.8968\n",
      "Epoch 5/15\n",
      "1038/1038 [==============================] - 3s 2ms/step - loss: 0.3193 - accuracy: 0.9026 - val_loss: 0.3323 - val_accuracy: 0.8968\n",
      "Epoch 6/15\n",
      "1038/1038 [==============================] - 2s 2ms/step - loss: 0.3194 - accuracy: 0.9026 - val_loss: 0.3326 - val_accuracy: 0.8968\n",
      "Epoch 7/15\n",
      "1038/1038 [==============================] - 2s 2ms/step - loss: 0.3192 - accuracy: 0.9026 - val_loss: 0.3319 - val_accuracy: 0.8968\n",
      "Epoch 8/15\n",
      "1038/1038 [==============================] - 2s 2ms/step - loss: 0.3195 - accuracy: 0.9026 - val_loss: 0.3318 - val_accuracy: 0.8968\n",
      "Epoch 9/15\n",
      "1038/1038 [==============================] - 2s 2ms/step - loss: 0.3191 - accuracy: 0.9026 - val_loss: 0.3319 - val_accuracy: 0.8968\n",
      "Epoch 10/15\n",
      "1038/1038 [==============================] - 2s 2ms/step - loss: 0.3190 - accuracy: 0.9026 - val_loss: 0.3319 - val_accuracy: 0.8968\n",
      "Epoch 11/15\n",
      "1038/1038 [==============================] - 2s 2ms/step - loss: 0.3188 - accuracy: 0.9026 - val_loss: 0.3327 - val_accuracy: 0.8968\n",
      "Epoch 12/15\n",
      "1038/1038 [==============================] - 2s 2ms/step - loss: 0.3190 - accuracy: 0.9026 - val_loss: 0.3316 - val_accuracy: 0.8968\n",
      "Epoch 13/15\n",
      "1038/1038 [==============================] - 2s 2ms/step - loss: 0.3187 - accuracy: 0.9026 - val_loss: 0.3325 - val_accuracy: 0.8968\n",
      "Epoch 14/15\n",
      "1038/1038 [==============================] - 2s 2ms/step - loss: 0.3190 - accuracy: 0.9026 - val_loss: 0.3332 - val_accuracy: 0.8968\n",
      "Epoch 15/15\n",
      "1038/1038 [==============================] - 2s 2ms/step - loss: 0.3190 - accuracy: 0.9026 - val_loss: 0.3317 - val_accuracy: 0.8968\n"
     ]
    }
   ],
   "source": [
    "history = model.fit(X_train, y_train, validation_data= (X_test, y_test), batch_size=32,epochs=15)"
   ]
  },
  {
   "cell_type": "code",
   "execution_count": 124,
   "metadata": {},
   "outputs": [
    {
     "data": {
      "image/png": "[encoded data removed]",
      "text/plain": [
       "<Figure size 576x360 with 1 Axes>"
      ]
     },
     "metadata": {
      "needs_background": "light"
     },
     "output_type": "display_data"
    }
   ],
   "source": [
    "pd.DataFrame(history.history).plot(figsize=(8, 5))\n",
    "plt.grid(True)\n",
    "plt.gca().set_ylim(0, 1)\n",
    "plt.show()"
   ]
  },
  {
   "cell_type": "code",
   "execution_count": 125,
   "metadata": {},
   "outputs": [
    {
     "name": "stdout",
     "output_type": "stream",
     "text": [
      "512/512 [==============================] - 1s 1ms/step - loss: 0.3317 - accuracy: 0.8968\n"
     ]
    },
    {
     "data": {
      "text/plain": [
       "[0.3316711187362671, 0.896777331829071]"
      ]
     },
     "execution_count": 125,
     "metadata": {},
     "output_type": "execute_result"
    }
   ],
   "source": [
    "model.evaluate(X_test,y_test)"
   ]
  },
  {
   "cell_type": "code",
   "execution_count": null,
   "metadata": {},
   "outputs": [],
   "source": []
  }
 ],
 "metadata": {
  "interpreter": {
   "hash": "51aed2a52afa3683c2af9c8b0aaeea74002eb36b80a026ff638e5de3d0c71cb3"
  },
  "kernelspec": {
   "display_name": "Python 3.9.2 64-bit",
   "language": "python",
   "name": "python3"
  },
  "language_info": {
   "codemirror_mode": {
    "name": "ipython",
    "version": 3
   },
   "file_extension": ".py",
   "mimetype": "text/x-python",
   "name": "python",
   "nbconvert_exporter": "python",
   "pygments_lexer": "ipython3",
   "version": "3.9.2"
  }
 },
 "nbformat": 4,
 "nbformat_minor": 2
}
