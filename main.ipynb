{
 "cells": [
  {
   "cell_type": "code",
   "execution_count": 2,
   "metadata": {},
   "outputs": [],
   "source": [
    "import pandas as pd\n",
    "import numpy as np\n",
    "import matplotlib.pyplot as plt\n",
    "from sklearn import preprocessing"
   ]
  },
  {
   "cell_type": "code",
   "execution_count": 6,
   "metadata": {},
   "outputs": [],
   "source": [
    "df = pd.read_csv('./data/data_processed_main.csv')"
   ]
  },
  {
   "cell_type": "markdown",
   "metadata": {},
   "source": [
    "# Preprocessing v2"
   ]
  },
  {
   "cell_type": "code",
   "execution_count": 8,
   "metadata": {},
   "outputs": [
    {
     "data": {
      "text/plain": [
       "Index(['adresDzialanosci_gmina', 'adresDzialanosci_miasto', '2712Z', '2790Z',\n",
       "       '2841Z', '2899Z', '3312Z', '3320Z', '4321Z', 'pkd_total',\n",
       "       'data_rozpoczecia', 'status', 'zamkniete_przez_covid'],\n",
       "      dtype='object')"
      ]
     },
     "execution_count": 8,
     "metadata": {},
     "output_type": "execute_result"
    }
   ],
   "source": [
    "df.columns"
   ]
  },
  {
   "cell_type": "code",
   "execution_count": 9,
   "metadata": {},
   "outputs": [
    {
     "data": {
      "text/html": [
       "<div>\n",
       "<style scoped>\n",
       "    .dataframe tbody tr th:only-of-type {\n",
       "        vertical-align: middle;\n",
       "    }\n",
       "\n",
       "    .dataframe tbody tr th {\n",
       "        vertical-align: top;\n",
       "    }\n",
       "\n",
       "    .dataframe thead th {\n",
       "        text-align: right;\n",
       "    }\n",
       "</style>\n",
       "<table border=\"1\" class=\"dataframe\">\n",
       "  <thead>\n",
       "    <tr style=\"text-align: right;\">\n",
       "      <th></th>\n",
       "      <th>adresDzialanosci_gmina</th>\n",
       "      <th>adresDzialanosci_miasto</th>\n",
       "      <th>2712Z</th>\n",
       "      <th>2790Z</th>\n",
       "      <th>2841Z</th>\n",
       "      <th>2899Z</th>\n",
       "      <th>3312Z</th>\n",
       "      <th>3320Z</th>\n",
       "      <th>4321Z</th>\n",
       "      <th>pkd_total</th>\n",
       "      <th>data_rozpoczecia</th>\n",
       "      <th>status</th>\n",
       "      <th>zamkniete_przez_covid</th>\n",
       "    </tr>\n",
       "  </thead>\n",
       "  <tbody>\n",
       "    <tr>\n",
       "      <th>1021</th>\n",
       "      <td>Nowy Wiśnicz</td>\n",
       "      <td>Królówka</td>\n",
       "      <td>0</td>\n",
       "      <td>0</td>\n",
       "      <td>0</td>\n",
       "      <td>0</td>\n",
       "      <td>0</td>\n",
       "      <td>0</td>\n",
       "      <td>1</td>\n",
       "      <td>3</td>\n",
       "      <td>2021-09-22</td>\n",
       "      <td>AKTYWNY</td>\n",
       "      <td>0</td>\n",
       "    </tr>\n",
       "  </tbody>\n",
       "</table>\n",
       "</div>"
      ],
      "text/plain": [
       "     adresDzialanosci_gmina adresDzialanosci_miasto  2712Z  2790Z  2841Z  \\\n",
       "1021           Nowy Wiśnicz                Królówka      0      0      0   \n",
       "\n",
       "      2899Z  3312Z  3320Z  4321Z  pkd_total data_rozpoczecia   status  \\\n",
       "1021      0      0      0      1          3       2021-09-22  AKTYWNY   \n",
       "\n",
       "      zamkniete_przez_covid  \n",
       "1021                      0  "
      ]
     },
     "execution_count": 9,
     "metadata": {},
     "output_type": "execute_result"
    }
   ],
   "source": [
    "df.sample()"
   ]
  },
  {
   "cell_type": "code",
   "execution_count": 10,
   "metadata": {},
   "outputs": [],
   "source": [
    "df['data_rozpoczecia'] = pd.to_datetime(df['data_rozpoczecia'])\n",
    "df['data_rozpoczecia_rok'] = df['data_rozpoczecia'].dt.year\n",
    "df['data_rozpoczecia_miesiac'] = df['data_rozpoczecia'].dt.month\n",
    "df = df.drop(['data_rozpoczecia'], axis=1)"
   ]
  },
  {
   "cell_type": "code",
   "execution_count": 9,
   "metadata": {},
   "outputs": [],
   "source": [
    "#le_status = preprocessing.LabelEncoder()\n",
    "#df['status'] = le_status.fit_transform(df['status'])"
   ]
  },
  {
   "cell_type": "code",
   "execution_count": 10,
   "metadata": {},
   "outputs": [
    {
     "data": {
      "text/plain": [
       "['AKTYWNY', 'WYKRESLONY', 'ZAWIESZONY']"
      ]
     },
     "execution_count": 10,
     "metadata": {},
     "output_type": "execute_result"
    }
   ],
   "source": [
    "#list(le_status.classes_)"
   ]
  },
  {
   "cell_type": "code",
   "execution_count": 11,
   "metadata": {},
   "outputs": [],
   "source": [
    "df = df.drop(['status'], axis=1)"
   ]
  },
  {
   "cell_type": "code",
   "execution_count": 12,
   "metadata": {},
   "outputs": [],
   "source": [
    "le_gminy = preprocessing.LabelEncoder()\n",
    "le_miasta = preprocessing.LabelEncoder()\n",
    "df['adres_gmina'] = le_gminy.fit_transform(df['adresDzialanosci_gmina'])\n",
    "df['adres_miasto'] = le_miasta.fit_transform(df['adresDzialanosci_miasto'])\n",
    "df = df.drop(['adresDzialanosci_gmina', 'adresDzialanosci_miasto'], axis=1)"
   ]
  },
  {
   "cell_type": "code",
   "execution_count": 13,
   "metadata": {},
   "outputs": [
    {
     "data": {
      "text/html": [
       "<div>\n",
       "<style scoped>\n",
       "    .dataframe tbody tr th:only-of-type {\n",
       "        vertical-align: middle;\n",
       "    }\n",
       "\n",
       "    .dataframe tbody tr th {\n",
       "        vertical-align: top;\n",
       "    }\n",
       "\n",
       "    .dataframe thead th {\n",
       "        text-align: right;\n",
       "    }\n",
       "</style>\n",
       "<table border=\"1\" class=\"dataframe\">\n",
       "  <thead>\n",
       "    <tr style=\"text-align: right;\">\n",
       "      <th></th>\n",
       "      <th>2712Z</th>\n",
       "      <th>2790Z</th>\n",
       "      <th>2841Z</th>\n",
       "      <th>2899Z</th>\n",
       "      <th>3312Z</th>\n",
       "      <th>3320Z</th>\n",
       "      <th>4321Z</th>\n",
       "      <th>pkd_total</th>\n",
       "      <th>zamkniete_przez_covid</th>\n",
       "      <th>data_rozpoczecia_rok</th>\n",
       "      <th>data_rozpoczecia_miesiac</th>\n",
       "      <th>adres_gmina</th>\n",
       "      <th>adres_miasto</th>\n",
       "    </tr>\n",
       "  </thead>\n",
       "  <tbody>\n",
       "    <tr>\n",
       "      <th>8895</th>\n",
       "      <td>0</td>\n",
       "      <td>0</td>\n",
       "      <td>0</td>\n",
       "      <td>1</td>\n",
       "      <td>0</td>\n",
       "      <td>0</td>\n",
       "      <td>0</td>\n",
       "      <td>13</td>\n",
       "      <td>0</td>\n",
       "      <td>2018</td>\n",
       "      <td>5</td>\n",
       "      <td>244</td>\n",
       "      <td>554</td>\n",
       "    </tr>\n",
       "    <tr>\n",
       "      <th>41068</th>\n",
       "      <td>0</td>\n",
       "      <td>0</td>\n",
       "      <td>0</td>\n",
       "      <td>0</td>\n",
       "      <td>0</td>\n",
       "      <td>1</td>\n",
       "      <td>1</td>\n",
       "      <td>138</td>\n",
       "      <td>0</td>\n",
       "      <td>1992</td>\n",
       "      <td>4</td>\n",
       "      <td>98</td>\n",
       "      <td>802</td>\n",
       "    </tr>\n",
       "    <tr>\n",
       "      <th>22239</th>\n",
       "      <td>0</td>\n",
       "      <td>0</td>\n",
       "      <td>0</td>\n",
       "      <td>0</td>\n",
       "      <td>0</td>\n",
       "      <td>0</td>\n",
       "      <td>1</td>\n",
       "      <td>71</td>\n",
       "      <td>1</td>\n",
       "      <td>2008</td>\n",
       "      <td>8</td>\n",
       "      <td>160</td>\n",
       "      <td>1239</td>\n",
       "    </tr>\n",
       "  </tbody>\n",
       "</table>\n",
       "</div>"
      ],
      "text/plain": [
       "       2712Z  2790Z  2841Z  2899Z  3312Z  3320Z  4321Z  pkd_total  \\\n",
       "8895       0      0      0      1      0      0      0         13   \n",
       "41068      0      0      0      0      0      1      1        138   \n",
       "22239      0      0      0      0      0      0      1         71   \n",
       "\n",
       "       zamkniete_przez_covid  data_rozpoczecia_rok  data_rozpoczecia_miesiac  \\\n",
       "8895                       0                  2018                         5   \n",
       "41068                      0                  1992                         4   \n",
       "22239                      1                  2008                         8   \n",
       "\n",
       "       adres_gmina  adres_miasto  \n",
       "8895           244           554  \n",
       "41068           98           802  \n",
       "22239          160          1239  "
      ]
     },
     "execution_count": 13,
     "metadata": {},
     "output_type": "execute_result"
    }
   ],
   "source": [
    "df.sample(3)"
   ]
  },
  {
   "cell_type": "code",
   "execution_count": 27,
   "metadata": {},
   "outputs": [],
   "source": [
    "ilosc_firm_w_miescie = df['adres_miasto'].value_counts()\n",
    "ilosc_firm_w_gminie = df['adres_gmina'].value_counts()\n",
    "\n",
    "df['ilosc_firm_w_miescie'] = df['adres_miasto'].map(ilosc_firm_w_miescie)\n",
    "df['ilosc_firm_w_gminie'] = df['adres_gmina'].map(ilosc_firm_w_gminie)"
   ]
  },
  {
   "cell_type": "code",
   "execution_count": 29,
   "metadata": {},
   "outputs": [
    {
     "data": {
      "text/html": [
       "<div>\n",
       "<style scoped>\n",
       "    .dataframe tbody tr th:only-of-type {\n",
       "        vertical-align: middle;\n",
       "    }\n",
       "\n",
       "    .dataframe tbody tr th {\n",
       "        vertical-align: top;\n",
       "    }\n",
       "\n",
       "    .dataframe thead th {\n",
       "        text-align: right;\n",
       "    }\n",
       "</style>\n",
       "<table border=\"1\" class=\"dataframe\">\n",
       "  <thead>\n",
       "    <tr style=\"text-align: right;\">\n",
       "      <th></th>\n",
       "      <th>2712Z</th>\n",
       "      <th>2790Z</th>\n",
       "      <th>2841Z</th>\n",
       "      <th>2899Z</th>\n",
       "      <th>3312Z</th>\n",
       "      <th>3320Z</th>\n",
       "      <th>4321Z</th>\n",
       "      <th>pkd_total</th>\n",
       "      <th>zamkniete_przez_covid</th>\n",
       "      <th>data_rozpoczecia_rok</th>\n",
       "      <th>data_rozpoczecia_miesiac</th>\n",
       "      <th>adres_gmina</th>\n",
       "      <th>adres_miasto</th>\n",
       "      <th>ilosc_firm_w_miescie</th>\n",
       "      <th>ilosc_firm_w_gminie</th>\n",
       "    </tr>\n",
       "  </thead>\n",
       "  <tbody>\n",
       "    <tr>\n",
       "      <th>32024</th>\n",
       "      <td>0</td>\n",
       "      <td>0</td>\n",
       "      <td>0</td>\n",
       "      <td>0</td>\n",
       "      <td>0</td>\n",
       "      <td>0</td>\n",
       "      <td>1</td>\n",
       "      <td>18</td>\n",
       "      <td>0</td>\n",
       "      <td>2008</td>\n",
       "      <td>4</td>\n",
       "      <td>251</td>\n",
       "      <td>1958</td>\n",
       "      <td>528</td>\n",
       "      <td>1140</td>\n",
       "    </tr>\n",
       "    <tr>\n",
       "      <th>24973</th>\n",
       "      <td>0</td>\n",
       "      <td>0</td>\n",
       "      <td>0</td>\n",
       "      <td>0</td>\n",
       "      <td>0</td>\n",
       "      <td>0</td>\n",
       "      <td>1</td>\n",
       "      <td>33</td>\n",
       "      <td>0</td>\n",
       "      <td>2019</td>\n",
       "      <td>12</td>\n",
       "      <td>22</td>\n",
       "      <td>626</td>\n",
       "      <td>63</td>\n",
       "      <td>195</td>\n",
       "    </tr>\n",
       "    <tr>\n",
       "      <th>41922</th>\n",
       "      <td>1</td>\n",
       "      <td>1</td>\n",
       "      <td>0</td>\n",
       "      <td>0</td>\n",
       "      <td>1</td>\n",
       "      <td>1</td>\n",
       "      <td>0</td>\n",
       "      <td>160</td>\n",
       "      <td>0</td>\n",
       "      <td>2012</td>\n",
       "      <td>6</td>\n",
       "      <td>102</td>\n",
       "      <td>802</td>\n",
       "      <td>12962</td>\n",
       "      <td>1146</td>\n",
       "    </tr>\n",
       "  </tbody>\n",
       "</table>\n",
       "</div>"
      ],
      "text/plain": [
       "       2712Z  2790Z  2841Z  2899Z  3312Z  3320Z  4321Z  pkd_total  \\\n",
       "32024      0      0      0      0      0      0      1         18   \n",
       "24973      0      0      0      0      0      0      1         33   \n",
       "41922      1      1      0      0      1      1      0        160   \n",
       "\n",
       "       zamkniete_przez_covid  data_rozpoczecia_rok  data_rozpoczecia_miesiac  \\\n",
       "32024                      0                  2008                         4   \n",
       "24973                      0                  2019                        12   \n",
       "41922                      0                  2012                         6   \n",
       "\n",
       "       adres_gmina  adres_miasto  ilosc_firm_w_miescie  ilosc_firm_w_gminie  \n",
       "32024          251          1958                   528                 1140  \n",
       "24973           22           626                    63                  195  \n",
       "41922          102           802                 12962                 1146  "
      ]
     },
     "execution_count": 29,
     "metadata": {},
     "output_type": "execute_result"
    }
   ],
   "source": [
    "df.sample(3)"
   ]
  },
  {
   "cell_type": "code",
   "execution_count": 35,
   "metadata": {},
   "outputs": [
    {
     "data": {
      "text/plain": [
       "<AxesSubplot:xlabel='data_rozpoczecia_miesiac'>"
      ]
     },
     "execution_count": 35,
     "metadata": {},
     "output_type": "execute_result"
    },
    {
     "data": {
      "image/png": "[encoded data removed]",
      "text/plain": [
       "<Figure size 432x288 with 1 Axes>"
      ]
     },
     "metadata": {
      "needs_background": "light"
     },
     "output_type": "display_data"
    }
   ],
   "source": [
    "df.groupby(['data_rozpoczecia_miesiac'])['data_rozpoczecia_miesiac'].count().plot()"
   ]
  },
  {
   "cell_type": "code",
   "execution_count": 36,
   "metadata": {},
   "outputs": [
    {
     "data": {
      "text/plain": [
       "<AxesSubplot:ylabel='PKD'>"
      ]
     },
     "execution_count": 36,
     "metadata": {},
     "output_type": "execute_result"
    },
    {
     "data": {
      "image/png": "[encoded data removed]",
      "text/plain": [
       "<Figure size 432x432 with 1 Axes>"
      ]
     },
     "metadata": {},
     "output_type": "display_data"
    }
   ],
   "source": [
    "sums = df.sum()\n",
    "sums = sums[:6]\n",
    "sums.plot.pie(figsize=(6,6), ylabel='PKD')"
   ]
  },
  {
   "cell_type": "code",
   "execution_count": 37,
   "metadata": {},
   "outputs": [],
   "source": [
    "import seaborn as sns"
   ]
  },
  {
   "cell_type": "code",
   "execution_count": 38,
   "metadata": {},
   "outputs": [
    {
     "data": {
      "image/png": "[encoded data removed]",
      "text/plain": [
       "<Figure size 792x648 with 2 Axes>"
      ]
     },
     "metadata": {
      "needs_background": "light"
     },
     "output_type": "display_data"
    },
    {
     "data": {
      "text/html": [
       "<div>\n",
       "<style scoped>\n",
       "    .dataframe tbody tr th:only-of-type {\n",
       "        vertical-align: middle;\n",
       "    }\n",
       "\n",
       "    .dataframe tbody tr th {\n",
       "        vertical-align: top;\n",
       "    }\n",
       "\n",
       "    .dataframe thead th {\n",
       "        text-align: right;\n",
       "    }\n",
       "</style>\n",
       "<table border=\"1\" class=\"dataframe\">\n",
       "  <thead>\n",
       "    <tr style=\"text-align: right;\">\n",
       "      <th></th>\n",
       "      <th>2712Z</th>\n",
       "      <th>2790Z</th>\n",
       "      <th>2841Z</th>\n",
       "      <th>2899Z</th>\n",
       "      <th>3312Z</th>\n",
       "      <th>3320Z</th>\n",
       "      <th>4321Z</th>\n",
       "    </tr>\n",
       "  </thead>\n",
       "  <tbody>\n",
       "    <tr>\n",
       "      <th>2712Z</th>\n",
       "      <td>1.000000</td>\n",
       "      <td>0.475053</td>\n",
       "      <td>0.242814</td>\n",
       "      <td>0.236008</td>\n",
       "      <td>0.105552</td>\n",
       "      <td>0.189679</td>\n",
       "      <td>0.015598</td>\n",
       "    </tr>\n",
       "    <tr>\n",
       "      <th>2790Z</th>\n",
       "      <td>0.475053</td>\n",
       "      <td>1.000000</td>\n",
       "      <td>0.257839</td>\n",
       "      <td>0.268165</td>\n",
       "      <td>0.106186</td>\n",
       "      <td>0.178492</td>\n",
       "      <td>-0.040840</td>\n",
       "    </tr>\n",
       "    <tr>\n",
       "      <th>2841Z</th>\n",
       "      <td>0.242814</td>\n",
       "      <td>0.257839</td>\n",
       "      <td>1.000000</td>\n",
       "      <td>0.406760</td>\n",
       "      <td>0.144354</td>\n",
       "      <td>0.149784</td>\n",
       "      <td>-0.084343</td>\n",
       "    </tr>\n",
       "    <tr>\n",
       "      <th>2899Z</th>\n",
       "      <td>0.236008</td>\n",
       "      <td>0.268165</td>\n",
       "      <td>0.406760</td>\n",
       "      <td>1.000000</td>\n",
       "      <td>0.147911</td>\n",
       "      <td>0.191575</td>\n",
       "      <td>-0.119285</td>\n",
       "    </tr>\n",
       "    <tr>\n",
       "      <th>3312Z</th>\n",
       "      <td>0.105552</td>\n",
       "      <td>0.106186</td>\n",
       "      <td>0.144354</td>\n",
       "      <td>0.147911</td>\n",
       "      <td>1.000000</td>\n",
       "      <td>0.382626</td>\n",
       "      <td>-0.460385</td>\n",
       "    </tr>\n",
       "    <tr>\n",
       "      <th>3320Z</th>\n",
       "      <td>0.189679</td>\n",
       "      <td>0.178492</td>\n",
       "      <td>0.149784</td>\n",
       "      <td>0.191575</td>\n",
       "      <td>0.382626</td>\n",
       "      <td>1.000000</td>\n",
       "      <td>-0.223316</td>\n",
       "    </tr>\n",
       "    <tr>\n",
       "      <th>4321Z</th>\n",
       "      <td>0.015598</td>\n",
       "      <td>-0.040840</td>\n",
       "      <td>-0.084343</td>\n",
       "      <td>-0.119285</td>\n",
       "      <td>-0.460385</td>\n",
       "      <td>-0.223316</td>\n",
       "      <td>1.000000</td>\n",
       "    </tr>\n",
       "  </tbody>\n",
       "</table>\n",
       "</div>"
      ],
      "text/plain": [
       "          2712Z     2790Z     2841Z     2899Z     3312Z     3320Z     4321Z\n",
       "2712Z  1.000000  0.475053  0.242814  0.236008  0.105552  0.189679  0.015598\n",
       "2790Z  0.475053  1.000000  0.257839  0.268165  0.106186  0.178492 -0.040840\n",
       "2841Z  0.242814  0.257839  1.000000  0.406760  0.144354  0.149784 -0.084343\n",
       "2899Z  0.236008  0.268165  0.406760  1.000000  0.147911  0.191575 -0.119285\n",
       "3312Z  0.105552  0.106186  0.144354  0.147911  1.000000  0.382626 -0.460385\n",
       "3320Z  0.189679  0.178492  0.149784  0.191575  0.382626  1.000000 -0.223316\n",
       "4321Z  0.015598 -0.040840 -0.084343 -0.119285 -0.460385 -0.223316  1.000000"
      ]
     },
     "execution_count": 38,
     "metadata": {},
     "output_type": "execute_result"
    }
   ],
   "source": [
    "pkd_correlations = df[['2712Z', '2790Z', '2841Z', '2899Z', '3312Z', '3320Z', '4321Z']]\n",
    "\n",
    "corr = pkd_correlations.corr()\n",
    "\n",
    "# Generate a mask for the upper triangle\n",
    "mask = np.zeros_like(corr, dtype=bool)\n",
    "mask[np.triu_indices_from(mask)] = True\n",
    "\n",
    "# Set up the matplotlib figure\n",
    "f, ax = plt.subplots(figsize=(11, 9))\n",
    "\n",
    "# Generate a custom diverging colormap\n",
    "cmap = sns.diverging_palette(220, 10, as_cmap=True)\n",
    "\n",
    "# Draw the heatmap with the mask and correct aspect ratio\n",
    "sns.heatmap(corr, mask=mask, cmap=cmap, vmin=-1, vmax=1,\n",
    "            square=True, xticklabels=5, yticklabels=5,\n",
    "            linewidths=.5, cbar_kws={\"shrink\": .5}, ax=ax)\n",
    "plt.show()\n",
    "corr"
   ]
  },
  {
   "cell_type": "markdown",
   "metadata": {},
   "source": [
    "# LEARNING"
   ]
  },
  {
   "cell_type": "code",
   "execution_count": 39,
   "metadata": {},
   "outputs": [],
   "source": [
    "import matplotlib.pyplot as plt\n",
    "from sklearn.model_selection import train_test_split"
   ]
  },
  {
   "cell_type": "code",
   "execution_count": 40,
   "metadata": {},
   "outputs": [],
   "source": [
    "X = df.drop(['zamkniete_przez_covid'], axis=1)\n",
    "y = df['zamkniete_przez_covid']"
   ]
  },
  {
   "cell_type": "code",
   "execution_count": 41,
   "metadata": {},
   "outputs": [
    {
     "data": {
      "image/png": "[encoded data removed]",
      "text/plain": [
       "<Figure size 432x288 with 1 Axes>"
      ]
     },
     "metadata": {
      "needs_background": "light"
     },
     "output_type": "display_data"
    }
   ],
   "source": [
    "X_train, X_test, y_train, y_test = train_test_split(X, y, test_size=0.33, random_state=42)\n",
    "\n",
    "plt.hist(y_train, alpha=0.5)\n",
    "plt.hist(y_test, alpha=0.5)\n",
    "plt.show()"
   ]
  },
  {
   "cell_type": "markdown",
   "metadata": {},
   "source": [
    "## Decision Tree"
   ]
  },
  {
   "cell_type": "code",
   "execution_count": 42,
   "metadata": {},
   "outputs": [],
   "source": [
    "from sklearn.tree import DecisionTreeClassifier"
   ]
  },
  {
   "cell_type": "code",
   "execution_count": 43,
   "metadata": {},
   "outputs": [
    {
     "name": "stdout",
     "output_type": "stream",
     "text": [
      "max_depth=1\n",
      "Accuracy on training set: 0.903\n",
      "Accuracy on test set: 0.897\n",
      "\n",
      "max_depth=2\n",
      "Accuracy on training set: 0.903\n",
      "Accuracy on test set: 0.897\n",
      "\n",
      "max_depth=3\n",
      "Accuracy on training set: 0.903\n",
      "Accuracy on test set: 0.897\n",
      "\n",
      "max_depth=4\n",
      "Accuracy on training set: 0.903\n",
      "Accuracy on test set: 0.896\n",
      "\n",
      "max_depth=5\n",
      "Accuracy on training set: 0.903\n",
      "Accuracy on test set: 0.895\n",
      "\n",
      "max_depth=6\n",
      "Accuracy on training set: 0.903\n",
      "Accuracy on test set: 0.895\n",
      "\n",
      "max_depth=7\n",
      "Accuracy on training set: 0.904\n",
      "Accuracy on test set: 0.895\n",
      "\n",
      "max_depth=8\n",
      "Accuracy on training set: 0.905\n",
      "Accuracy on test set: 0.894\n",
      "\n",
      "max_depth=9\n",
      "Accuracy on training set: 0.906\n",
      "Accuracy on test set: 0.891\n",
      "\n",
      "max_depth=10\n",
      "Accuracy on training set: 0.909\n",
      "Accuracy on test set: 0.889\n",
      "\n",
      "max_depth=11\n",
      "Accuracy on training set: 0.913\n",
      "Accuracy on test set: 0.882\n",
      "\n",
      "max_depth=12\n",
      "Accuracy on training set: 0.917\n",
      "Accuracy on test set: 0.881\n",
      "\n",
      "max_depth=13\n",
      "Accuracy on training set: 0.923\n",
      "Accuracy on test set: 0.876\n",
      "\n",
      "-------------------------------\n",
      "Best max depth=1\n",
      "Max depth best score=0.8967773497217636\n"
     ]
    }
   ],
   "source": [
    "max_depth_params = np.arange(1, 14)\n",
    "max_depth_best = 3\n",
    "max_depth_best_score = 0\n",
    "\n",
    "for max_depth_param in max_depth_params:\n",
    "    tree = DecisionTreeClassifier(max_depth=max_depth_param, random_state=0)\n",
    "    tree.fit(X_train, y_train)\n",
    "\n",
    "    test_score = tree.score(X_test, y_test)\n",
    "\n",
    "    print(f'max_depth={max_depth_param}')\n",
    "    print(\"Accuracy on training set: {:.3f}\".format(tree.score(X_train, y_train)))\n",
    "    print(\"Accuracy on test set: {:.3f}\".format(test_score))\n",
    "    print()\n",
    "\n",
    "    if test_score > max_depth_best_score:\n",
    "        max_depth_best = max_depth_param\n",
    "        max_depth_best_score = test_score\n",
    "\n",
    "print('-------------------------------')\n",
    "print(f'Best max depth={max_depth_best}')\n",
    "print(f'Max depth best score={max_depth_best_score}')\n"
   ]
  },
  {
   "cell_type": "code",
   "execution_count": 45,
   "metadata": {},
   "outputs": [
    {
     "name": "stdout",
     "output_type": "stream",
     "text": [
      "['2712Z', '2790Z', '2841Z', '2899Z', '3312Z', '3320Z', '4321Z', 'pkd_total', 'data_rozpoczecia_rok', 'data_rozpoczecia_miesiac', 'adres_gmina', 'adres_miasto', 'ilosc_firm_w_miescie', 'ilosc_firm_w_gminie']\n",
      "[0.00759424 0.00711301 0.00721593 0.00830004 0.0192976  0.02188705\n",
      " 0.01271026 0.17432119 0.14012704 0.12299706 0.11594584 0.12801284\n",
      " 0.12756145 0.10691644]\n"
     ]
    }
   ],
   "source": [
    "objects = list(df.drop(['zamkniete_przez_covid'], axis=1).columns)\n",
    "\n",
    "y_pos = np.arange(len(objects))\n",
    "performance = tree.feature_importances_\n",
    "\n",
    "print(objects)\n",
    "print(performance)"
   ]
  },
  {
   "cell_type": "code",
   "execution_count": 46,
   "metadata": {},
   "outputs": [
    {
     "data": {
      "image/png": "[encoded data removed]",
      "text/plain": [
       "<Figure size 432x288 with 1 Axes>"
      ]
     },
     "metadata": {
      "needs_background": "light"
     },
     "output_type": "display_data"
    }
   ],
   "source": [
    "plt.xlabel('Feature importance')\n",
    "plt.ylabel('Feature')\n",
    "plt.barh(y_pos, performance, align='center')\n",
    "plt.yticks(y_pos, objects)\n",
    "plt.show()"
   ]
  },
  {
   "cell_type": "markdown",
   "metadata": {},
   "source": [
    "## Random forest"
   ]
  },
  {
   "cell_type": "code",
   "execution_count": 47,
   "metadata": {},
   "outputs": [],
   "source": [
    "from sklearn.ensemble import RandomForestClassifier"
   ]
  },
  {
   "cell_type": "code",
   "execution_count": 48,
   "metadata": {},
   "outputs": [
    {
     "name": "stdout",
     "output_type": "stream",
     "text": [
      "Accuracy on training set: 0.923\n",
      "Accuracy on test set: 0.876\n"
     ]
    }
   ],
   "source": [
    "random_forest = RandomForestClassifier(n_estimators=50, max_leaf_nodes=2, n_jobs=-1, random_state=42)\n",
    "random_forest.fit(X_train, y_train)\n",
    "\n",
    "print(\"Accuracy on training set: {:.3f}\".format(tree.score(X_train, y_train)))\n",
    "print(\"Accuracy on test set: {:.3f}\".format(test_score))"
   ]
  },
  {
   "cell_type": "code",
   "execution_count": 49,
   "metadata": {},
   "outputs": [
    {
     "name": "stdout",
     "output_type": "stream",
     "text": [
      "{'n_estimators': [200, 400, 600, 800, 1000, 1200, 1400, 1600, 1800, 2000], 'max_features': ['auto', 'sqrt'], 'max_depth': [10, 20, 30, 40, 50, 60, 70, 80, 90, 100, 110, None], 'min_samples_split': [2, 5, 10], 'min_samples_leaf': [1, 2, 4], 'bootstrap': [True, False]}\n"
     ]
    }
   ],
   "source": [
    "from sklearn.model_selection import RandomizedSearchCV\n",
    "# Number of trees in random forest\n",
    "n_estimators = [int(x) for x in np.linspace(start = 200, stop = 2000, num = 10)]\n",
    "# Number of features to consider at every split\n",
    "max_features = ['auto', 'sqrt']\n",
    "# Maximum number of levels in tree\n",
    "max_depth = [int(x) for x in np.linspace(10, 110, num = 11)]\n",
    "max_depth.append(None)\n",
    "# Minimum number of samples required to split a node\n",
    "min_samples_split = [2, 5, 10]\n",
    "# Minimum number of samples required at each leaf node\n",
    "min_samples_leaf = [1, 2, 4]\n",
    "# Method of selecting samples for training each tree\n",
    "bootstrap = [True, False]\n",
    "# Create the random grid\n",
    "random_grid = {'n_estimators': n_estimators,\n",
    "               'max_features': max_features,\n",
    "               'max_depth': max_depth,\n",
    "               'min_samples_split': min_samples_split,\n",
    "               'min_samples_leaf': min_samples_leaf,\n",
    "               'bootstrap': bootstrap}\n",
    "print(random_grid)"
   ]
  },
  {
   "cell_type": "code",
   "execution_count": 50,
   "metadata": {},
   "outputs": [],
   "source": [
    "from sklearn.ensemble import RandomForestRegressor"
   ]
  },
  {
   "cell_type": "code",
   "execution_count": 51,
   "metadata": {},
   "outputs": [
    {
     "name": "stdout",
     "output_type": "stream",
     "text": [
      "Fitting 3 folds for each of 100 candidates, totalling 300 fits\n"
     ]
    },
    {
     "data": {
      "text/plain": [
       "RandomizedSearchCV(cv=3, estimator=RandomForestRegressor(), n_iter=100,\n",
       "                   n_jobs=-1,\n",
       "                   param_distributions={'bootstrap': [True, False],\n",
       "                                        'max_depth': [10, 20, 30, 40, 50, 60,\n",
       "                                                      70, 80, 90, 100, 110,\n",
       "                                                      None],\n",
       "                                        'max_features': ['auto', 'sqrt'],\n",
       "                                        'min_samples_leaf': [1, 2, 4],\n",
       "                                        'min_samples_split': [2, 5, 10],\n",
       "                                        'n_estimators': [200, 400, 600, 800,\n",
       "                                                         1000, 1200, 1400, 1600,\n",
       "                                                         1800, 2000]},\n",
       "                   random_state=42, verbose=2)"
      ]
     },
     "execution_count": 51,
     "metadata": {},
     "output_type": "execute_result"
    }
   ],
   "source": [
    "# Use the random grid to search for best hyperparameters\n",
    "# First create the base model to tune\n",
    "rf = RandomForestRegressor()\n",
    "# Random search of parameters, using 3 fold cross validation, \n",
    "# search across 100 different combinations, and use all available cores\n",
    "rf_random = RandomizedSearchCV(estimator = rf, param_distributions = random_grid, n_iter = 100, cv = 3, verbose=2, random_state=42, n_jobs = -1)\n",
    "# Fit the random search model\n",
    "rf_random.fit(X_train, y_train)"
   ]
  },
  {
   "cell_type": "code",
   "execution_count": 52,
   "metadata": {},
   "outputs": [
    {
     "data": {
      "text/plain": [
       "{'n_estimators': 2000,\n",
       " 'min_samples_split': 5,\n",
       " 'min_samples_leaf': 1,\n",
       " 'max_features': 'sqrt',\n",
       " 'max_depth': 10,\n",
       " 'bootstrap': True}"
      ]
     },
     "execution_count": 52,
     "metadata": {},
     "output_type": "execute_result"
    }
   ],
   "source": [
    "rf_random.best_params_"
   ]
  },
  {
   "cell_type": "code",
   "execution_count": null,
   "metadata": {},
   "outputs": [],
   "source": []
  }
 ],
 "metadata": {
  "interpreter": {
   "hash": "f0cf854484826becf69b9363a35f769a3f32573db803431254cc95fc20fb81b2"
  },
  "kernelspec": {
   "display_name": "Python 3.10.0 64-bit",
   "language": "python",
   "name": "python3"
  },
  "language_info": {
   "codemirror_mode": {
    "name": "ipython",
    "version": 3
   },
   "file_extension": ".py",
   "mimetype": "text/x-python",
   "name": "python",
   "nbconvert_exporter": "python",
   "pygments_lexer": "ipython3",
   "version": "3.10.0"
  },
  "orig_nbformat": 4
 },
 "nbformat": 4,
 "nbformat_minor": 2
}
