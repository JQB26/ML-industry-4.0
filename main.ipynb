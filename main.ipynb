{
 "cells": [
  {
   "cell_type": "code",
   "execution_count": 1,
   "metadata": {},
   "outputs": [],
   "source": [
    "import pandas as pd\n",
    "from sklearn import preprocessing"
   ]
  },
  {
   "cell_type": "code",
   "execution_count": 35,
   "metadata": {},
   "outputs": [],
   "source": [
    "df = pd.read_csv('./data/data_processed.csv')"
   ]
  },
  {
   "cell_type": "code",
   "execution_count": 36,
   "metadata": {},
   "outputs": [
    {
     "data": {
      "text/plain": [
       "Index(['adresDzialanosci_gmina', 'adresDzialanosci_miasto', '2712Z', '2790Z',\n",
       "       '2841Z', '2899Z', '3312Z', '3320Z', '4321Z', 'pkd_total',\n",
       "       'data_rozpoczecia', 'status'],\n",
       "      dtype='object')"
      ]
     },
     "execution_count": 36,
     "metadata": {},
     "output_type": "execute_result"
    }
   ],
   "source": [
    "df.columns"
   ]
  },
  {
   "cell_type": "code",
   "execution_count": 37,
   "metadata": {},
   "outputs": [
    {
     "data": {
      "text/html": [
       "<div>\n",
       "<style scoped>\n",
       "    .dataframe tbody tr th:only-of-type {\n",
       "        vertical-align: middle;\n",
       "    }\n",
       "\n",
       "    .dataframe tbody tr th {\n",
       "        vertical-align: top;\n",
       "    }\n",
       "\n",
       "    .dataframe thead th {\n",
       "        text-align: right;\n",
       "    }\n",
       "</style>\n",
       "<table border=\"1\" class=\"dataframe\">\n",
       "  <thead>\n",
       "    <tr style=\"text-align: right;\">\n",
       "      <th></th>\n",
       "      <th>adresDzialanosci_gmina</th>\n",
       "      <th>adresDzialanosci_miasto</th>\n",
       "      <th>2712Z</th>\n",
       "      <th>2790Z</th>\n",
       "      <th>2841Z</th>\n",
       "      <th>2899Z</th>\n",
       "      <th>3312Z</th>\n",
       "      <th>3320Z</th>\n",
       "      <th>4321Z</th>\n",
       "      <th>pkd_total</th>\n",
       "      <th>data_rozpoczecia</th>\n",
       "      <th>status</th>\n",
       "    </tr>\n",
       "  </thead>\n",
       "  <tbody>\n",
       "    <tr>\n",
       "      <th>12292</th>\n",
       "      <td>Wielka Wieś</td>\n",
       "      <td>Modlnica</td>\n",
       "      <td>0</td>\n",
       "      <td>0</td>\n",
       "      <td>0</td>\n",
       "      <td>0</td>\n",
       "      <td>1</td>\n",
       "      <td>0</td>\n",
       "      <td>0</td>\n",
       "      <td>23</td>\n",
       "      <td>2008-10-01</td>\n",
       "      <td>AKTYWNY</td>\n",
       "    </tr>\n",
       "  </tbody>\n",
       "</table>\n",
       "</div>"
      ],
      "text/plain": [
       "      adresDzialanosci_gmina adresDzialanosci_miasto  2712Z  2790Z  2841Z  \\\n",
       "12292            Wielka Wieś                Modlnica      0      0      0   \n",
       "\n",
       "       2899Z  3312Z  3320Z  4321Z  pkd_total data_rozpoczecia   status  \n",
       "12292      0      1      0      0         23       2008-10-01  AKTYWNY  "
      ]
     },
     "execution_count": 37,
     "metadata": {},
     "output_type": "execute_result"
    }
   ],
   "source": [
    "df.sample()"
   ]
  },
  {
   "cell_type": "code",
   "execution_count": 38,
   "metadata": {},
   "outputs": [],
   "source": [
    "df['data_rozpoczecia'] = pd.to_datetime(df['data_rozpoczecia'])\n",
    "df['data_rozpoczecia_rok'] = df['data_rozpoczecia'].dt.year\n",
    "df['data_rozpoczecia_miesiac'] = df['data_rozpoczecia'].dt.month\n",
    "df = df.drop(['data_rozpoczecia'], axis=1)"
   ]
  },
  {
   "cell_type": "code",
   "execution_count": 39,
   "metadata": {},
   "outputs": [],
   "source": [
    "le_status = preprocessing.LabelEncoder()\n",
    "df['status'] = le_status.fit_transform(df['status'])"
   ]
  },
  {
   "cell_type": "code",
   "execution_count": 40,
   "metadata": {},
   "outputs": [
    {
     "data": {
      "text/plain": [
       "['AKTYWNY', 'WYKRESLONY', 'ZAWIESZONY']"
      ]
     },
     "execution_count": 40,
     "metadata": {},
     "output_type": "execute_result"
    }
   ],
   "source": [
    "list(le_status.classes_)"
   ]
  },
  {
   "cell_type": "code",
   "execution_count": 41,
   "metadata": {},
   "outputs": [],
   "source": [
    "le_gminy = preprocessing.LabelEncoder()\n",
    "le_miasta = preprocessing.LabelEncoder()\n",
    "df['adres_gmina'] = le_gminy.fit_transform(df['adresDzialanosci_gmina'])\n",
    "df['adres_miasto'] = le_miasta.fit_transform(df['adresDzialanosci_miasto'])\n",
    "df = df.drop(['adresDzialanosci_gmina', 'adresDzialanosci_miasto'], axis=1)"
   ]
  },
  {
   "cell_type": "code",
   "execution_count": 42,
   "metadata": {},
   "outputs": [
    {
     "data": {
      "text/html": [
       "<div>\n",
       "<style scoped>\n",
       "    .dataframe tbody tr th:only-of-type {\n",
       "        vertical-align: middle;\n",
       "    }\n",
       "\n",
       "    .dataframe tbody tr th {\n",
       "        vertical-align: top;\n",
       "    }\n",
       "\n",
       "    .dataframe thead th {\n",
       "        text-align: right;\n",
       "    }\n",
       "</style>\n",
       "<table border=\"1\" class=\"dataframe\">\n",
       "  <thead>\n",
       "    <tr style=\"text-align: right;\">\n",
       "      <th></th>\n",
       "      <th>2712Z</th>\n",
       "      <th>2790Z</th>\n",
       "      <th>2841Z</th>\n",
       "      <th>2899Z</th>\n",
       "      <th>3312Z</th>\n",
       "      <th>3320Z</th>\n",
       "      <th>4321Z</th>\n",
       "      <th>pkd_total</th>\n",
       "      <th>status</th>\n",
       "      <th>data_rozpoczecia_rok</th>\n",
       "      <th>data_rozpoczecia_miesiac</th>\n",
       "      <th>adres_gmina</th>\n",
       "      <th>adres_miasto</th>\n",
       "    </tr>\n",
       "  </thead>\n",
       "  <tbody>\n",
       "    <tr>\n",
       "      <th>48757</th>\n",
       "      <td>0</td>\n",
       "      <td>0</td>\n",
       "      <td>0</td>\n",
       "      <td>0</td>\n",
       "      <td>0</td>\n",
       "      <td>0</td>\n",
       "      <td>1</td>\n",
       "      <td>55</td>\n",
       "      <td>1</td>\n",
       "      <td>2011</td>\n",
       "      <td>5</td>\n",
       "      <td>99</td>\n",
       "      <td>840</td>\n",
       "    </tr>\n",
       "    <tr>\n",
       "      <th>59818</th>\n",
       "      <td>0</td>\n",
       "      <td>0</td>\n",
       "      <td>0</td>\n",
       "      <td>0</td>\n",
       "      <td>1</td>\n",
       "      <td>0</td>\n",
       "      <td>0</td>\n",
       "      <td>10</td>\n",
       "      <td>0</td>\n",
       "      <td>2018</td>\n",
       "      <td>6</td>\n",
       "      <td>103</td>\n",
       "      <td>840</td>\n",
       "    </tr>\n",
       "    <tr>\n",
       "      <th>31275</th>\n",
       "      <td>0</td>\n",
       "      <td>0</td>\n",
       "      <td>0</td>\n",
       "      <td>0</td>\n",
       "      <td>0</td>\n",
       "      <td>0</td>\n",
       "      <td>1</td>\n",
       "      <td>18</td>\n",
       "      <td>0</td>\n",
       "      <td>2013</td>\n",
       "      <td>2</td>\n",
       "      <td>112</td>\n",
       "      <td>2384</td>\n",
       "    </tr>\n",
       "  </tbody>\n",
       "</table>\n",
       "</div>"
      ],
      "text/plain": [
       "       2712Z  2790Z  2841Z  2899Z  3312Z  3320Z  4321Z  pkd_total  status  \\\n",
       "48757      0      0      0      0      0      0      1         55       1   \n",
       "59818      0      0      0      0      1      0      0         10       0   \n",
       "31275      0      0      0      0      0      0      1         18       0   \n",
       "\n",
       "       data_rozpoczecia_rok  data_rozpoczecia_miesiac  adres_gmina  \\\n",
       "48757                  2011                         5           99   \n",
       "59818                  2018                         6          103   \n",
       "31275                  2013                         2          112   \n",
       "\n",
       "       adres_miasto  \n",
       "48757           840  \n",
       "59818           840  \n",
       "31275          2384  "
      ]
     },
     "execution_count": 42,
     "metadata": {},
     "output_type": "execute_result"
    }
   ],
   "source": [
    "df.sample(3)"
   ]
  },
  {
   "cell_type": "markdown",
   "metadata": {},
   "source": [
    "# LEARNING"
   ]
  },
  {
   "cell_type": "code",
   "execution_count": 45,
   "metadata": {},
   "outputs": [],
   "source": [
    "import matplotlib.pyplot as plt\n",
    "from sklearn.model_selection import train_test_split"
   ]
  },
  {
   "cell_type": "code",
   "execution_count": 46,
   "metadata": {},
   "outputs": [],
   "source": [
    "X = df.drop(['status'], axis=1)\n",
    "y = df['status']"
   ]
  },
  {
   "cell_type": "code",
   "execution_count": 47,
   "metadata": {},
   "outputs": [
    {
     "data": {
      "image/png": "[encoded data removed]",
      "text/plain": [
       "<Figure size 432x288 with 1 Axes>"
      ]
     },
     "metadata": {
      "needs_background": "light"
     },
     "output_type": "display_data"
    }
   ],
   "source": [
    "X_train, X_test, y_train, y_test = train_test_split(X, y, test_size=0.33, random_state=42)\n",
    "\n",
    "plt.hist(y_train, alpha=0.5)\n",
    "plt.hist(y_test, alpha=0.5)\n",
    "plt.show()"
   ]
  },
  {
   "cell_type": "code",
   "execution_count": null,
   "metadata": {},
   "outputs": [],
   "source": []
  }
 ],
 "metadata": {
  "interpreter": {
   "hash": "f0cf854484826becf69b9363a35f769a3f32573db803431254cc95fc20fb81b2"
  },
  "kernelspec": {
   "display_name": "Python 3.10.0 64-bit",
   "language": "python",
   "name": "python3"
  },
  "language_info": {
   "codemirror_mode": {
    "name": "ipython",
    "version": 3
   },
   "file_extension": ".py",
   "mimetype": "text/x-python",
   "name": "python",
   "nbconvert_exporter": "python",
   "pygments_lexer": "ipython3",
   "version": "3.10.0"
  },
  "orig_nbformat": 4
 },
 "nbformat": 4,
 "nbformat_minor": 2
}
